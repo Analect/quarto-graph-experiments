{
  "cells": [
    {
      "cell_type": "raw",
      "metadata": {
        "vscode": {
          "languageId": "raw"
        }
      },
      "source": [
        "---\n",
        "title: \"Kuzu - Export Query Results to NetworkX\"\n",
        "subtitle: \"\"\n",
        "description: |\n",
        "  * [Kùzu Learning Resources](https://docs.kuzudb.com/tutorials/#python).\n",
        "  * [Colab Notebook](https://github.com/run-llama/llama_index/blob/main/docs/docs/examples/index_structs/knowledge_graph/KuzuGraphDemo.ipynb)\n",
        "\n",
        "categories: [kuzu, networkx, yfiles]\n",
        "author: \"Kuzu docs\"\n",
        "date: 2024-06-26\n",
        "format: live-html\n",
        "toc: true\n",
        "pyodide:\n",
        "  packages:\n",
        "   - https://cdn.jsdelivr.net/pyodide/v0.26.1/full/decorator-5.1.1-py3-none-any.whl\n",
        "execute:\n",
        "  freeze: auto\n",
        "  eval: false\n",
        "code-copy: hover\n",
        "editor_options:\n",
        "  markdown:\n",
        "    wrap: sentence\n",
        "    canonical: true\n",
        "---"
      ]
    },
    {
      "cell_type": "markdown",
      "metadata": {
        "id": "AkpBul7ZpUM5"
      },
      "source": [
        "# Overview & Goals\n",
        "\n",
        "One of the overarching goals of Kùzu is to function as the go-to graph database for data science use cases. NetworkX is a popular library in Python for graph algorithms and data science. In this notebook, we demonstrate Kùzu's ease of use in exporting subgraphs to the NetworkX format using the `get_as_networkx()` function. In addition, the following two capabilities are demonstrated.\n",
        "\n",
        "* Graph Visualization: In the first part, we simply draw the nodes and edges in the results using NetworkX.\n",
        "*  PageRank: In the second part, we compute PageRank on an extracted subgraph of nodes and edges; store these values back in Kùzu's node tables and query them.\n",
        "\n",
        "## MovieLens Dataset\n",
        "We will be working on the popular MovieLens dataset from [GroupLens](https://grouplens.org/datasets/movielens/). The schema of the dataset is illustrated as below:\n",
        "\n",
        "<img src=\"https://kuzudb.com/data/movie-lens/schema.png\" width=\"500px\">\n",
        "\n",
        "We use the small version of the dataset, which contains 610 `user` nodes, 9724 `movie` nodes, 100863 `rates` edges, and 3684 `tags` edges."
      ]
    },
    {
      "cell_type": "markdown",
      "metadata": {
        "id": "kfM-zwuMpdAg"
      },
      "source": [
        "Necessary Package Installations and Imports\n",
        "\n",
        "\n",
        "\n"
      ]
    },
    {
      "cell_type": "code",
      "execution_count": null,
      "metadata": {
        "colab": {
          "base_uri": "https://localhost:8080/"
        },
        "id": "fV-Gkw8wVK-_",
        "outputId": "6e0a3bf3-4b7e-4735-db96-5244ee442ddb"
      },
      "outputs": [
        {
          "name": "stdout",
          "output_type": "stream",
          "text": [
            "Requirement already satisfied: kuzu in /usr/local/lib/python3.10/dist-packages (0.3.1)\n",
            "Requirement already satisfied: scipy in /usr/local/lib/python3.10/dist-packages (1.11.4)\n",
            "Requirement already satisfied: networkx in /usr/local/lib/python3.10/dist-packages (3.2.1)\n",
            "Requirement already satisfied: pandas in /usr/local/lib/python3.10/dist-packages (1.5.3)\n",
            "Requirement already satisfied: numpy<1.28.0,>=1.21.6 in /usr/local/lib/python3.10/dist-packages (from scipy) (1.25.2)\n",
            "Requirement already satisfied: python-dateutil>=2.8.1 in /usr/local/lib/python3.10/dist-packages (from pandas) (2.8.2)\n",
            "Requirement already satisfied: pytz>=2020.1 in /usr/local/lib/python3.10/dist-packages (from pandas) (2023.4)\n",
            "Requirement already satisfied: six>=1.5 in /usr/local/lib/python3.10/dist-packages (from python-dateutil>=2.8.1->pandas) (1.16.0)\n",
            "Requirement already satisfied: matplotlib in /usr/local/lib/python3.10/dist-packages (3.7.1)\n",
            "Requirement already satisfied: ipywidgets in /usr/local/lib/python3.10/dist-packages (7.7.1)\n",
            "Requirement already satisfied: yfiles-jupyter-graphs in /usr/local/lib/python3.10/dist-packages (1.6.1)\n",
            "Requirement already satisfied: contourpy>=1.0.1 in /usr/local/lib/python3.10/dist-packages (from matplotlib) (1.2.0)\n",
            "Requirement already satisfied: cycler>=0.10 in /usr/local/lib/python3.10/dist-packages (from matplotlib) (0.12.1)\n",
            "Requirement already satisfied: fonttools>=4.22.0 in /usr/local/lib/python3.10/dist-packages (from matplotlib) (4.49.0)\n",
            "Requirement already satisfied: kiwisolver>=1.0.1 in /usr/local/lib/python3.10/dist-packages (from matplotlib) (1.4.5)\n",
            "Requirement already satisfied: numpy>=1.20 in /usr/local/lib/python3.10/dist-packages (from matplotlib) (1.25.2)\n",
            "Requirement already satisfied: packaging>=20.0 in /usr/local/lib/python3.10/dist-packages (from matplotlib) (23.2)\n",
            "Requirement already satisfied: pillow>=6.2.0 in /usr/local/lib/python3.10/dist-packages (from matplotlib) (9.4.0)\n",
            "Requirement already satisfied: pyparsing>=2.3.1 in /usr/local/lib/python3.10/dist-packages (from matplotlib) (3.1.1)\n",
            "Requirement already satisfied: python-dateutil>=2.7 in /usr/local/lib/python3.10/dist-packages (from matplotlib) (2.8.2)\n",
            "Requirement already satisfied: ipykernel>=4.5.1 in /usr/local/lib/python3.10/dist-packages (from ipywidgets) (5.5.6)\n",
            "Requirement already satisfied: ipython-genutils~=0.2.0 in /usr/local/lib/python3.10/dist-packages (from ipywidgets) (0.2.0)\n",
            "Requirement already satisfied: traitlets>=4.3.1 in /usr/local/lib/python3.10/dist-packages (from ipywidgets) (5.7.1)\n",
            "Requirement already satisfied: widgetsnbextension~=3.6.0 in /usr/local/lib/python3.10/dist-packages (from ipywidgets) (3.6.6)\n",
            "Requirement already satisfied: ipython>=4.0.0 in /usr/local/lib/python3.10/dist-packages (from ipywidgets) (7.34.0)\n",
            "Requirement already satisfied: jupyterlab-widgets>=1.0.0 in /usr/local/lib/python3.10/dist-packages (from ipywidgets) (3.0.10)\n",
            "Requirement already satisfied: jupyter-client in /usr/local/lib/python3.10/dist-packages (from ipykernel>=4.5.1->ipywidgets) (6.1.12)\n",
            "Requirement already satisfied: tornado>=4.2 in /usr/local/lib/python3.10/dist-packages (from ipykernel>=4.5.1->ipywidgets) (6.3.3)\n",
            "Requirement already satisfied: setuptools>=18.5 in /usr/local/lib/python3.10/dist-packages (from ipython>=4.0.0->ipywidgets) (67.7.2)\n",
            "Requirement already satisfied: jedi>=0.16 in /usr/local/lib/python3.10/dist-packages (from ipython>=4.0.0->ipywidgets) (0.19.1)\n",
            "Requirement already satisfied: decorator in /usr/local/lib/python3.10/dist-packages (from ipython>=4.0.0->ipywidgets) (4.4.2)\n",
            "Requirement already satisfied: pickleshare in /usr/local/lib/python3.10/dist-packages (from ipython>=4.0.0->ipywidgets) (0.7.5)\n",
            "Requirement already satisfied: prompt-toolkit!=3.0.0,!=3.0.1,<3.1.0,>=2.0.0 in /usr/local/lib/python3.10/dist-packages (from ipython>=4.0.0->ipywidgets) (3.0.43)\n",
            "Requirement already satisfied: pygments in /usr/local/lib/python3.10/dist-packages (from ipython>=4.0.0->ipywidgets) (2.16.1)\n",
            "Requirement already satisfied: backcall in /usr/local/lib/python3.10/dist-packages (from ipython>=4.0.0->ipywidgets) (0.2.0)\n",
            "Requirement already satisfied: matplotlib-inline in /usr/local/lib/python3.10/dist-packages (from ipython>=4.0.0->ipywidgets) (0.1.6)\n",
            "Requirement already satisfied: pexpect>4.3 in /usr/local/lib/python3.10/dist-packages (from ipython>=4.0.0->ipywidgets) (4.9.0)\n",
            "Requirement already satisfied: six>=1.5 in /usr/local/lib/python3.10/dist-packages (from python-dateutil>=2.7->matplotlib) (1.16.0)\n",
            "Requirement already satisfied: notebook>=4.4.1 in /usr/local/lib/python3.10/dist-packages (from widgetsnbextension~=3.6.0->ipywidgets) (6.5.5)\n",
            "Requirement already satisfied: parso<0.9.0,>=0.8.3 in /usr/local/lib/python3.10/dist-packages (from jedi>=0.16->ipython>=4.0.0->ipywidgets) (0.8.3)\n",
            "Requirement already satisfied: jinja2 in /usr/local/lib/python3.10/dist-packages (from notebook>=4.4.1->widgetsnbextension~=3.6.0->ipywidgets) (3.1.3)\n",
            "Requirement already satisfied: pyzmq<25,>=17 in /usr/local/lib/python3.10/dist-packages (from notebook>=4.4.1->widgetsnbextension~=3.6.0->ipywidgets) (23.2.1)\n",
            "Requirement already satisfied: argon2-cffi in /usr/local/lib/python3.10/dist-packages (from notebook>=4.4.1->widgetsnbextension~=3.6.0->ipywidgets) (23.1.0)\n",
            "Requirement already satisfied: jupyter-core>=4.6.1 in /usr/local/lib/python3.10/dist-packages (from notebook>=4.4.1->widgetsnbextension~=3.6.0->ipywidgets) (5.7.1)\n",
            "Requirement already satisfied: nbformat in /usr/local/lib/python3.10/dist-packages (from notebook>=4.4.1->widgetsnbextension~=3.6.0->ipywidgets) (5.9.2)\n",
            "Requirement already satisfied: nbconvert>=5 in /usr/local/lib/python3.10/dist-packages (from notebook>=4.4.1->widgetsnbextension~=3.6.0->ipywidgets) (6.5.4)\n",
            "Requirement already satisfied: nest-asyncio>=1.5 in /usr/local/lib/python3.10/dist-packages (from notebook>=4.4.1->widgetsnbextension~=3.6.0->ipywidgets) (1.6.0)\n",
            "Requirement already satisfied: Send2Trash>=1.8.0 in /usr/local/lib/python3.10/dist-packages (from notebook>=4.4.1->widgetsnbextension~=3.6.0->ipywidgets) (1.8.2)\n",
            "Requirement already satisfied: terminado>=0.8.3 in /usr/local/lib/python3.10/dist-packages (from notebook>=4.4.1->widgetsnbextension~=3.6.0->ipywidgets) (0.18.0)\n",
            "Requirement already satisfied: prometheus-client in /usr/local/lib/python3.10/dist-packages (from notebook>=4.4.1->widgetsnbextension~=3.6.0->ipywidgets) (0.20.0)\n",
            "Requirement already satisfied: nbclassic>=0.4.7 in /usr/local/lib/python3.10/dist-packages (from notebook>=4.4.1->widgetsnbextension~=3.6.0->ipywidgets) (1.0.0)\n",
            "Requirement already satisfied: ptyprocess>=0.5 in /usr/local/lib/python3.10/dist-packages (from pexpect>4.3->ipython>=4.0.0->ipywidgets) (0.7.0)\n",
            "Requirement already satisfied: wcwidth in /usr/local/lib/python3.10/dist-packages (from prompt-toolkit!=3.0.0,!=3.0.1,<3.1.0,>=2.0.0->ipython>=4.0.0->ipywidgets) (0.2.13)\n",
            "Requirement already satisfied: platformdirs>=2.5 in /usr/local/lib/python3.10/dist-packages (from jupyter-core>=4.6.1->notebook>=4.4.1->widgetsnbextension~=3.6.0->ipywidgets) (4.2.0)\n",
            "Requirement already satisfied: jupyter-server>=1.8 in /usr/local/lib/python3.10/dist-packages (from nbclassic>=0.4.7->notebook>=4.4.1->widgetsnbextension~=3.6.0->ipywidgets) (1.24.0)\n",
            "Requirement already satisfied: notebook-shim>=0.2.3 in /usr/local/lib/python3.10/dist-packages (from nbclassic>=0.4.7->notebook>=4.4.1->widgetsnbextension~=3.6.0->ipywidgets) (0.2.4)\n",
            "Requirement already satisfied: lxml in /usr/local/lib/python3.10/dist-packages (from nbconvert>=5->notebook>=4.4.1->widgetsnbextension~=3.6.0->ipywidgets) (4.9.4)\n",
            "Requirement already satisfied: beautifulsoup4 in /usr/local/lib/python3.10/dist-packages (from nbconvert>=5->notebook>=4.4.1->widgetsnbextension~=3.6.0->ipywidgets) (4.12.3)\n",
            "Requirement already satisfied: bleach in /usr/local/lib/python3.10/dist-packages (from nbconvert>=5->notebook>=4.4.1->widgetsnbextension~=3.6.0->ipywidgets) (6.1.0)\n",
            "Requirement already satisfied: defusedxml in /usr/local/lib/python3.10/dist-packages (from nbconvert>=5->notebook>=4.4.1->widgetsnbextension~=3.6.0->ipywidgets) (0.7.1)\n",
            "Requirement already satisfied: entrypoints>=0.2.2 in /usr/local/lib/python3.10/dist-packages (from nbconvert>=5->notebook>=4.4.1->widgetsnbextension~=3.6.0->ipywidgets) (0.4)\n",
            "Requirement already satisfied: jupyterlab-pygments in /usr/local/lib/python3.10/dist-packages (from nbconvert>=5->notebook>=4.4.1->widgetsnbextension~=3.6.0->ipywidgets) (0.3.0)\n",
            "Requirement already satisfied: MarkupSafe>=2.0 in /usr/local/lib/python3.10/dist-packages (from nbconvert>=5->notebook>=4.4.1->widgetsnbextension~=3.6.0->ipywidgets) (2.1.5)\n",
            "Requirement already satisfied: mistune<2,>=0.8.1 in /usr/local/lib/python3.10/dist-packages (from nbconvert>=5->notebook>=4.4.1->widgetsnbextension~=3.6.0->ipywidgets) (0.8.4)\n",
            "Requirement already satisfied: nbclient>=0.5.0 in /usr/local/lib/python3.10/dist-packages (from nbconvert>=5->notebook>=4.4.1->widgetsnbextension~=3.6.0->ipywidgets) (0.9.0)\n",
            "Requirement already satisfied: pandocfilters>=1.4.1 in /usr/local/lib/python3.10/dist-packages (from nbconvert>=5->notebook>=4.4.1->widgetsnbextension~=3.6.0->ipywidgets) (1.5.1)\n",
            "Requirement already satisfied: tinycss2 in /usr/local/lib/python3.10/dist-packages (from nbconvert>=5->notebook>=4.4.1->widgetsnbextension~=3.6.0->ipywidgets) (1.2.1)\n",
            "Requirement already satisfied: fastjsonschema in /usr/local/lib/python3.10/dist-packages (from nbformat->notebook>=4.4.1->widgetsnbextension~=3.6.0->ipywidgets) (2.19.1)\n",
            "Requirement already satisfied: jsonschema>=2.6 in /usr/local/lib/python3.10/dist-packages (from nbformat->notebook>=4.4.1->widgetsnbextension~=3.6.0->ipywidgets) (4.19.2)\n",
            "Requirement already satisfied: argon2-cffi-bindings in /usr/local/lib/python3.10/dist-packages (from argon2-cffi->notebook>=4.4.1->widgetsnbextension~=3.6.0->ipywidgets) (21.2.0)\n",
            "Requirement already satisfied: attrs>=22.2.0 in /usr/local/lib/python3.10/dist-packages (from jsonschema>=2.6->nbformat->notebook>=4.4.1->widgetsnbextension~=3.6.0->ipywidgets) (23.2.0)\n",
            "Requirement already satisfied: jsonschema-specifications>=2023.03.6 in /usr/local/lib/python3.10/dist-packages (from jsonschema>=2.6->nbformat->notebook>=4.4.1->widgetsnbextension~=3.6.0->ipywidgets) (2023.12.1)\n",
            "Requirement already satisfied: referencing>=0.28.4 in /usr/local/lib/python3.10/dist-packages (from jsonschema>=2.6->nbformat->notebook>=4.4.1->widgetsnbextension~=3.6.0->ipywidgets) (0.33.0)\n",
            "Requirement already satisfied: rpds-py>=0.7.1 in /usr/local/lib/python3.10/dist-packages (from jsonschema>=2.6->nbformat->notebook>=4.4.1->widgetsnbextension~=3.6.0->ipywidgets) (0.18.0)\n",
            "Requirement already satisfied: anyio<4,>=3.1.0 in /usr/local/lib/python3.10/dist-packages (from jupyter-server>=1.8->nbclassic>=0.4.7->notebook>=4.4.1->widgetsnbextension~=3.6.0->ipywidgets) (3.7.1)\n",
            "Requirement already satisfied: websocket-client in /usr/local/lib/python3.10/dist-packages (from jupyter-server>=1.8->nbclassic>=0.4.7->notebook>=4.4.1->widgetsnbextension~=3.6.0->ipywidgets) (1.7.0)\n",
            "Requirement already satisfied: cffi>=1.0.1 in /usr/local/lib/python3.10/dist-packages (from argon2-cffi-bindings->argon2-cffi->notebook>=4.4.1->widgetsnbextension~=3.6.0->ipywidgets) (1.16.0)\n",
            "Requirement already satisfied: soupsieve>1.2 in /usr/local/lib/python3.10/dist-packages (from beautifulsoup4->nbconvert>=5->notebook>=4.4.1->widgetsnbextension~=3.6.0->ipywidgets) (2.5)\n",
            "Requirement already satisfied: webencodings in /usr/local/lib/python3.10/dist-packages (from bleach->nbconvert>=5->notebook>=4.4.1->widgetsnbextension~=3.6.0->ipywidgets) (0.5.1)\n",
            "Requirement already satisfied: idna>=2.8 in /usr/local/lib/python3.10/dist-packages (from anyio<4,>=3.1.0->jupyter-server>=1.8->nbclassic>=0.4.7->notebook>=4.4.1->widgetsnbextension~=3.6.0->ipywidgets) (3.6)\n",
            "Requirement already satisfied: sniffio>=1.1 in /usr/local/lib/python3.10/dist-packages (from anyio<4,>=3.1.0->jupyter-server>=1.8->nbclassic>=0.4.7->notebook>=4.4.1->widgetsnbextension~=3.6.0->ipywidgets) (1.3.1)\n",
            "Requirement already satisfied: exceptiongroup in /usr/local/lib/python3.10/dist-packages (from anyio<4,>=3.1.0->jupyter-server>=1.8->nbclassic>=0.4.7->notebook>=4.4.1->widgetsnbextension~=3.6.0->ipywidgets) (1.2.0)\n",
            "Requirement already satisfied: pycparser in /usr/local/lib/python3.10/dist-packages (from cffi>=1.0.1->argon2-cffi-bindings->argon2-cffi->notebook>=4.4.1->widgetsnbextension~=3.6.0->ipywidgets) (2.21)\n"
          ]
        }
      ],
      "source": [
        "!pip install kuzu scipy networkx pandas\n",
        "!pip install matplotlib ipywidgets yfiles-jupyter-graphs"
      ]
    },
    {
      "cell_type": "code",
      "execution_count": null,
      "metadata": {
        "id": "Y576wV0zVJR-"
      },
      "outputs": [],
      "source": [
        "import kuzu\n",
        "import pandas as pd\n",
        "import networkx as nx"
      ]
    },
    {
      "cell_type": "markdown",
      "metadata": {
        "id": "DofcKsIQp_0f"
      },
      "source": [
        "Wget Dataset Files and Import Into Kùzu"
      ]
    },
    {
      "cell_type": "code",
      "execution_count": null,
      "metadata": {
        "id": "GaZe2fL4jRQW"
      },
      "outputs": [],
      "source": [
        "!rm -rf *.csv ml-small_db"
      ]
    },
    {
      "cell_type": "code",
      "execution_count": null,
      "metadata": {
        "colab": {
          "base_uri": "https://localhost:8080/"
        },
        "id": "7-Zi3dx9aaDD",
        "outputId": "2a1216e5-5f6a-4e42-83c6-4c48ec021bad"
      },
      "outputs": [
        {
          "name": "stdout",
          "output_type": "stream",
          "text": [
            "--2024-03-08 20:27:20--  https://kuzudb.com/data/movie-lens/movies.csv\n",
            "Resolving kuzudb.com (kuzudb.com)... 188.114.97.0, 188.114.96.0, 2a06:98c1:3120::, ...\n",
            "Connecting to kuzudb.com (kuzudb.com)|188.114.97.0|:443... connected.\n",
            "HTTP request sent, awaiting response... 200 OK\n",
            "Length: unspecified [text/csv]\n",
            "Saving to: ‘movies.csv’\n",
            "\n",
            "movies.csv              [ <=>                ] 520.78K  --.-KB/s    in 0.01s   \n",
            "\n",
            "2024-03-08 20:27:21 (36.4 MB/s) - ‘movies.csv’ saved [533280]\n",
            "\n",
            "--2024-03-08 20:27:21--  https://kuzudb.com/data/movie-lens/users.csv\n",
            "Resolving kuzudb.com (kuzudb.com)... 188.114.97.0, 188.114.96.0, 2a06:98c1:3120::, ...\n",
            "Connecting to kuzudb.com (kuzudb.com)|188.114.97.0|:443... connected.\n",
            "HTTP request sent, awaiting response... 200 OK\n",
            "Length: unspecified [text/csv]\n",
            "Saving to: ‘users.csv’\n",
            "\n",
            "users.csv               [ <=>                ]   2.28K  --.-KB/s    in 0s      \n",
            "\n",
            "2024-03-08 20:27:21 (37.6 MB/s) - ‘users.csv’ saved [2338]\n",
            "\n",
            "--2024-03-08 20:27:21--  https://kuzudb.com/data/movie-lens/ratings.csv\n",
            "Resolving kuzudb.com (kuzudb.com)... 188.114.97.0, 188.114.96.0, 2a06:98c1:3120::, ...\n",
            "Connecting to kuzudb.com (kuzudb.com)|188.114.97.0|:443... connected.\n",
            "HTTP request sent, awaiting response... 200 OK\n",
            "Length: unspecified [text/csv]\n",
            "Saving to: ‘ratings.csv’\n",
            "\n",
            "ratings.csv             [ <=>                ]   2.27M  --.-KB/s    in 0.03s   \n",
            "\n",
            "2024-03-08 20:27:21 (79.0 MB/s) - ‘ratings.csv’ saved [2382885]\n",
            "\n",
            "--2024-03-08 20:27:21--  https://kuzudb.com/data/movie-lens/tags.csv\n",
            "Resolving kuzudb.com (kuzudb.com)... 188.114.97.0, 188.114.96.0, 2a06:98c1:3120::, ...\n",
            "Connecting to kuzudb.com (kuzudb.com)|188.114.97.0|:443... connected.\n",
            "HTTP request sent, awaiting response... 200 OK\n",
            "Length: unspecified [text/csv]\n",
            "Saving to: ‘tags.csv’\n",
            "\n",
            "tags.csv                [ <=>                ] 112.28K  --.-KB/s    in 0.01s   \n",
            "\n",
            "2024-03-08 20:27:21 (11.5 MB/s) - ‘tags.csv’ saved [114977]\n",
            "\n"
          ]
        }
      ],
      "source": [
        "!wget https://kuzudb.com/data/movie-lens/movies.csv\n",
        "!wget https://kuzudb.com/data/movie-lens/users.csv\n",
        "!wget https://kuzudb.com/data/movie-lens/ratings.csv\n",
        "!wget https://kuzudb.com/data/movie-lens/tags.csv"
      ]
    },
    {
      "cell_type": "markdown",
      "metadata": {
        "id": "V7kofjGWqoI5"
      },
      "source": [
        "Create schemas in Kùzu and import the unzipped csv files into Kùzu using COPY FROM clause."
      ]
    },
    {
      "cell_type": "code",
      "execution_count": null,
      "metadata": {
        "id": "t0CvZ528VJSA"
      },
      "outputs": [],
      "source": [
        "import shutil\n",
        "\n",
        "db_path = './ml-small_db'\n",
        "shutil.rmtree(db_path, ignore_errors=True)\n",
        "\n",
        "def load_data(connection):\n",
        "    connection.execute('CREATE NODE TABLE Movie (movieId INT64, year INT64, title STRING, genres STRING, PRIMARY KEY (movieId))')\n",
        "    connection.execute('CREATE NODE TABLE User (userId INT64, PRIMARY KEY (userId))')\n",
        "    connection.execute('CREATE REL TABLE Rating (FROM User TO Movie, rating DOUBLE, timestamp INT64)')\n",
        "    connection.execute('CREATE REL TABLE Tags (FROM User TO Movie, tag STRING, timestamp INT64)')\n",
        "\n",
        "    connection.execute('COPY Movie FROM \"./movies.csv\" (HEADER=TRUE)')\n",
        "    connection.execute('COPY User FROM \"./users.csv\" (HEADER=TRUE)')\n",
        "    connection.execute('COPY Rating FROM \"./ratings.csv\" (HEADER=TRUE)')\n",
        "    connection.execute('COPY Tags FROM \"./tags.csv\" (HEADER=TRUE)')\n",
        "\n",
        "db = kuzu.Database(db_path)\n",
        "conn = kuzu.Connection(db)\n",
        "load_data(conn)"
      ]
    },
    {
      "cell_type": "markdown",
      "metadata": {
        "id": "aOAW9yuCrnLo"
      },
      "source": [
        "### Example 1: Graph Visualization with NetworkX\n",
        "\n",
        "Extract a subgraph of 250 ratings edges using Cypher; convert to a NetworkX graph G; and draw a node-link visualization.\n",
        "\n"
      ]
    },
    {
      "cell_type": "code",
      "execution_count": null,
      "metadata": {
        "colab": {
          "base_uri": "https://localhost:8080/",
          "height": 516
        },
        "id": "KIZPfDBkVJSB",
        "outputId": "f8399be4-f104-42b5-e39d-71d9832431a3"
      },
      "outputs": [
        {
          "data": {
            "image/png": "[encoded data removed]",
            "text/plain": [
              "<Figure size 640x480 with 1 Axes>"
            ]
          },
          "metadata": {},
          "output_type": "display_data"
        }
      ],
      "source": [
        "res = conn.execute('MATCH (u:User)-[r:Rating]->(m:Movie) RETURN u, r, m LIMIT 250')\n",
        "G = res.get_as_networkx(directed=False)\n",
        "colors = ['red' if G.nodes[node]['_label'] == 'User' else 'blue' for node in list(G.nodes())]\n",
        "nx.draw_spring(G, node_color=colors, node_size=40)"
      ]
    },
    {
      "cell_type": "markdown",
      "metadata": {
        "id": "vlhSqbVrjS8Y"
      },
      "source": [
        "### Example 2: Interactive graph visualization with yWorks\n",
        "\n",
        "[yfiles-jupyter-graphs](https://github.com/yWorks/yfiles-jupyter-graphs) is a free tool to generate interactive visualizations of graphs within a Jupyter notebook environment. Follow the [docs](https://github.com/yWorks/yfiles-jupyter-graphs?tab=readme-ov-file#installation) to install the dependencies.\n",
        "\n",
        "The following visualization uses the same graph G from above that consists of 250 movie ratings edges."
      ]
    },
    {
      "cell_type": "code",
      "execution_count": null,
      "metadata": {
        "id": "rzeS2lLukd_c"
      },
      "outputs": [],
      "source": [
        "try:\n",
        "  import google.colab\n",
        "  from google.colab import output\n",
        "  output.enable_custom_widget_manager()\n",
        "except:\n",
        "  pass"
      ]
    },
    {
      "cell_type": "code",
      "execution_count": null,
      "metadata": {
        "id": "HRQzjkC6tnfV"
      },
      "outputs": [],
      "source": [
        "from typing import Union, Any\n",
        "\n",
        "def custom_node_color_mapping(node: dict[str, Any]):\n",
        "    \"\"\"let the color be orange or blue if the index is even or odd respectively\"\"\"\n",
        "    return (\"#eb4934\" if node['properties']['_label'] == \"User\" else \"#2456d4\")"
      ]
    },
    {
      "cell_type": "code",
      "execution_count": null,
      "metadata": {
        "colab": {
          "base_uri": "https://localhost:8080/",
          "height": 817,
          "referenced_widgets": [
            "d56226b9bd1441d3bb5c7358ba799fd7",
            "c0bef25a2d414726912f87b902401df2"
          ]
        },
        "id": "bGBJEDKKjRu9",
        "outputId": "b0a04b69-92f3-430d-94f1-4db766505bb5"
      },
      "outputs": [
        {
          "data": {
            "application/vnd.jupyter.widget-view+json": {
              "model_id": "d56226b9bd1441d3bb5c7358ba799fd7",
              "version_major": 2,
              "version_minor": 0
            },
            "text/plain": [
              "GraphWidget(layout=Layout(height='800px', width='100%'))"
            ]
          },
          "metadata": {
            "application/vnd.jupyter.widget-view+json": {
              "colab": {
                "custom_widget_manager": {
                  "url": "https://ssl.gstatic.com/colaboratory-static/widgets/colab-cdn-widget-manager/2b70e893a8ba7c0f/manager.min.js"
                }
              }
            }
          },
          "output_type": "display_data"
        }
      ],
      "source": [
        "from yfiles_jupyter_graphs import GraphWidget\n",
        "\n",
        "w = GraphWidget(graph=G)\n",
        "w.set_sidebar(enabled=False)\n",
        "w.set_node_color_mapping(custom_node_color_mapping)\n",
        "display(w)"
      ]
    },
    {
      "cell_type": "markdown",
      "metadata": {
        "id": "sgo7ceP8seO0"
      },
      "source": [
        "### Example 3: Compute PageRank, Store Back in the Database and Query"
      ]
    },
    {
      "cell_type": "markdown",
      "metadata": {
        "id": "K7s7nDOgs4R9"
      },
      "source": [
        "We extract only the subgraph between users and movies (so ignoring tags) and convert to a NetworkX graph G."
      ]
    },
    {
      "cell_type": "code",
      "execution_count": null,
      "metadata": {
        "id": "v-q34z3xVJSB"
      },
      "outputs": [],
      "source": [
        "res = conn.execute('MATCH (u:User)-[r:Rating]->(m:Movie) RETURN u, r, m')\n",
        "G = res.get_as_networkx(directed=False)"
      ]
    },
    {
      "cell_type": "markdown",
      "metadata": {
        "id": "_M-A_RM3vtpS"
      },
      "source": [
        "Next compute PageRanks of users and movies."
      ]
    },
    {
      "cell_type": "code",
      "execution_count": null,
      "metadata": {
        "id": "b9fyxgdITXsu"
      },
      "outputs": [],
      "source": [
        "pageranks = nx.pagerank(G)"
      ]
    },
    {
      "cell_type": "markdown",
      "metadata": {
        "id": "RZ0gS9Mjv5t3"
      },
      "source": [
        "Put returned pageranks into a page_rank_df dataframe and get a list of movies and their pageranks into a movie_df data frame."
      ]
    },
    {
      "cell_type": "code",
      "execution_count": null,
      "metadata": {
        "colab": {
          "base_uri": "https://localhost:8080/",
          "height": 223
        },
        "id": "vSRjlfCTToyz",
        "outputId": "f6ea56c5-4226-40b6-864f-de97540187cc"
      },
      "outputs": [
        {
          "name": "stdout",
          "output_type": "stream",
          "text": [
            "Calculated pageranks for 9724 nodes\n"
          ]
        },
        {
          "data": {
            "application/vnd.google.colaboratory.intrinsic+json": {
              "summary": "{\n  \"name\": \"movie_df\",\n  \"rows\": 5,\n  \"fields\": [\n    {\n      \"column\": \"id\",\n      \"properties\": {\n        \"dtype\": \"number\",\n        \"std\": 982,\n        \"min\": 296,\n        \"max\": 2571,\n        \"num_unique_values\": 5,\n        \"samples\": [\n          318,\n          593,\n          296\n        ],\n        \"semantic_type\": \"\",\n        \"description\": \"\"\n      }\n    },\n    {\n      \"column\": \"pagerank\",\n      \"properties\": {\n        \"dtype\": \"number\",\n        \"std\": 6.850721087892938e-05,\n        \"min\": 0.0009872485539382107,\n        \"max\": 0.0011545323047463607,\n        \"num_unique_values\": 5,\n        \"samples\": [\n          0.0010987713680091786,\n          0.0009872485539382107,\n          0.00107523730192375\n        ],\n        \"semantic_type\": \"\",\n        \"description\": \"\"\n      }\n    }\n  ]\n}",
              "type": "dataframe"
            },
            "text/html": [
              "\n",
              "  <div id=\"df-eb22ffe2-9dd7-4ae3-87ba-860e18399ebe\" class=\"colab-df-container\">\n",
              "    <div>\n",
              "<style scoped>\n",
              "    .dataframe tbody tr th:only-of-type {\n",
              "        vertical-align: middle;\n",
              "    }\n",
              "\n",
              "    .dataframe tbody tr th {\n",
              "        vertical-align: top;\n",
              "    }\n",
              "\n",
              "    .dataframe thead th {\n",
              "        text-align: right;\n",
              "    }\n",
              "</style>\n",
              "<table border=\"1\" class=\"dataframe\">\n",
              "  <thead>\n",
              "    <tr style=\"text-align: right;\">\n",
              "      <th></th>\n",
              "      <th>id</th>\n",
              "      <th>pagerank</th>\n",
              "    </tr>\n",
              "  </thead>\n",
              "  <tbody>\n",
              "    <tr>\n",
              "      <th>20</th>\n",
              "      <td>356</td>\n",
              "      <td>0.001155</td>\n",
              "    </tr>\n",
              "    <tr>\n",
              "      <th>232</th>\n",
              "      <td>318</td>\n",
              "      <td>0.001099</td>\n",
              "    </tr>\n",
              "    <tr>\n",
              "      <th>16</th>\n",
              "      <td>296</td>\n",
              "      <td>0.001075</td>\n",
              "    </tr>\n",
              "    <tr>\n",
              "      <th>166</th>\n",
              "      <td>2571</td>\n",
              "      <td>0.001006</td>\n",
              "    </tr>\n",
              "    <tr>\n",
              "      <th>34</th>\n",
              "      <td>593</td>\n",
              "      <td>0.000987</td>\n",
              "    </tr>\n",
              "  </tbody>\n",
              "</table>\n",
              "</div>\n",
              "    <div class=\"colab-df-buttons\">\n",
              "\n",
              "  <div class=\"colab-df-container\">\n",
              "    <button class=\"colab-df-convert\" onclick=\"convertToInteractive('df-eb22ffe2-9dd7-4ae3-87ba-860e18399ebe')\"\n",
              "            title=\"Convert this dataframe to an interactive table.\"\n",
              "            style=\"display:none;\">\n",
              "\n",
              "  <svg xmlns=\"http://www.w3.org/2000/svg\" height=\"24px\" viewBox=\"0 -960 960 960\">\n",
              "    <path d=\"M120-120v-720h720v720H120Zm60-500h600v-160H180v160Zm220 220h160v-160H400v160Zm0 220h160v-160H400v160ZM180-400h160v-160H180v160Zm440 0h160v-160H620v160ZM180-180h160v-160H180v160Zm440 0h160v-160H620v160Z\"/>\n",
              "  </svg>\n",
              "    </button>\n",
              "\n",
              "  <style>\n",
              "    .colab-df-container {\n",
              "      display:flex;\n",
              "      gap: 12px;\n",
              "    }\n",
              "\n",
              "    .colab-df-convert {\n",
              "      background-color: #E8F0FE;\n",
              "      border: none;\n",
              "      border-radius: 50%;\n",
              "      cursor: pointer;\n",
              "      display: none;\n",
              "      fill: #1967D2;\n",
              "      height: 32px;\n",
              "      padding: 0 0 0 0;\n",
              "      width: 32px;\n",
              "    }\n",
              "\n",
              "    .colab-df-convert:hover {\n",
              "      background-color: #E2EBFA;\n",
              "      box-shadow: 0px 1px 2px rgba(60, 64, 67, 0.3), 0px 1px 3px 1px rgba(60, 64, 67, 0.15);\n",
              "      fill: #174EA6;\n",
              "    }\n",
              "\n",
              "    .colab-df-buttons div {\n",
              "      margin-bottom: 4px;\n",
              "    }\n",
              "\n",
              "    [theme=dark] .colab-df-convert {\n",
              "      background-color: #3B4455;\n",
              "      fill: #D2E3FC;\n",
              "    }\n",
              "\n",
              "    [theme=dark] .colab-df-convert:hover {\n",
              "      background-color: #434B5C;\n",
              "      box-shadow: 0px 1px 3px 1px rgba(0, 0, 0, 0.15);\n",
              "      filter: drop-shadow(0px 1px 2px rgba(0, 0, 0, 0.3));\n",
              "      fill: #FFFFFF;\n",
              "    }\n",
              "  </style>\n",
              "\n",
              "    <script>\n",
              "      const buttonEl =\n",
              "        document.querySelector('#df-eb22ffe2-9dd7-4ae3-87ba-860e18399ebe button.colab-df-convert');\n",
              "      buttonEl.style.display =\n",
              "        google.colab.kernel.accessAllowed ? 'block' : 'none';\n",
              "\n",
              "      async function convertToInteractive(key) {\n",
              "        const element = document.querySelector('#df-eb22ffe2-9dd7-4ae3-87ba-860e18399ebe');\n",
              "        const dataTable =\n",
              "          await google.colab.kernel.invokeFunction('convertToInteractive',\n",
              "                                                    [key], {});\n",
              "        if (!dataTable) return;\n",
              "\n",
              "        const docLinkHtml = 'Like what you see? Visit the ' +\n",
              "          '<a target=\"_blank\" href=https://colab.research.google.com/notebooks/data_table.ipynb>data table notebook</a>'\n",
              "          + ' to learn more about interactive tables.';\n",
              "        element.innerHTML = '';\n",
              "        dataTable['output_type'] = 'display_data';\n",
              "        await google.colab.output.renderOutput(dataTable, element);\n",
              "        const docLink = document.createElement('div');\n",
              "        docLink.innerHTML = docLinkHtml;\n",
              "        element.appendChild(docLink);\n",
              "      }\n",
              "    </script>\n",
              "  </div>\n",
              "\n",
              "\n",
              "<div id=\"df-d960e160-74f4-42b1-9466-c48c39b8b765\">\n",
              "  <button class=\"colab-df-quickchart\" onclick=\"quickchart('df-d960e160-74f4-42b1-9466-c48c39b8b765')\"\n",
              "            title=\"Suggest charts\"\n",
              "            style=\"display:none;\">\n",
              "\n",
              "<svg xmlns=\"http://www.w3.org/2000/svg\" height=\"24px\"viewBox=\"0 0 24 24\"\n",
              "     width=\"24px\">\n",
              "    <g>\n",
              "        <path d=\"M19 3H5c-1.1 0-2 .9-2 2v14c0 1.1.9 2 2 2h14c1.1 0 2-.9 2-2V5c0-1.1-.9-2-2-2zM9 17H7v-7h2v7zm4 0h-2V7h2v10zm4 0h-2v-4h2v4z\"/>\n",
              "    </g>\n",
              "</svg>\n",
              "  </button>\n",
              "\n",
              "<style>\n",
              "  .colab-df-quickchart {\n",
              "      --bg-color: #E8F0FE;\n",
              "      --fill-color: #1967D2;\n",
              "      --hover-bg-color: #E2EBFA;\n",
              "      --hover-fill-color: #174EA6;\n",
              "      --disabled-fill-color: #AAA;\n",
              "      --disabled-bg-color: #DDD;\n",
              "  }\n",
              "\n",
              "  [theme=dark] .colab-df-quickchart {\n",
              "      --bg-color: #3B4455;\n",
              "      --fill-color: #D2E3FC;\n",
              "      --hover-bg-color: #434B5C;\n",
              "      --hover-fill-color: #FFFFFF;\n",
              "      --disabled-bg-color: #3B4455;\n",
              "      --disabled-fill-color: #666;\n",
              "  }\n",
              "\n",
              "  .colab-df-quickchart {\n",
              "    background-color: var(--bg-color);\n",
              "    border: none;\n",
              "    border-radius: 50%;\n",
              "    cursor: pointer;\n",
              "    display: none;\n",
              "    fill: var(--fill-color);\n",
              "    height: 32px;\n",
              "    padding: 0;\n",
              "    width: 32px;\n",
              "  }\n",
              "\n",
              "  .colab-df-quickchart:hover {\n",
              "    background-color: var(--hover-bg-color);\n",
              "    box-shadow: 0 1px 2px rgba(60, 64, 67, 0.3), 0 1px 3px 1px rgba(60, 64, 67, 0.15);\n",
              "    fill: var(--button-hover-fill-color);\n",
              "  }\n",
              "\n",
              "  .colab-df-quickchart-complete:disabled,\n",
              "  .colab-df-quickchart-complete:disabled:hover {\n",
              "    background-color: var(--disabled-bg-color);\n",
              "    fill: var(--disabled-fill-color);\n",
              "    box-shadow: none;\n",
              "  }\n",
              "\n",
              "  .colab-df-spinner {\n",
              "    border: 2px solid var(--fill-color);\n",
              "    border-color: transparent;\n",
              "    border-bottom-color: var(--fill-color);\n",
              "    animation:\n",
              "      spin 1s steps(1) infinite;\n",
              "  }\n",
              "\n",
              "  @keyframes spin {\n",
              "    0% {\n",
              "      border-color: transparent;\n",
              "      border-bottom-color: var(--fill-color);\n",
              "      border-left-color: var(--fill-color);\n",
              "    }\n",
              "    20% {\n",
              "      border-color: transparent;\n",
              "      border-left-color: var(--fill-color);\n",
              "      border-top-color: var(--fill-color);\n",
              "    }\n",
              "    30% {\n",
              "      border-color: transparent;\n",
              "      border-left-color: var(--fill-color);\n",
              "      border-top-color: var(--fill-color);\n",
              "      border-right-color: var(--fill-color);\n",
              "    }\n",
              "    40% {\n",
              "      border-color: transparent;\n",
              "      border-right-color: var(--fill-color);\n",
              "      border-top-color: var(--fill-color);\n",
              "    }\n",
              "    60% {\n",
              "      border-color: transparent;\n",
              "      border-right-color: var(--fill-color);\n",
              "    }\n",
              "    80% {\n",
              "      border-color: transparent;\n",
              "      border-right-color: var(--fill-color);\n",
              "      border-bottom-color: var(--fill-color);\n",
              "    }\n",
              "    90% {\n",
              "      border-color: transparent;\n",
              "      border-bottom-color: var(--fill-color);\n",
              "    }\n",
              "  }\n",
              "</style>\n",
              "\n",
              "  <script>\n",
              "    async function quickchart(key) {\n",
              "      const quickchartButtonEl =\n",
              "        document.querySelector('#' + key + ' button');\n",
              "      quickchartButtonEl.disabled = true;  // To prevent multiple clicks.\n",
              "      quickchartButtonEl.classList.add('colab-df-spinner');\n",
              "      try {\n",
              "        const charts = await google.colab.kernel.invokeFunction(\n",
              "            'suggestCharts', [key], {});\n",
              "      } catch (error) {\n",
              "        console.error('Error during call to suggestCharts:', error);\n",
              "      }\n",
              "      quickchartButtonEl.classList.remove('colab-df-spinner');\n",
              "      quickchartButtonEl.classList.add('colab-df-quickchart-complete');\n",
              "    }\n",
              "    (() => {\n",
              "      let quickchartButtonEl =\n",
              "        document.querySelector('#df-d960e160-74f4-42b1-9466-c48c39b8b765 button');\n",
              "      quickchartButtonEl.style.display =\n",
              "        google.colab.kernel.accessAllowed ? 'block' : 'none';\n",
              "    })();\n",
              "  </script>\n",
              "</div>\n",
              "    </div>\n",
              "  </div>\n"
            ],
            "text/plain": [
              "       id  pagerank\n",
              "20    356  0.001155\n",
              "232   318  0.001099\n",
              "16    296  0.001075\n",
              "166  2571  0.001006\n",
              "34    593  0.000987"
            ]
          },
          "execution_count": 12,
          "metadata": {},
          "output_type": "execute_result"
        }
      ],
      "source": [
        "pagerank_df = pd.DataFrame.from_dict(pageranks, orient=\"index\", columns=[\"pagerank\"])\n",
        "movie_df = pagerank_df[pagerank_df.index.str.contains(\"Movie\")]\n",
        "movie_df.index = movie_df.index.str.replace(\"Movie_\", \"\").astype(int)\n",
        "movie_df = movie_df.reset_index(names=[\"id\"])\n",
        "print(f\"Calculated pageranks for {len(movie_df)} nodes\")\n",
        "movie_df.sort_values(by=\"pagerank\", ascending=False).head()"
      ]
    },
    {
      "cell_type": "code",
      "execution_count": null,
      "metadata": {
        "colab": {
          "base_uri": "https://localhost:8080/",
          "height": 206
        },
        "id": "2iNdihprbHv6",
        "outputId": "88615718-1c10-45c6-8536-f5b194915e7c"
      },
      "outputs": [
        {
          "data": {
            "application/vnd.google.colaboratory.intrinsic+json": {
              "summary": "{\n  \"name\": \"user_df\",\n  \"rows\": 5,\n  \"fields\": [\n    {\n      \"column\": \"id\",\n      \"properties\": {\n        \"dtype\": \"number\",\n        \"std\": 89,\n        \"min\": 414,\n        \"max\": 610,\n        \"num_unique_values\": 5,\n        \"samples\": [\n          414,\n          610,\n          474\n        ],\n        \"semantic_type\": \"\",\n        \"description\": \"\"\n      }\n    },\n    {\n      \"column\": \"pagerank\",\n      \"properties\": {\n        \"dtype\": \"number\",\n        \"std\": 0.00299914650613968,\n        \"min\": 0.00849213112981533,\n        \"max\": 0.016400692690923178,\n        \"num_unique_values\": 5,\n        \"samples\": [\n          0.014711115727088515,\n          0.00849213112981533,\n          0.014380025491652333\n        ],\n        \"semantic_type\": \"\",\n        \"description\": \"\"\n      }\n    }\n  ]\n}",
              "type": "dataframe"
            },
            "text/html": [
              "\n",
              "  <div id=\"df-b6d334d3-43b4-436e-81ef-81faaaaf37d0\" class=\"colab-df-container\">\n",
              "    <div>\n",
              "<style scoped>\n",
              "    .dataframe tbody tr th:only-of-type {\n",
              "        vertical-align: middle;\n",
              "    }\n",
              "\n",
              "    .dataframe tbody tr th {\n",
              "        vertical-align: top;\n",
              "    }\n",
              "\n",
              "    .dataframe thead th {\n",
              "        text-align: right;\n",
              "    }\n",
              "</style>\n",
              "<table border=\"1\" class=\"dataframe\">\n",
              "  <thead>\n",
              "    <tr style=\"text-align: right;\">\n",
              "      <th></th>\n",
              "      <th>id</th>\n",
              "      <th>pagerank</th>\n",
              "    </tr>\n",
              "  </thead>\n",
              "  <tbody>\n",
              "    <tr>\n",
              "      <th>598</th>\n",
              "      <td>599</td>\n",
              "      <td>0.016401</td>\n",
              "    </tr>\n",
              "    <tr>\n",
              "      <th>413</th>\n",
              "      <td>414</td>\n",
              "      <td>0.014711</td>\n",
              "    </tr>\n",
              "    <tr>\n",
              "      <th>473</th>\n",
              "      <td>474</td>\n",
              "      <td>0.014380</td>\n",
              "    </tr>\n",
              "    <tr>\n",
              "      <th>447</th>\n",
              "      <td>448</td>\n",
              "      <td>0.012942</td>\n",
              "    </tr>\n",
              "    <tr>\n",
              "      <th>609</th>\n",
              "      <td>610</td>\n",
              "      <td>0.008492</td>\n",
              "    </tr>\n",
              "  </tbody>\n",
              "</table>\n",
              "</div>\n",
              "    <div class=\"colab-df-buttons\">\n",
              "\n",
              "  <div class=\"colab-df-container\">\n",
              "    <button class=\"colab-df-convert\" onclick=\"convertToInteractive('df-b6d334d3-43b4-436e-81ef-81faaaaf37d0')\"\n",
              "            title=\"Convert this dataframe to an interactive table.\"\n",
              "            style=\"display:none;\">\n",
              "\n",
              "  <svg xmlns=\"http://www.w3.org/2000/svg\" height=\"24px\" viewBox=\"0 -960 960 960\">\n",
              "    <path d=\"M120-120v-720h720v720H120Zm60-500h600v-160H180v160Zm220 220h160v-160H400v160Zm0 220h160v-160H400v160ZM180-400h160v-160H180v160Zm440 0h160v-160H620v160ZM180-180h160v-160H180v160Zm440 0h160v-160H620v160Z\"/>\n",
              "  </svg>\n",
              "    </button>\n",
              "\n",
              "  <style>\n",
              "    .colab-df-container {\n",
              "      display:flex;\n",
              "      gap: 12px;\n",
              "    }\n",
              "\n",
              "    .colab-df-convert {\n",
              "      background-color: #E8F0FE;\n",
              "      border: none;\n",
              "      border-radius: 50%;\n",
              "      cursor: pointer;\n",
              "      display: none;\n",
              "      fill: #1967D2;\n",
              "      height: 32px;\n",
              "      padding: 0 0 0 0;\n",
              "      width: 32px;\n",
              "    }\n",
              "\n",
              "    .colab-df-convert:hover {\n",
              "      background-color: #E2EBFA;\n",
              "      box-shadow: 0px 1px 2px rgba(60, 64, 67, 0.3), 0px 1px 3px 1px rgba(60, 64, 67, 0.15);\n",
              "      fill: #174EA6;\n",
              "    }\n",
              "\n",
              "    .colab-df-buttons div {\n",
              "      margin-bottom: 4px;\n",
              "    }\n",
              "\n",
              "    [theme=dark] .colab-df-convert {\n",
              "      background-color: #3B4455;\n",
              "      fill: #D2E3FC;\n",
              "    }\n",
              "\n",
              "    [theme=dark] .colab-df-convert:hover {\n",
              "      background-color: #434B5C;\n",
              "      box-shadow: 0px 1px 3px 1px rgba(0, 0, 0, 0.15);\n",
              "      filter: drop-shadow(0px 1px 2px rgba(0, 0, 0, 0.3));\n",
              "      fill: #FFFFFF;\n",
              "    }\n",
              "  </style>\n",
              "\n",
              "    <script>\n",
              "      const buttonEl =\n",
              "        document.querySelector('#df-b6d334d3-43b4-436e-81ef-81faaaaf37d0 button.colab-df-convert');\n",
              "      buttonEl.style.display =\n",
              "        google.colab.kernel.accessAllowed ? 'block' : 'none';\n",
              "\n",
              "      async function convertToInteractive(key) {\n",
              "        const element = document.querySelector('#df-b6d334d3-43b4-436e-81ef-81faaaaf37d0');\n",
              "        const dataTable =\n",
              "          await google.colab.kernel.invokeFunction('convertToInteractive',\n",
              "                                                    [key], {});\n",
              "        if (!dataTable) return;\n",
              "\n",
              "        const docLinkHtml = 'Like what you see? Visit the ' +\n",
              "          '<a target=\"_blank\" href=https://colab.research.google.com/notebooks/data_table.ipynb>data table notebook</a>'\n",
              "          + ' to learn more about interactive tables.';\n",
              "        element.innerHTML = '';\n",
              "        dataTable['output_type'] = 'display_data';\n",
              "        await google.colab.output.renderOutput(dataTable, element);\n",
              "        const docLink = document.createElement('div');\n",
              "        docLink.innerHTML = docLinkHtml;\n",
              "        element.appendChild(docLink);\n",
              "      }\n",
              "    </script>\n",
              "  </div>\n",
              "\n",
              "\n",
              "<div id=\"df-52fccd13-4c67-44b7-84be-4367f1f4cb3f\">\n",
              "  <button class=\"colab-df-quickchart\" onclick=\"quickchart('df-52fccd13-4c67-44b7-84be-4367f1f4cb3f')\"\n",
              "            title=\"Suggest charts\"\n",
              "            style=\"display:none;\">\n",
              "\n",
              "<svg xmlns=\"http://www.w3.org/2000/svg\" height=\"24px\"viewBox=\"0 0 24 24\"\n",
              "     width=\"24px\">\n",
              "    <g>\n",
              "        <path d=\"M19 3H5c-1.1 0-2 .9-2 2v14c0 1.1.9 2 2 2h14c1.1 0 2-.9 2-2V5c0-1.1-.9-2-2-2zM9 17H7v-7h2v7zm4 0h-2V7h2v10zm4 0h-2v-4h2v4z\"/>\n",
              "    </g>\n",
              "</svg>\n",
              "  </button>\n",
              "\n",
              "<style>\n",
              "  .colab-df-quickchart {\n",
              "      --bg-color: #E8F0FE;\n",
              "      --fill-color: #1967D2;\n",
              "      --hover-bg-color: #E2EBFA;\n",
              "      --hover-fill-color: #174EA6;\n",
              "      --disabled-fill-color: #AAA;\n",
              "      --disabled-bg-color: #DDD;\n",
              "  }\n",
              "\n",
              "  [theme=dark] .colab-df-quickchart {\n",
              "      --bg-color: #3B4455;\n",
              "      --fill-color: #D2E3FC;\n",
              "      --hover-bg-color: #434B5C;\n",
              "      --hover-fill-color: #FFFFFF;\n",
              "      --disabled-bg-color: #3B4455;\n",
              "      --disabled-fill-color: #666;\n",
              "  }\n",
              "\n",
              "  .colab-df-quickchart {\n",
              "    background-color: var(--bg-color);\n",
              "    border: none;\n",
              "    border-radius: 50%;\n",
              "    cursor: pointer;\n",
              "    display: none;\n",
              "    fill: var(--fill-color);\n",
              "    height: 32px;\n",
              "    padding: 0;\n",
              "    width: 32px;\n",
              "  }\n",
              "\n",
              "  .colab-df-quickchart:hover {\n",
              "    background-color: var(--hover-bg-color);\n",
              "    box-shadow: 0 1px 2px rgba(60, 64, 67, 0.3), 0 1px 3px 1px rgba(60, 64, 67, 0.15);\n",
              "    fill: var(--button-hover-fill-color);\n",
              "  }\n",
              "\n",
              "  .colab-df-quickchart-complete:disabled,\n",
              "  .colab-df-quickchart-complete:disabled:hover {\n",
              "    background-color: var(--disabled-bg-color);\n",
              "    fill: var(--disabled-fill-color);\n",
              "    box-shadow: none;\n",
              "  }\n",
              "\n",
              "  .colab-df-spinner {\n",
              "    border: 2px solid var(--fill-color);\n",
              "    border-color: transparent;\n",
              "    border-bottom-color: var(--fill-color);\n",
              "    animation:\n",
              "      spin 1s steps(1) infinite;\n",
              "  }\n",
              "\n",
              "  @keyframes spin {\n",
              "    0% {\n",
              "      border-color: transparent;\n",
              "      border-bottom-color: var(--fill-color);\n",
              "      border-left-color: var(--fill-color);\n",
              "    }\n",
              "    20% {\n",
              "      border-color: transparent;\n",
              "      border-left-color: var(--fill-color);\n",
              "      border-top-color: var(--fill-color);\n",
              "    }\n",
              "    30% {\n",
              "      border-color: transparent;\n",
              "      border-left-color: var(--fill-color);\n",
              "      border-top-color: var(--fill-color);\n",
              "      border-right-color: var(--fill-color);\n",
              "    }\n",
              "    40% {\n",
              "      border-color: transparent;\n",
              "      border-right-color: var(--fill-color);\n",
              "      border-top-color: var(--fill-color);\n",
              "    }\n",
              "    60% {\n",
              "      border-color: transparent;\n",
              "      border-right-color: var(--fill-color);\n",
              "    }\n",
              "    80% {\n",
              "      border-color: transparent;\n",
              "      border-right-color: var(--fill-color);\n",
              "      border-bottom-color: var(--fill-color);\n",
              "    }\n",
              "    90% {\n",
              "      border-color: transparent;\n",
              "      border-bottom-color: var(--fill-color);\n",
              "    }\n",
              "  }\n",
              "</style>\n",
              "\n",
              "  <script>\n",
              "    async function quickchart(key) {\n",
              "      const quickchartButtonEl =\n",
              "        document.querySelector('#' + key + ' button');\n",
              "      quickchartButtonEl.disabled = true;  // To prevent multiple clicks.\n",
              "      quickchartButtonEl.classList.add('colab-df-spinner');\n",
              "      try {\n",
              "        const charts = await google.colab.kernel.invokeFunction(\n",
              "            'suggestCharts', [key], {});\n",
              "      } catch (error) {\n",
              "        console.error('Error during call to suggestCharts:', error);\n",
              "      }\n",
              "      quickchartButtonEl.classList.remove('colab-df-spinner');\n",
              "      quickchartButtonEl.classList.add('colab-df-quickchart-complete');\n",
              "    }\n",
              "    (() => {\n",
              "      let quickchartButtonEl =\n",
              "        document.querySelector('#df-52fccd13-4c67-44b7-84be-4367f1f4cb3f button');\n",
              "      quickchartButtonEl.style.display =\n",
              "        google.colab.kernel.accessAllowed ? 'block' : 'none';\n",
              "    })();\n",
              "  </script>\n",
              "</div>\n",
              "    </div>\n",
              "  </div>\n"
            ],
            "text/plain": [
              "      id  pagerank\n",
              "598  599  0.016401\n",
              "413  414  0.014711\n",
              "473  474  0.014380\n",
              "447  448  0.012942\n",
              "609  610  0.008492"
            ]
          },
          "execution_count": 13,
          "metadata": {},
          "output_type": "execute_result"
        }
      ],
      "source": [
        "user_df = pagerank_df[pagerank_df.index.str.contains(\"User\")]\n",
        "user_df.index = user_df.index.str.replace(\"User_\", \"\").astype(int)\n",
        "user_df = user_df.reset_index(names=[\"id\"])\n",
        "user_df.sort_values(by=\"pagerank\", ascending=False).head()"
      ]
    },
    {
      "cell_type": "markdown",
      "metadata": {
        "id": "KEJFDJKIVNVW"
      },
      "source": [
        "## Update node schemas with pagerank property\n",
        "\n",
        "Alter the movie and user table schemas by adding a new pagerank property to them (of type float64)."
      ]
    },
    {
      "cell_type": "code",
      "execution_count": null,
      "metadata": {
        "id": "7BAU6YIUV4Rn"
      },
      "outputs": [],
      "source": [
        "try:\n",
        "  # Alter original node table schemas to add pageranks\n",
        "  conn.execute(\"ALTER TABLE Movie ADD pagerank DOUBLE DEFAULT 0.0;\")\n",
        "  conn.execute(\"ALTER TABLE User ADD pagerank DOUBLE DEFAULT 0.0;\")\n",
        "except RuntimeError:\n",
        "  # If the column already exists, do nothing\n",
        "  pass"
      ]
    },
    {
      "cell_type": "markdown",
      "metadata": {
        "id": "fqzq5FzYNPDT"
      },
      "source": [
        "## Scan Pandas DataFrame and copy values to Kùzu\n",
        "\n",
        "The next feature demonstrated is a powerful one: Kùzu can natively scan Pandas DataFrames in a zero-copy manner, by using the `LOAD FROM` clause on the variable name that stores the DataFrame. Once the scan is done, the values are accessible by Kùzu via Cypher. This approach is used to read the computed pageranks (which are in a Pandas DataFrame) to the respective node tables in Kùzu."
      ]
    },
    {
      "cell_type": "code",
      "execution_count": null,
      "metadata": {
        "colab": {
          "base_uri": "https://localhost:8080/",
          "height": 206
        },
        "id": "bbj7AU1jYsQT",
        "outputId": "4d453657-9bc7-4f49-8368-8935211c869d"
      },
      "outputs": [
        {
          "data": {
            "application/vnd.google.colaboratory.intrinsic+json": {
              "summary": "{\n  \"name\": \"x\",\n  \"rows\": 5,\n  \"fields\": [\n    {\n      \"column\": \"movieId\",\n      \"properties\": {\n        \"dtype\": \"number\",\n        \"std\": 24,\n        \"min\": 1,\n        \"max\": 50,\n        \"num_unique_values\": 5,\n        \"samples\": [\n          3,\n          50,\n          6\n        ],\n        \"semantic_type\": \"\",\n        \"description\": \"\"\n      }\n    },\n    {\n      \"column\": \"pagerank\",\n      \"properties\": {\n        \"dtype\": \"number\",\n        \"std\": 0.0002557606742529864,\n        \"min\": 0.00019998570438090863,\n        \"max\": 0.000775703621685712,\n        \"num_unique_values\": 5,\n        \"samples\": [\n          0.00019998570438090863,\n          0.0007244778365337129,\n          0.00036769227756984827\n        ],\n        \"semantic_type\": \"\",\n        \"description\": \"\"\n      }\n    }\n  ]\n}",
              "type": "dataframe"
            },
            "text/html": [
              "\n",
              "  <div id=\"df-846880dc-1e90-42c7-9333-2c9dd58f6468\" class=\"colab-df-container\">\n",
              "    <div>\n",
              "<style scoped>\n",
              "    .dataframe tbody tr th:only-of-type {\n",
              "        vertical-align: middle;\n",
              "    }\n",
              "\n",
              "    .dataframe tbody tr th {\n",
              "        vertical-align: top;\n",
              "    }\n",
              "\n",
              "    .dataframe thead th {\n",
              "        text-align: right;\n",
              "    }\n",
              "</style>\n",
              "<table border=\"1\" class=\"dataframe\">\n",
              "  <thead>\n",
              "    <tr style=\"text-align: right;\">\n",
              "      <th></th>\n",
              "      <th>movieId</th>\n",
              "      <th>pagerank</th>\n",
              "    </tr>\n",
              "  </thead>\n",
              "  <tbody>\n",
              "    <tr>\n",
              "      <th>0</th>\n",
              "      <td>1</td>\n",
              "      <td>0.000776</td>\n",
              "    </tr>\n",
              "    <tr>\n",
              "      <th>1</th>\n",
              "      <td>3</td>\n",
              "      <td>0.000200</td>\n",
              "    </tr>\n",
              "    <tr>\n",
              "      <th>2</th>\n",
              "      <td>6</td>\n",
              "      <td>0.000368</td>\n",
              "    </tr>\n",
              "    <tr>\n",
              "      <th>3</th>\n",
              "      <td>47</td>\n",
              "      <td>0.000707</td>\n",
              "    </tr>\n",
              "    <tr>\n",
              "      <th>4</th>\n",
              "      <td>50</td>\n",
              "      <td>0.000724</td>\n",
              "    </tr>\n",
              "  </tbody>\n",
              "</table>\n",
              "</div>\n",
              "    <div class=\"colab-df-buttons\">\n",
              "\n",
              "  <div class=\"colab-df-container\">\n",
              "    <button class=\"colab-df-convert\" onclick=\"convertToInteractive('df-846880dc-1e90-42c7-9333-2c9dd58f6468')\"\n",
              "            title=\"Convert this dataframe to an interactive table.\"\n",
              "            style=\"display:none;\">\n",
              "\n",
              "  <svg xmlns=\"http://www.w3.org/2000/svg\" height=\"24px\" viewBox=\"0 -960 960 960\">\n",
              "    <path d=\"M120-120v-720h720v720H120Zm60-500h600v-160H180v160Zm220 220h160v-160H400v160Zm0 220h160v-160H400v160ZM180-400h160v-160H180v160Zm440 0h160v-160H620v160ZM180-180h160v-160H180v160Zm440 0h160v-160H620v160Z\"/>\n",
              "  </svg>\n",
              "    </button>\n",
              "\n",
              "  <style>\n",
              "    .colab-df-container {\n",
              "      display:flex;\n",
              "      gap: 12px;\n",
              "    }\n",
              "\n",
              "    .colab-df-convert {\n",
              "      background-color: #E8F0FE;\n",
              "      border: none;\n",
              "      border-radius: 50%;\n",
              "      cursor: pointer;\n",
              "      display: none;\n",
              "      fill: #1967D2;\n",
              "      height: 32px;\n",
              "      padding: 0 0 0 0;\n",
              "      width: 32px;\n",
              "    }\n",
              "\n",
              "    .colab-df-convert:hover {\n",
              "      background-color: #E2EBFA;\n",
              "      box-shadow: 0px 1px 2px rgba(60, 64, 67, 0.3), 0px 1px 3px 1px rgba(60, 64, 67, 0.15);\n",
              "      fill: #174EA6;\n",
              "    }\n",
              "\n",
              "    .colab-df-buttons div {\n",
              "      margin-bottom: 4px;\n",
              "    }\n",
              "\n",
              "    [theme=dark] .colab-df-convert {\n",
              "      background-color: #3B4455;\n",
              "      fill: #D2E3FC;\n",
              "    }\n",
              "\n",
              "    [theme=dark] .colab-df-convert:hover {\n",
              "      background-color: #434B5C;\n",
              "      box-shadow: 0px 1px 3px 1px rgba(0, 0, 0, 0.15);\n",
              "      filter: drop-shadow(0px 1px 2px rgba(0, 0, 0, 0.3));\n",
              "      fill: #FFFFFF;\n",
              "    }\n",
              "  </style>\n",
              "\n",
              "    <script>\n",
              "      const buttonEl =\n",
              "        document.querySelector('#df-846880dc-1e90-42c7-9333-2c9dd58f6468 button.colab-df-convert');\n",
              "      buttonEl.style.display =\n",
              "        google.colab.kernel.accessAllowed ? 'block' : 'none';\n",
              "\n",
              "      async function convertToInteractive(key) {\n",
              "        const element = document.querySelector('#df-846880dc-1e90-42c7-9333-2c9dd58f6468');\n",
              "        const dataTable =\n",
              "          await google.colab.kernel.invokeFunction('convertToInteractive',\n",
              "                                                    [key], {});\n",
              "        if (!dataTable) return;\n",
              "\n",
              "        const docLinkHtml = 'Like what you see? Visit the ' +\n",
              "          '<a target=\"_blank\" href=https://colab.research.google.com/notebooks/data_table.ipynb>data table notebook</a>'\n",
              "          + ' to learn more about interactive tables.';\n",
              "        element.innerHTML = '';\n",
              "        dataTable['output_type'] = 'display_data';\n",
              "        await google.colab.output.renderOutput(dataTable, element);\n",
              "        const docLink = document.createElement('div');\n",
              "        docLink.innerHTML = docLinkHtml;\n",
              "        element.appendChild(docLink);\n",
              "      }\n",
              "    </script>\n",
              "  </div>\n",
              "\n",
              "\n",
              "<div id=\"df-fae90e80-0c06-4348-9faa-b190f4aac041\">\n",
              "  <button class=\"colab-df-quickchart\" onclick=\"quickchart('df-fae90e80-0c06-4348-9faa-b190f4aac041')\"\n",
              "            title=\"Suggest charts\"\n",
              "            style=\"display:none;\">\n",
              "\n",
              "<svg xmlns=\"http://www.w3.org/2000/svg\" height=\"24px\"viewBox=\"0 0 24 24\"\n",
              "     width=\"24px\">\n",
              "    <g>\n",
              "        <path d=\"M19 3H5c-1.1 0-2 .9-2 2v14c0 1.1.9 2 2 2h14c1.1 0 2-.9 2-2V5c0-1.1-.9-2-2-2zM9 17H7v-7h2v7zm4 0h-2V7h2v10zm4 0h-2v-4h2v4z\"/>\n",
              "    </g>\n",
              "</svg>\n",
              "  </button>\n",
              "\n",
              "<style>\n",
              "  .colab-df-quickchart {\n",
              "      --bg-color: #E8F0FE;\n",
              "      --fill-color: #1967D2;\n",
              "      --hover-bg-color: #E2EBFA;\n",
              "      --hover-fill-color: #174EA6;\n",
              "      --disabled-fill-color: #AAA;\n",
              "      --disabled-bg-color: #DDD;\n",
              "  }\n",
              "\n",
              "  [theme=dark] .colab-df-quickchart {\n",
              "      --bg-color: #3B4455;\n",
              "      --fill-color: #D2E3FC;\n",
              "      --hover-bg-color: #434B5C;\n",
              "      --hover-fill-color: #FFFFFF;\n",
              "      --disabled-bg-color: #3B4455;\n",
              "      --disabled-fill-color: #666;\n",
              "  }\n",
              "\n",
              "  .colab-df-quickchart {\n",
              "    background-color: var(--bg-color);\n",
              "    border: none;\n",
              "    border-radius: 50%;\n",
              "    cursor: pointer;\n",
              "    display: none;\n",
              "    fill: var(--fill-color);\n",
              "    height: 32px;\n",
              "    padding: 0;\n",
              "    width: 32px;\n",
              "  }\n",
              "\n",
              "  .colab-df-quickchart:hover {\n",
              "    background-color: var(--hover-bg-color);\n",
              "    box-shadow: 0 1px 2px rgba(60, 64, 67, 0.3), 0 1px 3px 1px rgba(60, 64, 67, 0.15);\n",
              "    fill: var(--button-hover-fill-color);\n",
              "  }\n",
              "\n",
              "  .colab-df-quickchart-complete:disabled,\n",
              "  .colab-df-quickchart-complete:disabled:hover {\n",
              "    background-color: var(--disabled-bg-color);\n",
              "    fill: var(--disabled-fill-color);\n",
              "    box-shadow: none;\n",
              "  }\n",
              "\n",
              "  .colab-df-spinner {\n",
              "    border: 2px solid var(--fill-color);\n",
              "    border-color: transparent;\n",
              "    border-bottom-color: var(--fill-color);\n",
              "    animation:\n",
              "      spin 1s steps(1) infinite;\n",
              "  }\n",
              "\n",
              "  @keyframes spin {\n",
              "    0% {\n",
              "      border-color: transparent;\n",
              "      border-bottom-color: var(--fill-color);\n",
              "      border-left-color: var(--fill-color);\n",
              "    }\n",
              "    20% {\n",
              "      border-color: transparent;\n",
              "      border-left-color: var(--fill-color);\n",
              "      border-top-color: var(--fill-color);\n",
              "    }\n",
              "    30% {\n",
              "      border-color: transparent;\n",
              "      border-left-color: var(--fill-color);\n",
              "      border-top-color: var(--fill-color);\n",
              "      border-right-color: var(--fill-color);\n",
              "    }\n",
              "    40% {\n",
              "      border-color: transparent;\n",
              "      border-right-color: var(--fill-color);\n",
              "      border-top-color: var(--fill-color);\n",
              "    }\n",
              "    60% {\n",
              "      border-color: transparent;\n",
              "      border-right-color: var(--fill-color);\n",
              "    }\n",
              "    80% {\n",
              "      border-color: transparent;\n",
              "      border-right-color: var(--fill-color);\n",
              "      border-bottom-color: var(--fill-color);\n",
              "    }\n",
              "    90% {\n",
              "      border-color: transparent;\n",
              "      border-bottom-color: var(--fill-color);\n",
              "    }\n",
              "  }\n",
              "</style>\n",
              "\n",
              "  <script>\n",
              "    async function quickchart(key) {\n",
              "      const quickchartButtonEl =\n",
              "        document.querySelector('#' + key + ' button');\n",
              "      quickchartButtonEl.disabled = true;  // To prevent multiple clicks.\n",
              "      quickchartButtonEl.classList.add('colab-df-spinner');\n",
              "      try {\n",
              "        const charts = await google.colab.kernel.invokeFunction(\n",
              "            'suggestCharts', [key], {});\n",
              "      } catch (error) {\n",
              "        console.error('Error during call to suggestCharts:', error);\n",
              "      }\n",
              "      quickchartButtonEl.classList.remove('colab-df-spinner');\n",
              "      quickchartButtonEl.classList.add('colab-df-quickchart-complete');\n",
              "    }\n",
              "    (() => {\n",
              "      let quickchartButtonEl =\n",
              "        document.querySelector('#df-fae90e80-0c06-4348-9faa-b190f4aac041 button');\n",
              "      quickchartButtonEl.style.display =\n",
              "        google.colab.kernel.accessAllowed ? 'block' : 'none';\n",
              "    })();\n",
              "  </script>\n",
              "</div>\n",
              "    </div>\n",
              "  </div>\n"
            ],
            "text/plain": [
              "   movieId  pagerank\n",
              "0        1  0.000776\n",
              "1        3  0.000200\n",
              "2        6  0.000368\n",
              "3       47  0.000707\n",
              "4       50  0.000724"
            ]
          },
          "execution_count": 15,
          "metadata": {},
          "output_type": "execute_result"
        }
      ],
      "source": [
        "# Copy pagerank values to movie nodes\n",
        "x = conn.execute(\n",
        "  \"\"\"\n",
        "  LOAD FROM movie_df\n",
        "  MERGE (m:Movie {movieId: id})\n",
        "  ON MATCH SET m.pagerank = pagerank\n",
        "  RETURN m.movieId AS movieId, m.pagerank AS pagerank;\n",
        "  \"\"\"\n",
        ")\n",
        "x.get_as_df().head()\n"
      ]
    },
    {
      "cell_type": "code",
      "execution_count": null,
      "metadata": {
        "colab": {
          "base_uri": "https://localhost:8080/",
          "height": 206
        },
        "id": "fLZiJoF0IT-1",
        "outputId": "040b2496-c035-4d9c-d12d-b3d1f6b1743e"
      },
      "outputs": [
        {
          "data": {
            "application/vnd.google.colaboratory.intrinsic+json": {
              "summary": "{\n  \"name\": \"y\",\n  \"rows\": 5,\n  \"fields\": [\n    {\n      \"column\": \"userId\",\n      \"properties\": {\n        \"dtype\": \"number\",\n        \"std\": 1,\n        \"min\": 1,\n        \"max\": 5,\n        \"num_unique_values\": 5,\n        \"samples\": [\n          2,\n          5,\n          3\n        ],\n        \"semantic_type\": \"\",\n        \"description\": \"\"\n      }\n    },\n    {\n      \"column\": \"pagerank\",\n      \"properties\": {\n        \"dtype\": \"number\",\n        \"std\": 0.0003966595378577571,\n        \"min\": 0.00013435493759834035,\n        \"max\": 0.0009291803627870942,\n        \"num_unique_values\": 5,\n        \"samples\": [\n          0.00013435493759834035,\n          0.00015107307195650032,\n          0.000253542515231427\n        ],\n        \"semantic_type\": \"\",\n        \"description\": \"\"\n      }\n    }\n  ]\n}",
              "type": "dataframe"
            },
            "text/html": [
              "\n",
              "  <div id=\"df-7ef955bc-0b91-4135-b55b-ffec3c581cdb\" class=\"colab-df-container\">\n",
              "    <div>\n",
              "<style scoped>\n",
              "    .dataframe tbody tr th:only-of-type {\n",
              "        vertical-align: middle;\n",
              "    }\n",
              "\n",
              "    .dataframe tbody tr th {\n",
              "        vertical-align: top;\n",
              "    }\n",
              "\n",
              "    .dataframe thead th {\n",
              "        text-align: right;\n",
              "    }\n",
              "</style>\n",
              "<table border=\"1\" class=\"dataframe\">\n",
              "  <thead>\n",
              "    <tr style=\"text-align: right;\">\n",
              "      <th></th>\n",
              "      <th>userId</th>\n",
              "      <th>pagerank</th>\n",
              "    </tr>\n",
              "  </thead>\n",
              "  <tbody>\n",
              "    <tr>\n",
              "      <th>0</th>\n",
              "      <td>1</td>\n",
              "      <td>0.000867</td>\n",
              "    </tr>\n",
              "    <tr>\n",
              "      <th>1</th>\n",
              "      <td>2</td>\n",
              "      <td>0.000134</td>\n",
              "    </tr>\n",
              "    <tr>\n",
              "      <th>2</th>\n",
              "      <td>3</td>\n",
              "      <td>0.000254</td>\n",
              "    </tr>\n",
              "    <tr>\n",
              "      <th>3</th>\n",
              "      <td>4</td>\n",
              "      <td>0.000929</td>\n",
              "    </tr>\n",
              "    <tr>\n",
              "      <th>4</th>\n",
              "      <td>5</td>\n",
              "      <td>0.000151</td>\n",
              "    </tr>\n",
              "  </tbody>\n",
              "</table>\n",
              "</div>\n",
              "    <div class=\"colab-df-buttons\">\n",
              "\n",
              "  <div class=\"colab-df-container\">\n",
              "    <button class=\"colab-df-convert\" onclick=\"convertToInteractive('df-7ef955bc-0b91-4135-b55b-ffec3c581cdb')\"\n",
              "            title=\"Convert this dataframe to an interactive table.\"\n",
              "            style=\"display:none;\">\n",
              "\n",
              "  <svg xmlns=\"http://www.w3.org/2000/svg\" height=\"24px\" viewBox=\"0 -960 960 960\">\n",
              "    <path d=\"M120-120v-720h720v720H120Zm60-500h600v-160H180v160Zm220 220h160v-160H400v160Zm0 220h160v-160H400v160ZM180-400h160v-160H180v160Zm440 0h160v-160H620v160ZM180-180h160v-160H180v160Zm440 0h160v-160H620v160Z\"/>\n",
              "  </svg>\n",
              "    </button>\n",
              "\n",
              "  <style>\n",
              "    .colab-df-container {\n",
              "      display:flex;\n",
              "      gap: 12px;\n",
              "    }\n",
              "\n",
              "    .colab-df-convert {\n",
              "      background-color: #E8F0FE;\n",
              "      border: none;\n",
              "      border-radius: 50%;\n",
              "      cursor: pointer;\n",
              "      display: none;\n",
              "      fill: #1967D2;\n",
              "      height: 32px;\n",
              "      padding: 0 0 0 0;\n",
              "      width: 32px;\n",
              "    }\n",
              "\n",
              "    .colab-df-convert:hover {\n",
              "      background-color: #E2EBFA;\n",
              "      box-shadow: 0px 1px 2px rgba(60, 64, 67, 0.3), 0px 1px 3px 1px rgba(60, 64, 67, 0.15);\n",
              "      fill: #174EA6;\n",
              "    }\n",
              "\n",
              "    .colab-df-buttons div {\n",
              "      margin-bottom: 4px;\n",
              "    }\n",
              "\n",
              "    [theme=dark] .colab-df-convert {\n",
              "      background-color: #3B4455;\n",
              "      fill: #D2E3FC;\n",
              "    }\n",
              "\n",
              "    [theme=dark] .colab-df-convert:hover {\n",
              "      background-color: #434B5C;\n",
              "      box-shadow: 0px 1px 3px 1px rgba(0, 0, 0, 0.15);\n",
              "      filter: drop-shadow(0px 1px 2px rgba(0, 0, 0, 0.3));\n",
              "      fill: #FFFFFF;\n",
              "    }\n",
              "  </style>\n",
              "\n",
              "    <script>\n",
              "      const buttonEl =\n",
              "        document.querySelector('#df-7ef955bc-0b91-4135-b55b-ffec3c581cdb button.colab-df-convert');\n",
              "      buttonEl.style.display =\n",
              "        google.colab.kernel.accessAllowed ? 'block' : 'none';\n",
              "\n",
              "      async function convertToInteractive(key) {\n",
              "        const element = document.querySelector('#df-7ef955bc-0b91-4135-b55b-ffec3c581cdb');\n",
              "        const dataTable =\n",
              "          await google.colab.kernel.invokeFunction('convertToInteractive',\n",
              "                                                    [key], {});\n",
              "        if (!dataTable) return;\n",
              "\n",
              "        const docLinkHtml = 'Like what you see? Visit the ' +\n",
              "          '<a target=\"_blank\" href=https://colab.research.google.com/notebooks/data_table.ipynb>data table notebook</a>'\n",
              "          + ' to learn more about interactive tables.';\n",
              "        element.innerHTML = '';\n",
              "        dataTable['output_type'] = 'display_data';\n",
              "        await google.colab.output.renderOutput(dataTable, element);\n",
              "        const docLink = document.createElement('div');\n",
              "        docLink.innerHTML = docLinkHtml;\n",
              "        element.appendChild(docLink);\n",
              "      }\n",
              "    </script>\n",
              "  </div>\n",
              "\n",
              "\n",
              "<div id=\"df-3ce77684-8553-453e-8352-3e13408538f7\">\n",
              "  <button class=\"colab-df-quickchart\" onclick=\"quickchart('df-3ce77684-8553-453e-8352-3e13408538f7')\"\n",
              "            title=\"Suggest charts\"\n",
              "            style=\"display:none;\">\n",
              "\n",
              "<svg xmlns=\"http://www.w3.org/2000/svg\" height=\"24px\"viewBox=\"0 0 24 24\"\n",
              "     width=\"24px\">\n",
              "    <g>\n",
              "        <path d=\"M19 3H5c-1.1 0-2 .9-2 2v14c0 1.1.9 2 2 2h14c1.1 0 2-.9 2-2V5c0-1.1-.9-2-2-2zM9 17H7v-7h2v7zm4 0h-2V7h2v10zm4 0h-2v-4h2v4z\"/>\n",
              "    </g>\n",
              "</svg>\n",
              "  </button>\n",
              "\n",
              "<style>\n",
              "  .colab-df-quickchart {\n",
              "      --bg-color: #E8F0FE;\n",
              "      --fill-color: #1967D2;\n",
              "      --hover-bg-color: #E2EBFA;\n",
              "      --hover-fill-color: #174EA6;\n",
              "      --disabled-fill-color: #AAA;\n",
              "      --disabled-bg-color: #DDD;\n",
              "  }\n",
              "\n",
              "  [theme=dark] .colab-df-quickchart {\n",
              "      --bg-color: #3B4455;\n",
              "      --fill-color: #D2E3FC;\n",
              "      --hover-bg-color: #434B5C;\n",
              "      --hover-fill-color: #FFFFFF;\n",
              "      --disabled-bg-color: #3B4455;\n",
              "      --disabled-fill-color: #666;\n",
              "  }\n",
              "\n",
              "  .colab-df-quickchart {\n",
              "    background-color: var(--bg-color);\n",
              "    border: none;\n",
              "    border-radius: 50%;\n",
              "    cursor: pointer;\n",
              "    display: none;\n",
              "    fill: var(--fill-color);\n",
              "    height: 32px;\n",
              "    padding: 0;\n",
              "    width: 32px;\n",
              "  }\n",
              "\n",
              "  .colab-df-quickchart:hover {\n",
              "    background-color: var(--hover-bg-color);\n",
              "    box-shadow: 0 1px 2px rgba(60, 64, 67, 0.3), 0 1px 3px 1px rgba(60, 64, 67, 0.15);\n",
              "    fill: var(--button-hover-fill-color);\n",
              "  }\n",
              "\n",
              "  .colab-df-quickchart-complete:disabled,\n",
              "  .colab-df-quickchart-complete:disabled:hover {\n",
              "    background-color: var(--disabled-bg-color);\n",
              "    fill: var(--disabled-fill-color);\n",
              "    box-shadow: none;\n",
              "  }\n",
              "\n",
              "  .colab-df-spinner {\n",
              "    border: 2px solid var(--fill-color);\n",
              "    border-color: transparent;\n",
              "    border-bottom-color: var(--fill-color);\n",
              "    animation:\n",
              "      spin 1s steps(1) infinite;\n",
              "  }\n",
              "\n",
              "  @keyframes spin {\n",
              "    0% {\n",
              "      border-color: transparent;\n",
              "      border-bottom-color: var(--fill-color);\n",
              "      border-left-color: var(--fill-color);\n",
              "    }\n",
              "    20% {\n",
              "      border-color: transparent;\n",
              "      border-left-color: var(--fill-color);\n",
              "      border-top-color: var(--fill-color);\n",
              "    }\n",
              "    30% {\n",
              "      border-color: transparent;\n",
              "      border-left-color: var(--fill-color);\n",
              "      border-top-color: var(--fill-color);\n",
              "      border-right-color: var(--fill-color);\n",
              "    }\n",
              "    40% {\n",
              "      border-color: transparent;\n",
              "      border-right-color: var(--fill-color);\n",
              "      border-top-color: var(--fill-color);\n",
              "    }\n",
              "    60% {\n",
              "      border-color: transparent;\n",
              "      border-right-color: var(--fill-color);\n",
              "    }\n",
              "    80% {\n",
              "      border-color: transparent;\n",
              "      border-right-color: var(--fill-color);\n",
              "      border-bottom-color: var(--fill-color);\n",
              "    }\n",
              "    90% {\n",
              "      border-color: transparent;\n",
              "      border-bottom-color: var(--fill-color);\n",
              "    }\n",
              "  }\n",
              "</style>\n",
              "\n",
              "  <script>\n",
              "    async function quickchart(key) {\n",
              "      const quickchartButtonEl =\n",
              "        document.querySelector('#' + key + ' button');\n",
              "      quickchartButtonEl.disabled = true;  // To prevent multiple clicks.\n",
              "      quickchartButtonEl.classList.add('colab-df-spinner');\n",
              "      try {\n",
              "        const charts = await google.colab.kernel.invokeFunction(\n",
              "            'suggestCharts', [key], {});\n",
              "      } catch (error) {\n",
              "        console.error('Error during call to suggestCharts:', error);\n",
              "      }\n",
              "      quickchartButtonEl.classList.remove('colab-df-spinner');\n",
              "      quickchartButtonEl.classList.add('colab-df-quickchart-complete');\n",
              "    }\n",
              "    (() => {\n",
              "      let quickchartButtonEl =\n",
              "        document.querySelector('#df-3ce77684-8553-453e-8352-3e13408538f7 button');\n",
              "      quickchartButtonEl.style.display =\n",
              "        google.colab.kernel.accessAllowed ? 'block' : 'none';\n",
              "    })();\n",
              "  </script>\n",
              "</div>\n",
              "    </div>\n",
              "  </div>\n"
            ],
            "text/plain": [
              "   userId  pagerank\n",
              "0       1  0.000867\n",
              "1       2  0.000134\n",
              "2       3  0.000254\n",
              "3       4  0.000929\n",
              "4       5  0.000151"
            ]
          },
          "execution_count": 16,
          "metadata": {},
          "output_type": "execute_result"
        }
      ],
      "source": [
        "# Copy user pagerank values to user nodes\n",
        "y = conn.execute(\n",
        "  \"\"\"\n",
        "  LOAD FROM user_df\n",
        "  MERGE (u:User {userId: id})\n",
        "  ON MATCH SET u.pagerank = pagerank\n",
        "  RETURN u.userId As userId, u.pagerank AS pagerank;\n",
        "  \"\"\"\n",
        ")\n",
        "y.get_as_df().head()"
      ]
    },
    {
      "cell_type": "markdown",
      "metadata": {
        "id": "QWYZ7qwj6evf"
      },
      "source": [
        "We next find the top 20 pagerank movies and then users."
      ]
    },
    {
      "cell_type": "code",
      "execution_count": null,
      "metadata": {
        "colab": {
          "base_uri": "https://localhost:8080/",
          "height": 362
        },
        "id": "0fEefVNafHiJ",
        "outputId": "fe2cca61-dab0-4815-a58d-bb1225f0076e"
      },
      "outputs": [
        {
          "data": {
            "application/vnd.google.colaboratory.intrinsic+json": {
              "summary": "{\n  \"name\": \"conn\",\n  \"rows\": 10,\n  \"fields\": [\n    {\n      \"column\": \"m.title\",\n      \"properties\": {\n        \"dtype\": \"string\",\n        \"num_unique_values\": 10,\n        \"samples\": [\n          \"Fight Club (1999)\",\n          \"Shawshank Redemption, The (1994)\",\n          \"Star Wars: Episode IV - A New Hope (1977)\"\n        ],\n        \"semantic_type\": \"\",\n        \"description\": \"\"\n      }\n    },\n    {\n      \"column\": \"m.pagerank\",\n      \"properties\": {\n        \"dtype\": \"number\",\n        \"std\": 0.00013908667912823066,\n        \"min\": 0.0007781856282699511,\n        \"max\": 0.0011545323047463607,\n        \"num_unique_values\": 10,\n        \"samples\": [\n          0.0007970642880066208,\n          0.0010987713680091786,\n          0.000903179482065212\n        ],\n        \"semantic_type\": \"\",\n        \"description\": \"\"\n      }\n    }\n  ]\n}",
              "type": "dataframe"
            },
            "text/html": [
              "\n",
              "  <div id=\"df-ed9a940c-f2a5-4ae9-98b2-90706c26c973\" class=\"colab-df-container\">\n",
              "    <div>\n",
              "<style scoped>\n",
              "    .dataframe tbody tr th:only-of-type {\n",
              "        vertical-align: middle;\n",
              "    }\n",
              "\n",
              "    .dataframe tbody tr th {\n",
              "        vertical-align: top;\n",
              "    }\n",
              "\n",
              "    .dataframe thead th {\n",
              "        text-align: right;\n",
              "    }\n",
              "</style>\n",
              "<table border=\"1\" class=\"dataframe\">\n",
              "  <thead>\n",
              "    <tr style=\"text-align: right;\">\n",
              "      <th></th>\n",
              "      <th>m.title</th>\n",
              "      <th>m.pagerank</th>\n",
              "    </tr>\n",
              "  </thead>\n",
              "  <tbody>\n",
              "    <tr>\n",
              "      <th>0</th>\n",
              "      <td>Forrest Gump (1994)</td>\n",
              "      <td>0.001155</td>\n",
              "    </tr>\n",
              "    <tr>\n",
              "      <th>1</th>\n",
              "      <td>Shawshank Redemption, The (1994)</td>\n",
              "      <td>0.001099</td>\n",
              "    </tr>\n",
              "    <tr>\n",
              "      <th>2</th>\n",
              "      <td>Pulp Fiction (1994)</td>\n",
              "      <td>0.001075</td>\n",
              "    </tr>\n",
              "    <tr>\n",
              "      <th>3</th>\n",
              "      <td>Matrix, The (1999)</td>\n",
              "      <td>0.001006</td>\n",
              "    </tr>\n",
              "    <tr>\n",
              "      <th>4</th>\n",
              "      <td>Silence of the Lambs, The (1991)</td>\n",
              "      <td>0.000987</td>\n",
              "    </tr>\n",
              "    <tr>\n",
              "      <th>5</th>\n",
              "      <td>Star Wars: Episode IV - A New Hope (1977)</td>\n",
              "      <td>0.000903</td>\n",
              "    </tr>\n",
              "    <tr>\n",
              "      <th>6</th>\n",
              "      <td>Jurassic Park (1993)</td>\n",
              "      <td>0.000825</td>\n",
              "    </tr>\n",
              "    <tr>\n",
              "      <th>7</th>\n",
              "      <td>Braveheart (1995)</td>\n",
              "      <td>0.000810</td>\n",
              "    </tr>\n",
              "    <tr>\n",
              "      <th>8</th>\n",
              "      <td>Fight Club (1999)</td>\n",
              "      <td>0.000797</td>\n",
              "    </tr>\n",
              "    <tr>\n",
              "      <th>9</th>\n",
              "      <td>Schindler's List (1993)</td>\n",
              "      <td>0.000778</td>\n",
              "    </tr>\n",
              "  </tbody>\n",
              "</table>\n",
              "</div>\n",
              "    <div class=\"colab-df-buttons\">\n",
              "\n",
              "  <div class=\"colab-df-container\">\n",
              "    <button class=\"colab-df-convert\" onclick=\"convertToInteractive('df-ed9a940c-f2a5-4ae9-98b2-90706c26c973')\"\n",
              "            title=\"Convert this dataframe to an interactive table.\"\n",
              "            style=\"display:none;\">\n",
              "\n",
              "  <svg xmlns=\"http://www.w3.org/2000/svg\" height=\"24px\" viewBox=\"0 -960 960 960\">\n",
              "    <path d=\"M120-120v-720h720v720H120Zm60-500h600v-160H180v160Zm220 220h160v-160H400v160Zm0 220h160v-160H400v160ZM180-400h160v-160H180v160Zm440 0h160v-160H620v160ZM180-180h160v-160H180v160Zm440 0h160v-160H620v160Z\"/>\n",
              "  </svg>\n",
              "    </button>\n",
              "\n",
              "  <style>\n",
              "    .colab-df-container {\n",
              "      display:flex;\n",
              "      gap: 12px;\n",
              "    }\n",
              "\n",
              "    .colab-df-convert {\n",
              "      background-color: #E8F0FE;\n",
              "      border: none;\n",
              "      border-radius: 50%;\n",
              "      cursor: pointer;\n",
              "      display: none;\n",
              "      fill: #1967D2;\n",
              "      height: 32px;\n",
              "      padding: 0 0 0 0;\n",
              "      width: 32px;\n",
              "    }\n",
              "\n",
              "    .colab-df-convert:hover {\n",
              "      background-color: #E2EBFA;\n",
              "      box-shadow: 0px 1px 2px rgba(60, 64, 67, 0.3), 0px 1px 3px 1px rgba(60, 64, 67, 0.15);\n",
              "      fill: #174EA6;\n",
              "    }\n",
              "\n",
              "    .colab-df-buttons div {\n",
              "      margin-bottom: 4px;\n",
              "    }\n",
              "\n",
              "    [theme=dark] .colab-df-convert {\n",
              "      background-color: #3B4455;\n",
              "      fill: #D2E3FC;\n",
              "    }\n",
              "\n",
              "    [theme=dark] .colab-df-convert:hover {\n",
              "      background-color: #434B5C;\n",
              "      box-shadow: 0px 1px 3px 1px rgba(0, 0, 0, 0.15);\n",
              "      filter: drop-shadow(0px 1px 2px rgba(0, 0, 0, 0.3));\n",
              "      fill: #FFFFFF;\n",
              "    }\n",
              "  </style>\n",
              "\n",
              "    <script>\n",
              "      const buttonEl =\n",
              "        document.querySelector('#df-ed9a940c-f2a5-4ae9-98b2-90706c26c973 button.colab-df-convert');\n",
              "      buttonEl.style.display =\n",
              "        google.colab.kernel.accessAllowed ? 'block' : 'none';\n",
              "\n",
              "      async function convertToInteractive(key) {\n",
              "        const element = document.querySelector('#df-ed9a940c-f2a5-4ae9-98b2-90706c26c973');\n",
              "        const dataTable =\n",
              "          await google.colab.kernel.invokeFunction('convertToInteractive',\n",
              "                                                    [key], {});\n",
              "        if (!dataTable) return;\n",
              "\n",
              "        const docLinkHtml = 'Like what you see? Visit the ' +\n",
              "          '<a target=\"_blank\" href=https://colab.research.google.com/notebooks/data_table.ipynb>data table notebook</a>'\n",
              "          + ' to learn more about interactive tables.';\n",
              "        element.innerHTML = '';\n",
              "        dataTable['output_type'] = 'display_data';\n",
              "        await google.colab.output.renderOutput(dataTable, element);\n",
              "        const docLink = document.createElement('div');\n",
              "        docLink.innerHTML = docLinkHtml;\n",
              "        element.appendChild(docLink);\n",
              "      }\n",
              "    </script>\n",
              "  </div>\n",
              "\n",
              "\n",
              "<div id=\"df-e26bfd3c-7fe5-4b8a-a559-b32627563782\">\n",
              "  <button class=\"colab-df-quickchart\" onclick=\"quickchart('df-e26bfd3c-7fe5-4b8a-a559-b32627563782')\"\n",
              "            title=\"Suggest charts\"\n",
              "            style=\"display:none;\">\n",
              "\n",
              "<svg xmlns=\"http://www.w3.org/2000/svg\" height=\"24px\"viewBox=\"0 0 24 24\"\n",
              "     width=\"24px\">\n",
              "    <g>\n",
              "        <path d=\"M19 3H5c-1.1 0-2 .9-2 2v14c0 1.1.9 2 2 2h14c1.1 0 2-.9 2-2V5c0-1.1-.9-2-2-2zM9 17H7v-7h2v7zm4 0h-2V7h2v10zm4 0h-2v-4h2v4z\"/>\n",
              "    </g>\n",
              "</svg>\n",
              "  </button>\n",
              "\n",
              "<style>\n",
              "  .colab-df-quickchart {\n",
              "      --bg-color: #E8F0FE;\n",
              "      --fill-color: #1967D2;\n",
              "      --hover-bg-color: #E2EBFA;\n",
              "      --hover-fill-color: #174EA6;\n",
              "      --disabled-fill-color: #AAA;\n",
              "      --disabled-bg-color: #DDD;\n",
              "  }\n",
              "\n",
              "  [theme=dark] .colab-df-quickchart {\n",
              "      --bg-color: #3B4455;\n",
              "      --fill-color: #D2E3FC;\n",
              "      --hover-bg-color: #434B5C;\n",
              "      --hover-fill-color: #FFFFFF;\n",
              "      --disabled-bg-color: #3B4455;\n",
              "      --disabled-fill-color: #666;\n",
              "  }\n",
              "\n",
              "  .colab-df-quickchart {\n",
              "    background-color: var(--bg-color);\n",
              "    border: none;\n",
              "    border-radius: 50%;\n",
              "    cursor: pointer;\n",
              "    display: none;\n",
              "    fill: var(--fill-color);\n",
              "    height: 32px;\n",
              "    padding: 0;\n",
              "    width: 32px;\n",
              "  }\n",
              "\n",
              "  .colab-df-quickchart:hover {\n",
              "    background-color: var(--hover-bg-color);\n",
              "    box-shadow: 0 1px 2px rgba(60, 64, 67, 0.3), 0 1px 3px 1px rgba(60, 64, 67, 0.15);\n",
              "    fill: var(--button-hover-fill-color);\n",
              "  }\n",
              "\n",
              "  .colab-df-quickchart-complete:disabled,\n",
              "  .colab-df-quickchart-complete:disabled:hover {\n",
              "    background-color: var(--disabled-bg-color);\n",
              "    fill: var(--disabled-fill-color);\n",
              "    box-shadow: none;\n",
              "  }\n",
              "\n",
              "  .colab-df-spinner {\n",
              "    border: 2px solid var(--fill-color);\n",
              "    border-color: transparent;\n",
              "    border-bottom-color: var(--fill-color);\n",
              "    animation:\n",
              "      spin 1s steps(1) infinite;\n",
              "  }\n",
              "\n",
              "  @keyframes spin {\n",
              "    0% {\n",
              "      border-color: transparent;\n",
              "      border-bottom-color: var(--fill-color);\n",
              "      border-left-color: var(--fill-color);\n",
              "    }\n",
              "    20% {\n",
              "      border-color: transparent;\n",
              "      border-left-color: var(--fill-color);\n",
              "      border-top-color: var(--fill-color);\n",
              "    }\n",
              "    30% {\n",
              "      border-color: transparent;\n",
              "      border-left-color: var(--fill-color);\n",
              "      border-top-color: var(--fill-color);\n",
              "      border-right-color: var(--fill-color);\n",
              "    }\n",
              "    40% {\n",
              "      border-color: transparent;\n",
              "      border-right-color: var(--fill-color);\n",
              "      border-top-color: var(--fill-color);\n",
              "    }\n",
              "    60% {\n",
              "      border-color: transparent;\n",
              "      border-right-color: var(--fill-color);\n",
              "    }\n",
              "    80% {\n",
              "      border-color: transparent;\n",
              "      border-right-color: var(--fill-color);\n",
              "      border-bottom-color: var(--fill-color);\n",
              "    }\n",
              "    90% {\n",
              "      border-color: transparent;\n",
              "      border-bottom-color: var(--fill-color);\n",
              "    }\n",
              "  }\n",
              "</style>\n",
              "\n",
              "  <script>\n",
              "    async function quickchart(key) {\n",
              "      const quickchartButtonEl =\n",
              "        document.querySelector('#' + key + ' button');\n",
              "      quickchartButtonEl.disabled = true;  // To prevent multiple clicks.\n",
              "      quickchartButtonEl.classList.add('colab-df-spinner');\n",
              "      try {\n",
              "        const charts = await google.colab.kernel.invokeFunction(\n",
              "            'suggestCharts', [key], {});\n",
              "      } catch (error) {\n",
              "        console.error('Error during call to suggestCharts:', error);\n",
              "      }\n",
              "      quickchartButtonEl.classList.remove('colab-df-spinner');\n",
              "      quickchartButtonEl.classList.add('colab-df-quickchart-complete');\n",
              "    }\n",
              "    (() => {\n",
              "      let quickchartButtonEl =\n",
              "        document.querySelector('#df-e26bfd3c-7fe5-4b8a-a559-b32627563782 button');\n",
              "      quickchartButtonEl.style.display =\n",
              "        google.colab.kernel.accessAllowed ? 'block' : 'none';\n",
              "    })();\n",
              "  </script>\n",
              "</div>\n",
              "    </div>\n",
              "  </div>\n"
            ],
            "text/plain": [
              "                                     m.title  m.pagerank\n",
              "0                        Forrest Gump (1994)    0.001155\n",
              "1           Shawshank Redemption, The (1994)    0.001099\n",
              "2                        Pulp Fiction (1994)    0.001075\n",
              "3                         Matrix, The (1999)    0.001006\n",
              "4           Silence of the Lambs, The (1991)    0.000987\n",
              "5  Star Wars: Episode IV - A New Hope (1977)    0.000903\n",
              "6                       Jurassic Park (1993)    0.000825\n",
              "7                          Braveheart (1995)    0.000810\n",
              "8                          Fight Club (1999)    0.000797\n",
              "9                    Schindler's List (1993)    0.000778"
            ]
          },
          "execution_count": 17,
          "metadata": {},
          "output_type": "execute_result"
        }
      ],
      "source": [
        "conn.execute('MATCH (m:Movie) RETURN m.title, m.pagerank ORDER BY m.pagerank DESC LIMIT 10').get_as_df()"
      ]
    },
    {
      "cell_type": "code",
      "execution_count": null,
      "metadata": {
        "colab": {
          "base_uri": "https://localhost:8080/",
          "height": 362
        },
        "id": "_dPQHjmPdrNo",
        "outputId": "596b2864-6fd3-4363-cd22-57dececaf716"
      },
      "outputs": [
        {
          "data": {
            "application/vnd.google.colaboratory.intrinsic+json": {
              "summary": "{\n  \"name\": \"conn\",\n  \"rows\": 10,\n  \"fields\": [\n    {\n      \"column\": \"u.userId\",\n      \"properties\": {\n        \"dtype\": \"number\",\n        \"std\": 166,\n        \"min\": 89,\n        \"max\": 610,\n        \"num_unique_values\": 10,\n        \"samples\": [\n          380,\n          414,\n          606\n        ],\n        \"semantic_type\": \"\",\n        \"description\": \"\"\n      }\n    },\n    {\n      \"column\": \"u.pagerank\",\n      \"properties\": {\n        \"dtype\": \"number\",\n        \"std\": 0.00425133616073048,\n        \"min\": 0.005919808556361484,\n        \"max\": 0.016400692690923178,\n        \"num_unique_values\": 10,\n        \"samples\": [\n          0.005997483430584697,\n          0.014711115727088515,\n          0.007245081997378365\n        ],\n        \"semantic_type\": \"\",\n        \"description\": \"\"\n      }\n    }\n  ]\n}",
              "type": "dataframe"
            },
            "text/html": [
              "\n",
              "  <div id=\"df-ad00aa2b-6f33-49a7-ab3b-bd5933eca508\" class=\"colab-df-container\">\n",
              "    <div>\n",
              "<style scoped>\n",
              "    .dataframe tbody tr th:only-of-type {\n",
              "        vertical-align: middle;\n",
              "    }\n",
              "\n",
              "    .dataframe tbody tr th {\n",
              "        vertical-align: top;\n",
              "    }\n",
              "\n",
              "    .dataframe thead th {\n",
              "        text-align: right;\n",
              "    }\n",
              "</style>\n",
              "<table border=\"1\" class=\"dataframe\">\n",
              "  <thead>\n",
              "    <tr style=\"text-align: right;\">\n",
              "      <th></th>\n",
              "      <th>u.userId</th>\n",
              "      <th>u.pagerank</th>\n",
              "    </tr>\n",
              "  </thead>\n",
              "  <tbody>\n",
              "    <tr>\n",
              "      <th>0</th>\n",
              "      <td>599</td>\n",
              "      <td>0.016401</td>\n",
              "    </tr>\n",
              "    <tr>\n",
              "      <th>1</th>\n",
              "      <td>414</td>\n",
              "      <td>0.014711</td>\n",
              "    </tr>\n",
              "    <tr>\n",
              "      <th>2</th>\n",
              "      <td>474</td>\n",
              "      <td>0.014380</td>\n",
              "    </tr>\n",
              "    <tr>\n",
              "      <th>3</th>\n",
              "      <td>448</td>\n",
              "      <td>0.012942</td>\n",
              "    </tr>\n",
              "    <tr>\n",
              "      <th>4</th>\n",
              "      <td>610</td>\n",
              "      <td>0.008492</td>\n",
              "    </tr>\n",
              "    <tr>\n",
              "      <th>5</th>\n",
              "      <td>606</td>\n",
              "      <td>0.007245</td>\n",
              "    </tr>\n",
              "    <tr>\n",
              "      <th>6</th>\n",
              "      <td>274</td>\n",
              "      <td>0.006253</td>\n",
              "    </tr>\n",
              "    <tr>\n",
              "      <th>7</th>\n",
              "      <td>89</td>\n",
              "      <td>0.006083</td>\n",
              "    </tr>\n",
              "    <tr>\n",
              "      <th>8</th>\n",
              "      <td>380</td>\n",
              "      <td>0.005997</td>\n",
              "    </tr>\n",
              "    <tr>\n",
              "      <th>9</th>\n",
              "      <td>318</td>\n",
              "      <td>0.005920</td>\n",
              "    </tr>\n",
              "  </tbody>\n",
              "</table>\n",
              "</div>\n",
              "    <div class=\"colab-df-buttons\">\n",
              "\n",
              "  <div class=\"colab-df-container\">\n",
              "    <button class=\"colab-df-convert\" onclick=\"convertToInteractive('df-ad00aa2b-6f33-49a7-ab3b-bd5933eca508')\"\n",
              "            title=\"Convert this dataframe to an interactive table.\"\n",
              "            style=\"display:none;\">\n",
              "\n",
              "  <svg xmlns=\"http://www.w3.org/2000/svg\" height=\"24px\" viewBox=\"0 -960 960 960\">\n",
              "    <path d=\"M120-120v-720h720v720H120Zm60-500h600v-160H180v160Zm220 220h160v-160H400v160Zm0 220h160v-160H400v160ZM180-400h160v-160H180v160Zm440 0h160v-160H620v160ZM180-180h160v-160H180v160Zm440 0h160v-160H620v160Z\"/>\n",
              "  </svg>\n",
              "    </button>\n",
              "\n",
              "  <style>\n",
              "    .colab-df-container {\n",
              "      display:flex;\n",
              "      gap: 12px;\n",
              "    }\n",
              "\n",
              "    .colab-df-convert {\n",
              "      background-color: #E8F0FE;\n",
              "      border: none;\n",
              "      border-radius: 50%;\n",
              "      cursor: pointer;\n",
              "      display: none;\n",
              "      fill: #1967D2;\n",
              "      height: 32px;\n",
              "      padding: 0 0 0 0;\n",
              "      width: 32px;\n",
              "    }\n",
              "\n",
              "    .colab-df-convert:hover {\n",
              "      background-color: #E2EBFA;\n",
              "      box-shadow: 0px 1px 2px rgba(60, 64, 67, 0.3), 0px 1px 3px 1px rgba(60, 64, 67, 0.15);\n",
              "      fill: #174EA6;\n",
              "    }\n",
              "\n",
              "    .colab-df-buttons div {\n",
              "      margin-bottom: 4px;\n",
              "    }\n",
              "\n",
              "    [theme=dark] .colab-df-convert {\n",
              "      background-color: #3B4455;\n",
              "      fill: #D2E3FC;\n",
              "    }\n",
              "\n",
              "    [theme=dark] .colab-df-convert:hover {\n",
              "      background-color: #434B5C;\n",
              "      box-shadow: 0px 1px 3px 1px rgba(0, 0, 0, 0.15);\n",
              "      filter: drop-shadow(0px 1px 2px rgba(0, 0, 0, 0.3));\n",
              "      fill: #FFFFFF;\n",
              "    }\n",
              "  </style>\n",
              "\n",
              "    <script>\n",
              "      const buttonEl =\n",
              "        document.querySelector('#df-ad00aa2b-6f33-49a7-ab3b-bd5933eca508 button.colab-df-convert');\n",
              "      buttonEl.style.display =\n",
              "        google.colab.kernel.accessAllowed ? 'block' : 'none';\n",
              "\n",
              "      async function convertToInteractive(key) {\n",
              "        const element = document.querySelector('#df-ad00aa2b-6f33-49a7-ab3b-bd5933eca508');\n",
              "        const dataTable =\n",
              "          await google.colab.kernel.invokeFunction('convertToInteractive',\n",
              "                                                    [key], {});\n",
              "        if (!dataTable) return;\n",
              "\n",
              "        const docLinkHtml = 'Like what you see? Visit the ' +\n",
              "          '<a target=\"_blank\" href=https://colab.research.google.com/notebooks/data_table.ipynb>data table notebook</a>'\n",
              "          + ' to learn more about interactive tables.';\n",
              "        element.innerHTML = '';\n",
              "        dataTable['output_type'] = 'display_data';\n",
              "        await google.colab.output.renderOutput(dataTable, element);\n",
              "        const docLink = document.createElement('div');\n",
              "        docLink.innerHTML = docLinkHtml;\n",
              "        element.appendChild(docLink);\n",
              "      }\n",
              "    </script>\n",
              "  </div>\n",
              "\n",
              "\n",
              "<div id=\"df-03dc68a1-a1d7-4c3b-a009-2527e092d781\">\n",
              "  <button class=\"colab-df-quickchart\" onclick=\"quickchart('df-03dc68a1-a1d7-4c3b-a009-2527e092d781')\"\n",
              "            title=\"Suggest charts\"\n",
              "            style=\"display:none;\">\n",
              "\n",
              "<svg xmlns=\"http://www.w3.org/2000/svg\" height=\"24px\"viewBox=\"0 0 24 24\"\n",
              "     width=\"24px\">\n",
              "    <g>\n",
              "        <path d=\"M19 3H5c-1.1 0-2 .9-2 2v14c0 1.1.9 2 2 2h14c1.1 0 2-.9 2-2V5c0-1.1-.9-2-2-2zM9 17H7v-7h2v7zm4 0h-2V7h2v10zm4 0h-2v-4h2v4z\"/>\n",
              "    </g>\n",
              "</svg>\n",
              "  </button>\n",
              "\n",
              "<style>\n",
              "  .colab-df-quickchart {\n",
              "      --bg-color: #E8F0FE;\n",
              "      --fill-color: #1967D2;\n",
              "      --hover-bg-color: #E2EBFA;\n",
              "      --hover-fill-color: #174EA6;\n",
              "      --disabled-fill-color: #AAA;\n",
              "      --disabled-bg-color: #DDD;\n",
              "  }\n",
              "\n",
              "  [theme=dark] .colab-df-quickchart {\n",
              "      --bg-color: #3B4455;\n",
              "      --fill-color: #D2E3FC;\n",
              "      --hover-bg-color: #434B5C;\n",
              "      --hover-fill-color: #FFFFFF;\n",
              "      --disabled-bg-color: #3B4455;\n",
              "      --disabled-fill-color: #666;\n",
              "  }\n",
              "\n",
              "  .colab-df-quickchart {\n",
              "    background-color: var(--bg-color);\n",
              "    border: none;\n",
              "    border-radius: 50%;\n",
              "    cursor: pointer;\n",
              "    display: none;\n",
              "    fill: var(--fill-color);\n",
              "    height: 32px;\n",
              "    padding: 0;\n",
              "    width: 32px;\n",
              "  }\n",
              "\n",
              "  .colab-df-quickchart:hover {\n",
              "    background-color: var(--hover-bg-color);\n",
              "    box-shadow: 0 1px 2px rgba(60, 64, 67, 0.3), 0 1px 3px 1px rgba(60, 64, 67, 0.15);\n",
              "    fill: var(--button-hover-fill-color);\n",
              "  }\n",
              "\n",
              "  .colab-df-quickchart-complete:disabled,\n",
              "  .colab-df-quickchart-complete:disabled:hover {\n",
              "    background-color: var(--disabled-bg-color);\n",
              "    fill: var(--disabled-fill-color);\n",
              "    box-shadow: none;\n",
              "  }\n",
              "\n",
              "  .colab-df-spinner {\n",
              "    border: 2px solid var(--fill-color);\n",
              "    border-color: transparent;\n",
              "    border-bottom-color: var(--fill-color);\n",
              "    animation:\n",
              "      spin 1s steps(1) infinite;\n",
              "  }\n",
              "\n",
              "  @keyframes spin {\n",
              "    0% {\n",
              "      border-color: transparent;\n",
              "      border-bottom-color: var(--fill-color);\n",
              "      border-left-color: var(--fill-color);\n",
              "    }\n",
              "    20% {\n",
              "      border-color: transparent;\n",
              "      border-left-color: var(--fill-color);\n",
              "      border-top-color: var(--fill-color);\n",
              "    }\n",
              "    30% {\n",
              "      border-color: transparent;\n",
              "      border-left-color: var(--fill-color);\n",
              "      border-top-color: var(--fill-color);\n",
              "      border-right-color: var(--fill-color);\n",
              "    }\n",
              "    40% {\n",
              "      border-color: transparent;\n",
              "      border-right-color: var(--fill-color);\n",
              "      border-top-color: var(--fill-color);\n",
              "    }\n",
              "    60% {\n",
              "      border-color: transparent;\n",
              "      border-right-color: var(--fill-color);\n",
              "    }\n",
              "    80% {\n",
              "      border-color: transparent;\n",
              "      border-right-color: var(--fill-color);\n",
              "      border-bottom-color: var(--fill-color);\n",
              "    }\n",
              "    90% {\n",
              "      border-color: transparent;\n",
              "      border-bottom-color: var(--fill-color);\n",
              "    }\n",
              "  }\n",
              "</style>\n",
              "\n",
              "  <script>\n",
              "    async function quickchart(key) {\n",
              "      const quickchartButtonEl =\n",
              "        document.querySelector('#' + key + ' button');\n",
              "      quickchartButtonEl.disabled = true;  // To prevent multiple clicks.\n",
              "      quickchartButtonEl.classList.add('colab-df-spinner');\n",
              "      try {\n",
              "        const charts = await google.colab.kernel.invokeFunction(\n",
              "            'suggestCharts', [key], {});\n",
              "      } catch (error) {\n",
              "        console.error('Error during call to suggestCharts:', error);\n",
              "      }\n",
              "      quickchartButtonEl.classList.remove('colab-df-spinner');\n",
              "      quickchartButtonEl.classList.add('colab-df-quickchart-complete');\n",
              "    }\n",
              "    (() => {\n",
              "      let quickchartButtonEl =\n",
              "        document.querySelector('#df-03dc68a1-a1d7-4c3b-a009-2527e092d781 button');\n",
              "      quickchartButtonEl.style.display =\n",
              "        google.colab.kernel.accessAllowed ? 'block' : 'none';\n",
              "    })();\n",
              "  </script>\n",
              "</div>\n",
              "    </div>\n",
              "  </div>\n"
            ],
            "text/plain": [
              "   u.userId  u.pagerank\n",
              "0       599    0.016401\n",
              "1       414    0.014711\n",
              "2       474    0.014380\n",
              "3       448    0.012942\n",
              "4       610    0.008492\n",
              "5       606    0.007245\n",
              "6       274    0.006253\n",
              "7        89    0.006083\n",
              "8       380    0.005997\n",
              "9       318    0.005920"
            ]
          },
          "execution_count": 18,
          "metadata": {},
          "output_type": "execute_result"
        }
      ],
      "source": [
        "conn.execute('MATCH (u:User) RETURN u.userId, u.pagerank ORDER BY u.pagerank DESC LIMIT 10').get_as_df()"
      ]
    },
    {
      "cell_type": "markdown",
      "metadata": {
        "id": "JcoxbV3d7jFN"
      },
      "source": [
        "As a final example, we find the average ratings from a highly influential (i.e, high pagerank score) user and highly influential movies. To filter high pagerank users, we first set a threshold of a user's score being above or below the top 10 pagerank scores for all users. Any user with a pagerank score above this value is considered an \"influential\" user. We repeat this same computation to find the threshold for movies. Then we find all ratings between influential users and movies and take their average."
      ]
    },
    {
      "cell_type": "code",
      "execution_count": null,
      "metadata": {
        "colab": {
          "base_uri": "https://localhost:8080/"
        },
        "id": "fLYRcnTR6nav",
        "outputId": "7bb484bc-9d06-4334-955f-72d73063c87a"
      },
      "outputs": [
        {
          "data": {
            "text/plain": [
              "0.005919808556361484"
            ]
          },
          "execution_count": 19,
          "metadata": {},
          "output_type": "execute_result"
        }
      ],
      "source": [
        "user_pr_threshold = conn.execute(\n",
        "  \"\"\"\n",
        "  MATCH (u:User)\n",
        "  WITH u.pagerank AS user_pr_threshold\n",
        "  ORDER BY u.pagerank DESC LIMIT 10\n",
        "  RETURN min(user_pr_threshold)\n",
        "  \"\"\"\n",
        ").get_as_df().iloc[0,0];\n",
        "user_pr_threshold"
      ]
    },
    {
      "cell_type": "code",
      "execution_count": null,
      "metadata": {
        "colab": {
          "base_uri": "https://localhost:8080/"
        },
        "id": "6ISOsAA9KRbn",
        "outputId": "c01f1edc-a648-4f7f-c758-dc6b9a1a9d96"
      },
      "outputs": [
        {
          "data": {
            "text/plain": [
              "0.0007781856282699511"
            ]
          },
          "execution_count": 20,
          "metadata": {},
          "output_type": "execute_result"
        }
      ],
      "source": [
        "movie_pr_threshold = conn.execute(\n",
        "    \"\"\"\n",
        "    MATCH (m:Movie)\n",
        "    WITH m.pagerank AS movie_pr_threshold\n",
        "    ORDER BY m.pagerank DESC LIMIT 10\n",
        "    RETURN min(movie_pr_threshold)\n",
        "    \"\"\"\n",
        ").get_as_df().iloc[0,0];\n",
        "movie_pr_threshold"
      ]
    },
    {
      "cell_type": "code",
      "execution_count": null,
      "metadata": {
        "colab": {
          "base_uri": "https://localhost:8080/",
          "height": 80
        },
        "id": "yk0vtu7mKRxs",
        "outputId": "937ad120-f614-4a92-87b8-6aa7b677343c"
      },
      "outputs": [
        {
          "data": {
            "application/vnd.google.colaboratory.intrinsic+json": {
              "summary": "{\n  \"name\": \"avg_rating_df\",\n  \"rows\": 1,\n  \"fields\": [\n    {\n      \"column\": \"avgRBtwHighPRUserMovies\",\n      \"properties\": {\n        \"dtype\": \"number\",\n        \"std\": null,\n        \"min\": 4.23943661971831,\n        \"max\": 4.23943661971831,\n        \"num_unique_values\": 1,\n        \"samples\": [\n          4.23943661971831\n        ],\n        \"semantic_type\": \"\",\n        \"description\": \"\"\n      }\n    }\n  ]\n}",
              "type": "dataframe",
              "variable_name": "avg_rating_df"
            },
            "text/html": [
              "\n",
              "  <div id=\"df-d68e4d57-cae0-4613-87f3-207dcf686a2d\" class=\"colab-df-container\">\n",
              "    <div>\n",
              "<style scoped>\n",
              "    .dataframe tbody tr th:only-of-type {\n",
              "        vertical-align: middle;\n",
              "    }\n",
              "\n",
              "    .dataframe tbody tr th {\n",
              "        vertical-align: top;\n",
              "    }\n",
              "\n",
              "    .dataframe thead th {\n",
              "        text-align: right;\n",
              "    }\n",
              "</style>\n",
              "<table border=\"1\" class=\"dataframe\">\n",
              "  <thead>\n",
              "    <tr style=\"text-align: right;\">\n",
              "      <th></th>\n",
              "      <th>avgRBtwHighPRUserMovies</th>\n",
              "    </tr>\n",
              "  </thead>\n",
              "  <tbody>\n",
              "    <tr>\n",
              "      <th>0</th>\n",
              "      <td>4.239437</td>\n",
              "    </tr>\n",
              "  </tbody>\n",
              "</table>\n",
              "</div>\n",
              "    <div class=\"colab-df-buttons\">\n",
              "\n",
              "  <div class=\"colab-df-container\">\n",
              "    <button class=\"colab-df-convert\" onclick=\"convertToInteractive('df-d68e4d57-cae0-4613-87f3-207dcf686a2d')\"\n",
              "            title=\"Convert this dataframe to an interactive table.\"\n",
              "            style=\"display:none;\">\n",
              "\n",
              "  <svg xmlns=\"http://www.w3.org/2000/svg\" height=\"24px\" viewBox=\"0 -960 960 960\">\n",
              "    <path d=\"M120-120v-720h720v720H120Zm60-500h600v-160H180v160Zm220 220h160v-160H400v160Zm0 220h160v-160H400v160ZM180-400h160v-160H180v160Zm440 0h160v-160H620v160ZM180-180h160v-160H180v160Zm440 0h160v-160H620v160Z\"/>\n",
              "  </svg>\n",
              "    </button>\n",
              "\n",
              "  <style>\n",
              "    .colab-df-container {\n",
              "      display:flex;\n",
              "      gap: 12px;\n",
              "    }\n",
              "\n",
              "    .colab-df-convert {\n",
              "      background-color: #E8F0FE;\n",
              "      border: none;\n",
              "      border-radius: 50%;\n",
              "      cursor: pointer;\n",
              "      display: none;\n",
              "      fill: #1967D2;\n",
              "      height: 32px;\n",
              "      padding: 0 0 0 0;\n",
              "      width: 32px;\n",
              "    }\n",
              "\n",
              "    .colab-df-convert:hover {\n",
              "      background-color: #E2EBFA;\n",
              "      box-shadow: 0px 1px 2px rgba(60, 64, 67, 0.3), 0px 1px 3px 1px rgba(60, 64, 67, 0.15);\n",
              "      fill: #174EA6;\n",
              "    }\n",
              "\n",
              "    .colab-df-buttons div {\n",
              "      margin-bottom: 4px;\n",
              "    }\n",
              "\n",
              "    [theme=dark] .colab-df-convert {\n",
              "      background-color: #3B4455;\n",
              "      fill: #D2E3FC;\n",
              "    }\n",
              "\n",
              "    [theme=dark] .colab-df-convert:hover {\n",
              "      background-color: #434B5C;\n",
              "      box-shadow: 0px 1px 3px 1px rgba(0, 0, 0, 0.15);\n",
              "      filter: drop-shadow(0px 1px 2px rgba(0, 0, 0, 0.3));\n",
              "      fill: #FFFFFF;\n",
              "    }\n",
              "  </style>\n",
              "\n",
              "    <script>\n",
              "      const buttonEl =\n",
              "        document.querySelector('#df-d68e4d57-cae0-4613-87f3-207dcf686a2d button.colab-df-convert');\n",
              "      buttonEl.style.display =\n",
              "        google.colab.kernel.accessAllowed ? 'block' : 'none';\n",
              "\n",
              "      async function convertToInteractive(key) {\n",
              "        const element = document.querySelector('#df-d68e4d57-cae0-4613-87f3-207dcf686a2d');\n",
              "        const dataTable =\n",
              "          await google.colab.kernel.invokeFunction('convertToInteractive',\n",
              "                                                    [key], {});\n",
              "        if (!dataTable) return;\n",
              "\n",
              "        const docLinkHtml = 'Like what you see? Visit the ' +\n",
              "          '<a target=\"_blank\" href=https://colab.research.google.com/notebooks/data_table.ipynb>data table notebook</a>'\n",
              "          + ' to learn more about interactive tables.';\n",
              "        element.innerHTML = '';\n",
              "        dataTable['output_type'] = 'display_data';\n",
              "        await google.colab.output.renderOutput(dataTable, element);\n",
              "        const docLink = document.createElement('div');\n",
              "        docLink.innerHTML = docLinkHtml;\n",
              "        element.appendChild(docLink);\n",
              "      }\n",
              "    </script>\n",
              "  </div>\n",
              "\n",
              "    </div>\n",
              "  </div>\n"
            ],
            "text/plain": [
              "   avgRBtwHighPRUserMovies\n",
              "0                 4.239437"
            ]
          },
          "execution_count": 21,
          "metadata": {},
          "output_type": "execute_result"
        }
      ],
      "source": [
        "avg_rating_df = conn.execute(\n",
        "    \"\"\"\n",
        "    MATCH (u:User)-[r:Rating]->(m:Movie)\n",
        "    WHERE u.pagerank > $user_pr_threshold  AND m.pagerank > $movie_pr_threshold\n",
        "    RETURN avg(r.rating) as avgRBtwHighPRUserMovies;\n",
        "    \"\"\",\n",
        "    parameters={\"user_pr_threshold\": user_pr_threshold, \"movie_pr_threshold\": movie_pr_threshold}\n",
        ").get_as_df()\n",
        "avg_rating_df.head()"
      ]
    }
  ],
  "metadata": {
    "colab": {
      "provenance": []
    },
    "gpuClass": "standard",
    "kernelspec": {
      "display_name": "Python 3",
      "language": "python",
      "name": "python3"
    },
    "language_info": {
      "codemirror_mode": {
        "name": "ipython",
        "version": 3
      },
      "file_extension": ".py",
      "mimetype": "text/x-python",
      "name": "python",
      "nbconvert_exporter": "python",
      "pygments_lexer": "ipython3",
      "version": "3.9.16"
    },
    "orig_nbformat": 4,
    "vscode": {
      "interpreter": {
        "hash": "e7370f93d1d0cde622a1f8e1c04877d8463912d04d973331ad4851f04de6915a"
      }
    },
    "widgets": {
      "application/vnd.jupyter.widget-state+json": {
        "c0bef25a2d414726912f87b902401df2": {
          "model_module": "@jupyter-widgets/base",
          "model_module_version": "1.2.0",
          "model_name": "LayoutModel",
          "state": {
            "_model_module": "@jupyter-widgets/base",
            "_model_module_version": "1.2.0",
            "_model_name": "LayoutModel",
            "_view_count": null,
            "_view_module": "@jupyter-widgets/base",
            "_view_module_version": "1.2.0",
            "_view_name": "LayoutView",
            "align_content": null,
            "align_items": null,
            "align_self": null,
            "border": null,
            "bottom": null,
            "display": null,
            "flex": null,
            "flex_flow": null,
            "grid_area": null,
            "grid_auto_columns": null,
            "grid_auto_flow": null,
            "grid_auto_rows": null,
            "grid_column": null,
            "grid_gap": null,
            "grid_row": null,
            "grid_template_areas": null,
            "grid_template_columns": null,
            "grid_template_rows": null,
            "height": "800px",
            "justify_content": null,
            "justify_items": null,
            "left": null,
            "margin": null,
            "max_height": null,
            "max_width": null,
            "min_height": null,
            "min_width": null,
            "object_fit": null,
            "object_position": null,
            "order": null,
            "overflow": null,
            "overflow_x": null,
            "overflow_y": null,
            "padding": null,
            "right": null,
            "top": null,
            "visibility": null,
            "width": "100%"
          }
        },
        "d56226b9bd1441d3bb5c7358ba799fd7": {
          "model_module": "yfiles-jupyter-graphs",
          "model_module_version": "^1.6.1",
          "model_name": "GraphModel",
          "state": {
            "_context_pane_mapping": [
              {
                "id": "Neighborhood",
                "title": "Neighborhood"
              },
              {
                "id": "Data",
                "title": "Data"
              },
              {
                "id": "Search",
                "title": "Search"
              },
              {
                "id": "About",
                "title": "About"
              }
            ],
            "_data_importer": "networkx",
            "_directed": false,
            "_dom_classes": [],
            "_edges": [
              {
                "color": "#15AFAC",
                "directed": false,
                "end": 1,
                "id": 0,
                "label": "",
                "properties": {
                  "_dst": {
                    "offset": 3853,
                    "table": 0
                  },
                  "_label": "Rating",
                  "_src": {
                    "offset": 0,
                    "table": 1
                  },
                  "rating": 4,
                  "timestamp": 964982703
                },
                "start": 0,
                "thickness_factor": 1
              },
              {
                "color": "#15AFAC",
                "directed": false,
                "end": 2,
                "id": 1,
                "label": "",
                "properties": {
                  "_dst": {
                    "offset": 3855,
                    "table": 0
                  },
                  "_label": "Rating",
                  "_src": {
                    "offset": 0,
                    "table": 1
                  },
                  "rating": 4,
                  "timestamp": 964981247
                },
                "start": 0,
                "thickness_factor": 1
              },
              {
                "color": "#15AFAC",
                "directed": false,
                "end": 3,
                "id": 2,
                "label": "",
                "properties": {
                  "_dst": {
                    "offset": 3858,
                    "table": 0
                  },
                  "_label": "Rating",
                  "_src": {
                    "offset": 0,
                    "table": 1
                  },
                  "rating": 4,
                  "timestamp": 964982224
                },
                "start": 0,
                "thickness_factor": 1
              },
              {
                "color": "#15AFAC",
                "directed": false,
                "end": 4,
                "id": 3,
                "label": "",
                "properties": {
                  "_dst": {
                    "offset": 3896,
                    "table": 0
                  },
                  "_label": "Rating",
                  "_src": {
                    "offset": 0,
                    "table": 1
                  },
                  "rating": 5,
                  "timestamp": 964983815
                },
                "start": 0,
                "thickness_factor": 1
              },
              {
                "color": "#15AFAC",
                "directed": false,
                "end": 5,
                "id": 4,
                "label": "",
                "properties": {
                  "_dst": {
                    "offset": 3899,
                    "table": 0
                  },
                  "_label": "Rating",
                  "_src": {
                    "offset": 0,
                    "table": 1
                  },
                  "rating": 5,
                  "timestamp": 964982931
                },
                "start": 0,
                "thickness_factor": 1
              },
              {
                "color": "#15AFAC",
                "directed": false,
                "end": 6,
                "id": 5,
                "label": "",
                "properties": {
                  "_dst": {
                    "offset": 3915,
                    "table": 0
                  },
                  "_label": "Rating",
                  "_src": {
                    "offset": 0,
                    "table": 1
                  },
                  "rating": 3,
                  "timestamp": 964982400
                },
                "start": 0,
                "thickness_factor": 1
              },
              {
                "color": "#15AFAC",
                "directed": false,
                "end": 7,
                "id": 6,
                "label": "",
                "properties": {
                  "_dst": {
                    "offset": 3942,
                    "table": 0
                  },
                  "_label": "Rating",
                  "_src": {
                    "offset": 0,
                    "table": 1
                  },
                  "rating": 5,
                  "timestamp": 964980868
                },
                "start": 0,
                "thickness_factor": 1
              },
              {
                "color": "#15AFAC",
                "directed": false,
                "end": 8,
                "id": 7,
                "label": "",
                "properties": {
                  "_dst": {
                    "offset": 3950,
                    "table": 0
                  },
                  "_label": "Rating",
                  "_src": {
                    "offset": 0,
                    "table": 1
                  },
                  "rating": 4,
                  "timestamp": 964982176
                },
                "start": 0,
                "thickness_factor": 1
              },
              {
                "color": "#15AFAC",
                "directed": false,
                "end": 9,
                "id": 8,
                "label": "",
                "properties": {
                  "_dst": {
                    "offset": 3977,
                    "table": 0
                  },
                  "_label": "Rating",
                  "_src": {
                    "offset": 0,
                    "table": 1
                  },
                  "rating": 5,
                  "timestamp": 964984041
                },
                "start": 0,
                "thickness_factor": 1
              },
              {
                "color": "#15AFAC",
                "directed": false,
                "end": 10,
                "id": 9,
                "label": "",
                "properties": {
                  "_dst": {
                    "offset": 3983,
                    "table": 0
                  },
                  "_label": "Rating",
                  "_src": {
                    "offset": 0,
                    "table": 1
                  },
                  "rating": 5,
                  "timestamp": 964984100
                },
                "start": 0,
                "thickness_factor": 1
              },
              {
                "color": "#15AFAC",
                "directed": false,
                "end": 11,
                "id": 10,
                "label": "",
                "properties": {
                  "_dst": {
                    "offset": 3989,
                    "table": 0
                  },
                  "_label": "Rating",
                  "_src": {
                    "offset": 0,
                    "table": 1
                  },
                  "rating": 5,
                  "timestamp": 964983650
                },
                "start": 0,
                "thickness_factor": 1
              },
              {
                "color": "#15AFAC",
                "directed": false,
                "end": 12,
                "id": 11,
                "label": "",
                "properties": {
                  "_dst": {
                    "offset": 4037,
                    "table": 0
                  },
                  "_label": "Rating",
                  "_src": {
                    "offset": 0,
                    "table": 1
                  },
                  "rating": 5,
                  "timestamp": 964981208
                },
                "start": 0,
                "thickness_factor": 1
              },
              {
                "color": "#15AFAC",
                "directed": false,
                "end": 13,
                "id": 12,
                "label": "",
                "properties": {
                  "_dst": {
                    "offset": 4043,
                    "table": 0
                  },
                  "_label": "Rating",
                  "_src": {
                    "offset": 0,
                    "table": 1
                  },
                  "rating": 3,
                  "timestamp": 964980985
                },
                "start": 0,
                "thickness_factor": 1
              },
              {
                "color": "#15AFAC",
                "directed": false,
                "end": 14,
                "id": 13,
                "label": "",
                "properties": {
                  "_dst": {
                    "offset": 4050,
                    "table": 0
                  },
                  "_label": "Rating",
                  "_src": {
                    "offset": 0,
                    "table": 1
                  },
                  "rating": 5,
                  "timestamp": 964981179
                },
                "start": 0,
                "thickness_factor": 1
              },
              {
                "color": "#15AFAC",
                "directed": false,
                "end": 15,
                "id": 14,
                "label": "",
                "properties": {
                  "_dst": {
                    "offset": 4054,
                    "table": 0
                  },
                  "_label": "Rating",
                  "_src": {
                    "offset": 0,
                    "table": 1
                  },
                  "rating": 4,
                  "timestamp": 964980908
                },
                "start": 0,
                "thickness_factor": 1
              },
              {
                "color": "#15AFAC",
                "directed": false,
                "end": 16,
                "id": 15,
                "label": "",
                "properties": {
                  "_dst": {
                    "offset": 4077,
                    "table": 0
                  },
                  "_label": "Rating",
                  "_src": {
                    "offset": 0,
                    "table": 1
                  },
                  "rating": 5,
                  "timestamp": 964981680
                },
                "start": 0,
                "thickness_factor": 1
              },
              {
                "color": "#15AFAC",
                "directed": false,
                "end": 17,
                "id": 16,
                "label": "",
                "properties": {
                  "_dst": {
                    "offset": 4110,
                    "table": 0
                  },
                  "_label": "Rating",
                  "_src": {
                    "offset": 0,
                    "table": 1
                  },
                  "rating": 3,
                  "timestamp": 964982967
                },
                "start": 0,
                "thickness_factor": 1
              },
              {
                "color": "#15AFAC",
                "directed": false,
                "end": 18,
                "id": 17,
                "label": "",
                "properties": {
                  "_dst": {
                    "offset": 4128,
                    "table": 0
                  },
                  "_label": "Rating",
                  "_src": {
                    "offset": 0,
                    "table": 1
                  },
                  "rating": 3,
                  "timestamp": 964982310
                },
                "start": 0,
                "thickness_factor": 1
              },
              {
                "color": "#15AFAC",
                "directed": false,
                "end": 19,
                "id": 18,
                "label": "",
                "properties": {
                  "_dst": {
                    "offset": 4144,
                    "table": 0
                  },
                  "_label": "Rating",
                  "_src": {
                    "offset": 0,
                    "table": 1
                  },
                  "rating": 5,
                  "timestamp": 964981179
                },
                "start": 0,
                "thickness_factor": 1
              },
              {
                "color": "#15AFAC",
                "directed": false,
                "end": 20,
                "id": 19,
                "label": "",
                "properties": {
                  "_dst": {
                    "offset": 4160,
                    "table": 0
                  },
                  "_label": "Rating",
                  "_src": {
                    "offset": 0,
                    "table": 1
                  },
                  "rating": 4,
                  "timestamp": 964982563
                },
                "start": 0,
                "thickness_factor": 1
              },
              {
                "color": "#15AFAC",
                "directed": false,
                "end": 21,
                "id": 20,
                "label": "",
                "properties": {
                  "_dst": {
                    "offset": 4167,
                    "table": 0
                  },
                  "_label": "Rating",
                  "_src": {
                    "offset": 0,
                    "table": 1
                  },
                  "rating": 4,
                  "timestamp": 964980962
                },
                "start": 0,
                "thickness_factor": 1
              },
              {
                "color": "#15AFAC",
                "directed": false,
                "end": 22,
                "id": 21,
                "label": "",
                "properties": {
                  "_dst": {
                    "offset": 4173,
                    "table": 0
                  },
                  "_label": "Rating",
                  "_src": {
                    "offset": 0,
                    "table": 1
                  },
                  "rating": 5,
                  "timestamp": 964982588
                },
                "start": 0,
                "thickness_factor": 1
              },
              {
                "color": "#15AFAC",
                "directed": false,
                "end": 23,
                "id": 22,
                "label": "",
                "properties": {
                  "_dst": {
                    "offset": 4178,
                    "table": 0
                  },
                  "_label": "Rating",
                  "_src": {
                    "offset": 0,
                    "table": 1
                  },
                  "rating": 4,
                  "timestamp": 964981710
                },
                "start": 0,
                "thickness_factor": 1
              },
              {
                "color": "#15AFAC",
                "directed": false,
                "end": 24,
                "id": 23,
                "label": "",
                "properties": {
                  "_dst": {
                    "offset": 4220,
                    "table": 0
                  },
                  "_label": "Rating",
                  "_src": {
                    "offset": 0,
                    "table": 1
                  },
                  "rating": 3,
                  "timestamp": 964982363
                },
                "start": 0,
                "thickness_factor": 1
              },
              {
                "color": "#15AFAC",
                "directed": false,
                "end": 25,
                "id": 24,
                "label": "",
                "properties": {
                  "_dst": {
                    "offset": 4237,
                    "table": 0
                  },
                  "_label": "Rating",
                  "_src": {
                    "offset": 0,
                    "table": 1
                  },
                  "rating": 4,
                  "timestamp": 964980868
                },
                "start": 0,
                "thickness_factor": 1
              },
              {
                "color": "#15AFAC",
                "directed": false,
                "end": 26,
                "id": 25,
                "label": "",
                "properties": {
                  "_dst": {
                    "offset": 4251,
                    "table": 0
                  },
                  "_label": "Rating",
                  "_src": {
                    "offset": 0,
                    "table": 1
                  },
                  "rating": 5,
                  "timestamp": 964981909
                },
                "start": 0,
                "thickness_factor": 1
              },
              {
                "color": "#15AFAC",
                "directed": false,
                "end": 27,
                "id": 26,
                "label": "",
                "properties": {
                  "_dst": {
                    "offset": 4271,
                    "table": 0
                  },
                  "_label": "Rating",
                  "_src": {
                    "offset": 0,
                    "table": 1
                  },
                  "rating": 4,
                  "timestamp": 964982346
                },
                "start": 0,
                "thickness_factor": 1
              },
              {
                "color": "#15AFAC",
                "directed": false,
                "end": 28,
                "id": 27,
                "label": "",
                "properties": {
                  "_dst": {
                    "offset": 4289,
                    "table": 0
                  },
                  "_label": "Rating",
                  "_src": {
                    "offset": 0,
                    "table": 1
                  },
                  "rating": 3,
                  "timestamp": 964981208
                },
                "start": 0,
                "thickness_factor": 1
              },
              {
                "color": "#15AFAC",
                "directed": false,
                "end": 29,
                "id": 28,
                "label": "",
                "properties": {
                  "_dst": {
                    "offset": 4314,
                    "table": 0
                  },
                  "_label": "Rating",
                  "_src": {
                    "offset": 0,
                    "table": 1
                  },
                  "rating": 5,
                  "timestamp": 964984002
                },
                "start": 0,
                "thickness_factor": 1
              },
              {
                "color": "#15AFAC",
                "directed": false,
                "end": 30,
                "id": 29,
                "label": "",
                "properties": {
                  "_dst": {
                    "offset": 4329,
                    "table": 0
                  },
                  "_label": "Rating",
                  "_src": {
                    "offset": 0,
                    "table": 1
                  },
                  "rating": 4,
                  "timestamp": 964981179
                },
                "start": 0,
                "thickness_factor": 1
              },
              {
                "color": "#15AFAC",
                "directed": false,
                "end": 31,
                "id": 30,
                "label": "",
                "properties": {
                  "_dst": {
                    "offset": 4337,
                    "table": 0
                  },
                  "_label": "Rating",
                  "_src": {
                    "offset": 0,
                    "table": 1
                  },
                  "rating": 4,
                  "timestamp": 964982653
                },
                "start": 0,
                "thickness_factor": 1
              },
              {
                "color": "#15AFAC",
                "directed": false,
                "end": 32,
                "id": 31,
                "label": "",
                "properties": {
                  "_dst": {
                    "offset": 4338,
                    "table": 0
                  },
                  "_label": "Rating",
                  "_src": {
                    "offset": 0,
                    "table": 1
                  },
                  "rating": 5,
                  "timestamp": 964984153
                },
                "start": 0,
                "thickness_factor": 1
              },
              {
                "color": "#15AFAC",
                "directed": false,
                "end": 33,
                "id": 32,
                "label": "",
                "properties": {
                  "_dst": {
                    "offset": 4361,
                    "table": 0
                  },
                  "_label": "Rating",
                  "_src": {
                    "offset": 0,
                    "table": 1
                  },
                  "rating": 4,
                  "timestamp": 964982546
                },
                "start": 0,
                "thickness_factor": 1
              },
              {
                "color": "#15AFAC",
                "directed": false,
                "end": 34,
                "id": 33,
                "label": "",
                "properties": {
                  "_dst": {
                    "offset": 4362,
                    "table": 0
                  },
                  "_label": "Rating",
                  "_src": {
                    "offset": 0,
                    "table": 1
                  },
                  "rating": 4,
                  "timestamp": 964982271
                },
                "start": 0,
                "thickness_factor": 1
              },
              {
                "color": "#15AFAC",
                "directed": false,
                "end": 35,
                "id": 34,
                "label": "",
                "properties": {
                  "_dst": {
                    "offset": 4363,
                    "table": 0
                  },
                  "_label": "Rating",
                  "_src": {
                    "offset": 0,
                    "table": 1
                  },
                  "rating": 4,
                  "timestamp": 964983793
                },
                "start": 0,
                "thickness_factor": 1
              },
              {
                "color": "#15AFAC",
                "directed": false,
                "end": 36,
                "id": 35,
                "label": "",
                "properties": {
                  "_dst": {
                    "offset": 4366,
                    "table": 0
                  },
                  "_label": "Rating",
                  "_src": {
                    "offset": 0,
                    "table": 1
                  },
                  "rating": 5,
                  "timestamp": 964982838
                },
                "start": 0,
                "thickness_factor": 1
              },
              {
                "color": "#15AFAC",
                "directed": false,
                "end": 37,
                "id": 36,
                "label": "",
                "properties": {
                  "_dst": {
                    "offset": 4373,
                    "table": 0
                  },
                  "_label": "Rating",
                  "_src": {
                    "offset": 0,
                    "table": 1
                  },
                  "rating": 5,
                  "timestamp": 964982931
                },
                "start": 0,
                "thickness_factor": 1
              },
              {
                "color": "#15AFAC",
                "directed": false,
                "end": 38,
                "id": 37,
                "label": "",
                "properties": {
                  "_dst": {
                    "offset": 4399,
                    "table": 0
                  },
                  "_label": "Rating",
                  "_src": {
                    "offset": 0,
                    "table": 1
                  },
                  "rating": 3,
                  "timestamp": 964982563
                },
                "start": 0,
                "thickness_factor": 1
              },
              {
                "color": "#15AFAC",
                "directed": false,
                "end": 39,
                "id": 38,
                "label": "",
                "properties": {
                  "_dst": {
                    "offset": 4404,
                    "table": 0
                  },
                  "_label": "Rating",
                  "_src": {
                    "offset": 0,
                    "table": 1
                  },
                  "rating": 5,
                  "timestamp": 964982838
                },
                "start": 0,
                "thickness_factor": 1
              },
              {
                "color": "#15AFAC",
                "directed": false,
                "end": 40,
                "id": 39,
                "label": "",
                "properties": {
                  "_dst": {
                    "offset": 4412,
                    "table": 0
                  },
                  "_label": "Rating",
                  "_src": {
                    "offset": 0,
                    "table": 1
                  },
                  "rating": 3,
                  "timestamp": 964981775
                },
                "start": 0,
                "thickness_factor": 1
              },
              {
                "color": "#15AFAC",
                "directed": false,
                "end": 41,
                "id": 40,
                "label": "",
                "properties": {
                  "_dst": {
                    "offset": 4445,
                    "table": 0
                  },
                  "_label": "Rating",
                  "_src": {
                    "offset": 0,
                    "table": 1
                  },
                  "rating": 4,
                  "timestamp": 964982400
                },
                "start": 0,
                "thickness_factor": 1
              },
              {
                "color": "#15AFAC",
                "directed": false,
                "end": 42,
                "id": 41,
                "label": "",
                "properties": {
                  "_dst": {
                    "offset": 4447,
                    "table": 0
                  },
                  "_label": "Rating",
                  "_src": {
                    "offset": 0,
                    "table": 1
                  },
                  "rating": 3,
                  "timestamp": 964982653
                },
                "start": 0,
                "thickness_factor": 1
              },
              {
                "color": "#15AFAC",
                "directed": false,
                "end": 43,
                "id": 42,
                "label": "",
                "properties": {
                  "_dst": {
                    "offset": 4468,
                    "table": 0
                  },
                  "_label": "Rating",
                  "_src": {
                    "offset": 0,
                    "table": 1
                  },
                  "rating": 3,
                  "timestamp": 964984086
                },
                "start": 0,
                "thickness_factor": 1
              },
              {
                "color": "#15AFAC",
                "directed": false,
                "end": 44,
                "id": 43,
                "label": "",
                "properties": {
                  "_dst": {
                    "offset": 4485,
                    "table": 0
                  },
                  "_label": "Rating",
                  "_src": {
                    "offset": 0,
                    "table": 1
                  },
                  "rating": 4,
                  "timestamp": 964980499
                },
                "start": 0,
                "thickness_factor": 1
              },
              {
                "color": "#15AFAC",
                "directed": false,
                "end": 45,
                "id": 44,
                "label": "",
                "properties": {
                  "_dst": {
                    "offset": 4554,
                    "table": 0
                  },
                  "_label": "Rating",
                  "_src": {
                    "offset": 0,
                    "table": 1
                  },
                  "rating": 5,
                  "timestamp": 964982475
                },
                "start": 0,
                "thickness_factor": 1
              },
              {
                "color": "#15AFAC",
                "directed": false,
                "end": 46,
                "id": 45,
                "label": "",
                "properties": {
                  "_dst": {
                    "offset": 4558,
                    "table": 0
                  },
                  "_label": "Rating",
                  "_src": {
                    "offset": 0,
                    "table": 1
                  },
                  "rating": 5,
                  "timestamp": 964981529
                },
                "start": 0,
                "thickness_factor": 1
              },
              {
                "color": "#15AFAC",
                "directed": false,
                "end": 47,
                "id": 46,
                "label": "",
                "properties": {
                  "_dst": {
                    "offset": 4573,
                    "table": 0
                  },
                  "_label": "Rating",
                  "_src": {
                    "offset": 0,
                    "table": 1
                  },
                  "rating": 5,
                  "timestamp": 964982176
                },
                "start": 0,
                "thickness_factor": 1
              },
              {
                "color": "#15AFAC",
                "directed": false,
                "end": 48,
                "id": 47,
                "label": "",
                "properties": {
                  "_dst": {
                    "offset": 4576,
                    "table": 0
                  },
                  "_label": "Rating",
                  "_src": {
                    "offset": 0,
                    "table": 1
                  },
                  "rating": 4,
                  "timestamp": 964983614
                },
                "start": 0,
                "thickness_factor": 1
              },
              {
                "color": "#15AFAC",
                "directed": false,
                "end": 49,
                "id": 48,
                "label": "",
                "properties": {
                  "_dst": {
                    "offset": 4587,
                    "table": 0
                  },
                  "_label": "Rating",
                  "_src": {
                    "offset": 0,
                    "table": 1
                  },
                  "rating": 5,
                  "timestamp": 964983219
                },
                "start": 0,
                "thickness_factor": 1
              },
              {
                "color": "#15AFAC",
                "directed": false,
                "end": 50,
                "id": 49,
                "label": "",
                "properties": {
                  "_dst": {
                    "offset": 4620,
                    "table": 0
                  },
                  "_label": "Rating",
                  "_src": {
                    "offset": 0,
                    "table": 1
                  },
                  "rating": 3,
                  "timestamp": 964981775
                },
                "start": 0,
                "thickness_factor": 1
              },
              {
                "color": "#15AFAC",
                "directed": false,
                "end": 51,
                "id": 50,
                "label": "",
                "properties": {
                  "_dst": {
                    "offset": 4634,
                    "table": 0
                  },
                  "_label": "Rating",
                  "_src": {
                    "offset": 0,
                    "table": 1
                  },
                  "rating": 5,
                  "timestamp": 964982681
                },
                "start": 0,
                "thickness_factor": 1
              },
              {
                "color": "#15AFAC",
                "directed": false,
                "end": 52,
                "id": 51,
                "label": "",
                "properties": {
                  "_dst": {
                    "offset": 4635,
                    "table": 0
                  },
                  "_label": "Rating",
                  "_src": {
                    "offset": 0,
                    "table": 1
                  },
                  "rating": 5,
                  "timestamp": 964982876
                },
                "start": 0,
                "thickness_factor": 1
              },
              {
                "color": "#15AFAC",
                "directed": false,
                "end": 53,
                "id": 52,
                "label": "",
                "properties": {
                  "_dst": {
                    "offset": 4636,
                    "table": 0
                  },
                  "_label": "Rating",
                  "_src": {
                    "offset": 0,
                    "table": 1
                  },
                  "rating": 5,
                  "timestamp": 964982791
                },
                "start": 0,
                "thickness_factor": 1
              },
              {
                "color": "#15AFAC",
                "directed": false,
                "end": 54,
                "id": 53,
                "label": "",
                "properties": {
                  "_dst": {
                    "offset": 4639,
                    "table": 0
                  },
                  "_label": "Rating",
                  "_src": {
                    "offset": 0,
                    "table": 1
                  },
                  "rating": 5,
                  "timestamp": 964982855
                },
                "start": 0,
                "thickness_factor": 1
              },
              {
                "color": "#15AFAC",
                "directed": false,
                "end": 55,
                "id": 54,
                "label": "",
                "properties": {
                  "_dst": {
                    "offset": 4640,
                    "table": 0
                  },
                  "_label": "Rating",
                  "_src": {
                    "offset": 0,
                    "table": 1
                  },
                  "rating": 3,
                  "timestamp": 964982903
                },
                "start": 0,
                "thickness_factor": 1
              },
              {
                "color": "#15AFAC",
                "directed": false,
                "end": 56,
                "id": 55,
                "label": "",
                "properties": {
                  "_dst": {
                    "offset": 4641,
                    "table": 0
                  },
                  "_label": "Rating",
                  "_src": {
                    "offset": 0,
                    "table": 1
                  },
                  "rating": 5,
                  "timestamp": 964982653
                },
                "start": 0,
                "thickness_factor": 1
              },
              {
                "color": "#15AFAC",
                "directed": false,
                "end": 57,
                "id": 56,
                "label": "",
                "properties": {
                  "_dst": {
                    "offset": 4642,
                    "table": 0
                  },
                  "_label": "Rating",
                  "_src": {
                    "offset": 0,
                    "table": 1
                  },
                  "rating": 5,
                  "timestamp": 964982791
                },
                "start": 0,
                "thickness_factor": 1
              },
              {
                "color": "#15AFAC",
                "directed": false,
                "end": 58,
                "id": 57,
                "label": "",
                "properties": {
                  "_dst": {
                    "offset": 4650,
                    "table": 0
                  },
                  "_label": "Rating",
                  "_src": {
                    "offset": 0,
                    "table": 1
                  },
                  "rating": 4,
                  "timestamp": 964981179
                },
                "start": 0,
                "thickness_factor": 1
              },
              {
                "color": "#15AFAC",
                "directed": false,
                "end": 59,
                "id": 58,
                "label": "",
                "properties": {
                  "_dst": {
                    "offset": 4654,
                    "table": 0
                  },
                  "_label": "Rating",
                  "_src": {
                    "offset": 0,
                    "table": 1
                  },
                  "rating": 5,
                  "timestamp": 964982400
                },
                "start": 0,
                "thickness_factor": 1
              },
              {
                "color": "#15AFAC",
                "directed": false,
                "end": 60,
                "id": 59,
                "label": "",
                "properties": {
                  "_dst": {
                    "offset": 4663,
                    "table": 0
                  },
                  "_label": "Rating",
                  "_src": {
                    "offset": 0,
                    "table": 1
                  },
                  "rating": 4,
                  "timestamp": 964980924
                },
                "start": 0,
                "thickness_factor": 1
              },
              {
                "color": "#15AFAC",
                "directed": false,
                "end": 61,
                "id": 60,
                "label": "",
                "properties": {
                  "_dst": {
                    "offset": 4668,
                    "table": 0
                  },
                  "_label": "Rating",
                  "_src": {
                    "offset": 0,
                    "table": 1
                  },
                  "rating": 5,
                  "timestamp": 964981680
                },
                "start": 0,
                "thickness_factor": 1
              },
              {
                "color": "#15AFAC",
                "directed": false,
                "end": 62,
                "id": 61,
                "label": "",
                "properties": {
                  "_dst": {
                    "offset": 4673,
                    "table": 0
                  },
                  "_label": "Rating",
                  "_src": {
                    "offset": 0,
                    "table": 1
                  },
                  "rating": 5,
                  "timestamp": 964981327
                },
                "start": 0,
                "thickness_factor": 1
              },
              {
                "color": "#15AFAC",
                "directed": false,
                "end": 63,
                "id": 62,
                "label": "",
                "properties": {
                  "_dst": {
                    "offset": 4681,
                    "table": 0
                  },
                  "_label": "Rating",
                  "_src": {
                    "offset": 0,
                    "table": 1
                  },
                  "rating": 5,
                  "timestamp": 964982951
                },
                "start": 0,
                "thickness_factor": 1
              },
              {
                "color": "#15AFAC",
                "directed": false,
                "end": 64,
                "id": 63,
                "label": "",
                "properties": {
                  "_dst": {
                    "offset": 4682,
                    "table": 0
                  },
                  "_label": "Rating",
                  "_src": {
                    "offset": 0,
                    "table": 1
                  },
                  "rating": 4,
                  "timestamp": 964984018
                },
                "start": 0,
                "thickness_factor": 1
              },
              {
                "color": "#15AFAC",
                "directed": false,
                "end": 65,
                "id": 64,
                "label": "",
                "properties": {
                  "_dst": {
                    "offset": 4684,
                    "table": 0
                  },
                  "_label": "Rating",
                  "_src": {
                    "offset": 0,
                    "table": 1
                  },
                  "rating": 5,
                  "timestamp": 964983484
                },
                "start": 0,
                "thickness_factor": 1
              },
              {
                "color": "#15AFAC",
                "directed": false,
                "end": 66,
                "id": 65,
                "label": "",
                "properties": {
                  "_dst": {
                    "offset": 4689,
                    "table": 0
                  },
                  "_label": "Rating",
                  "_src": {
                    "offset": 0,
                    "table": 1
                  },
                  "rating": 5,
                  "timestamp": 964981680
                },
                "start": 0,
                "thickness_factor": 1
              },
              {
                "color": "#15AFAC",
                "directed": false,
                "end": 67,
                "id": 66,
                "label": "",
                "properties": {
                  "_dst": {
                    "offset": 4709,
                    "table": 0
                  },
                  "_label": "Rating",
                  "_src": {
                    "offset": 0,
                    "table": 1
                  },
                  "rating": 4,
                  "timestamp": 964982513
                },
                "start": 0,
                "thickness_factor": 1
              },
              {
                "color": "#15AFAC",
                "directed": false,
                "end": 68,
                "id": 67,
                "label": "",
                "properties": {
                  "_dst": {
                    "offset": 4716,
                    "table": 0
                  },
                  "_label": "Rating",
                  "_src": {
                    "offset": 0,
                    "table": 1
                  },
                  "rating": 5,
                  "timestamp": 964981327
                },
                "start": 0,
                "thickness_factor": 1
              },
              {
                "color": "#15AFAC",
                "directed": false,
                "end": 69,
                "id": 68,
                "label": "",
                "properties": {
                  "_dst": {
                    "offset": 4751,
                    "table": 0
                  },
                  "_label": "Rating",
                  "_src": {
                    "offset": 0,
                    "table": 1
                  },
                  "rating": 5,
                  "timestamp": 964981827
                },
                "start": 0,
                "thickness_factor": 1
              },
              {
                "color": "#15AFAC",
                "directed": false,
                "end": 70,
                "id": 69,
                "label": "",
                "properties": {
                  "_dst": {
                    "offset": 4752,
                    "table": 0
                  },
                  "_label": "Rating",
                  "_src": {
                    "offset": 0,
                    "table": 1
                  },
                  "rating": 5,
                  "timestamp": 964981872
                },
                "start": 0,
                "thickness_factor": 1
              },
              {
                "color": "#15AFAC",
                "directed": false,
                "end": 71,
                "id": 70,
                "label": "",
                "properties": {
                  "_dst": {
                    "offset": 4753,
                    "table": 0
                  },
                  "_label": "Rating",
                  "_src": {
                    "offset": 0,
                    "table": 1
                  },
                  "rating": 5,
                  "timestamp": 964981827
                },
                "start": 0,
                "thickness_factor": 1
              },
              {
                "color": "#15AFAC",
                "directed": false,
                "end": 72,
                "id": 71,
                "label": "",
                "properties": {
                  "_dst": {
                    "offset": 4760,
                    "table": 0
                  },
                  "_label": "Rating",
                  "_src": {
                    "offset": 0,
                    "table": 1
                  },
                  "rating": 5,
                  "timestamp": 964983737
                },
                "start": 0,
                "thickness_factor": 1
              },
              {
                "color": "#15AFAC",
                "directed": false,
                "end": 73,
                "id": 72,
                "label": "",
                "properties": {
                  "_dst": {
                    "offset": 4762,
                    "table": 0
                  },
                  "_label": "Rating",
                  "_src": {
                    "offset": 0,
                    "table": 1
                  },
                  "rating": 4,
                  "timestamp": 964983250
                },
                "start": 0,
                "thickness_factor": 1
              },
              {
                "color": "#15AFAC",
                "directed": false,
                "end": 74,
                "id": 73,
                "label": "",
                "properties": {
                  "_dst": {
                    "offset": 4764,
                    "table": 0
                  },
                  "_label": "Rating",
                  "_src": {
                    "offset": 0,
                    "table": 1
                  },
                  "rating": 5,
                  "timestamp": 964980499
                },
                "start": 0,
                "thickness_factor": 1
              },
              {
                "color": "#15AFAC",
                "directed": false,
                "end": 75,
                "id": 74,
                "label": "",
                "properties": {
                  "_dst": {
                    "offset": 4767,
                    "table": 0
                  },
                  "_label": "Rating",
                  "_src": {
                    "offset": 0,
                    "table": 1
                  },
                  "rating": 5,
                  "timestamp": 964982951
                },
                "start": 0,
                "thickness_factor": 1
              },
              {
                "color": "#15AFAC",
                "directed": false,
                "end": 76,
                "id": 75,
                "label": "",
                "properties": {
                  "_dst": {
                    "offset": 4768,
                    "table": 0
                  },
                  "_label": "Rating",
                  "_src": {
                    "offset": 0,
                    "table": 1
                  },
                  "rating": 4,
                  "timestamp": 964981855
                },
                "start": 0,
                "thickness_factor": 1
              },
              {
                "color": "#15AFAC",
                "directed": false,
                "end": 77,
                "id": 76,
                "label": "",
                "properties": {
                  "_dst": {
                    "offset": 4773,
                    "table": 0
                  },
                  "_label": "Rating",
                  "_src": {
                    "offset": 0,
                    "table": 1
                  },
                  "rating": 2,
                  "timestamp": 964983393
                },
                "start": 0,
                "thickness_factor": 1
              },
              {
                "color": "#15AFAC",
                "directed": false,
                "end": 78,
                "id": 77,
                "label": "",
                "properties": {
                  "_dst": {
                    "offset": 4774,
                    "table": 0
                  },
                  "_label": "Rating",
                  "_src": {
                    "offset": 0,
                    "table": 1
                  },
                  "rating": 5,
                  "timestamp": 964981909
                },
                "start": 0,
                "thickness_factor": 1
              },
              {
                "color": "#15AFAC",
                "directed": false,
                "end": 79,
                "id": 78,
                "label": "",
                "properties": {
                  "_dst": {
                    "offset": 4776,
                    "table": 0
                  },
                  "_label": "Rating",
                  "_src": {
                    "offset": 0,
                    "table": 1
                  },
                  "rating": 5,
                  "timestamp": 964981909
                },
                "start": 0,
                "thickness_factor": 1
              },
              {
                "color": "#15AFAC",
                "directed": false,
                "end": 80,
                "id": 79,
                "label": "",
                "properties": {
                  "_dst": {
                    "offset": 4778,
                    "table": 0
                  },
                  "_label": "Rating",
                  "_src": {
                    "offset": 0,
                    "table": 1
                  },
                  "rating": 5,
                  "timestamp": 964984018
                },
                "start": 0,
                "thickness_factor": 1
              },
              {
                "color": "#15AFAC",
                "directed": false,
                "end": 81,
                "id": 80,
                "label": "",
                "properties": {
                  "_dst": {
                    "offset": 4780,
                    "table": 0
                  },
                  "_label": "Rating",
                  "_src": {
                    "offset": 0,
                    "table": 1
                  },
                  "rating": 5,
                  "timestamp": 964983618
                },
                "start": 0,
                "thickness_factor": 1
              },
              {
                "color": "#15AFAC",
                "directed": false,
                "end": 82,
                "id": 81,
                "label": "",
                "properties": {
                  "_dst": {
                    "offset": 4792,
                    "table": 0
                  },
                  "_label": "Rating",
                  "_src": {
                    "offset": 0,
                    "table": 1
                  },
                  "rating": 5,
                  "timestamp": 964983723
                },
                "start": 0,
                "thickness_factor": 1
              },
              {
                "color": "#15AFAC",
                "directed": false,
                "end": 83,
                "id": 82,
                "label": "",
                "properties": {
                  "_dst": {
                    "offset": 4808,
                    "table": 0
                  },
                  "_label": "Rating",
                  "_src": {
                    "offset": 0,
                    "table": 1
                  },
                  "rating": 5,
                  "timestamp": 964981442
                },
                "start": 0,
                "thickness_factor": 1
              },
              {
                "color": "#15AFAC",
                "directed": false,
                "end": 84,
                "id": 83,
                "label": "",
                "properties": {
                  "_dst": {
                    "offset": 4810,
                    "table": 0
                  },
                  "_label": "Rating",
                  "_src": {
                    "offset": 0,
                    "table": 1
                  },
                  "rating": 3,
                  "timestamp": 964983414
                },
                "start": 0,
                "thickness_factor": 1
              },
              {
                "color": "#15AFAC",
                "directed": false,
                "end": 85,
                "id": 84,
                "label": "",
                "properties": {
                  "_dst": {
                    "offset": 4817,
                    "table": 0
                  },
                  "_label": "Rating",
                  "_src": {
                    "offset": 0,
                    "table": 1
                  },
                  "rating": 4,
                  "timestamp": 964983599
                },
                "start": 0,
                "thickness_factor": 1
              },
              {
                "color": "#15AFAC",
                "directed": false,
                "end": 86,
                "id": 85,
                "label": "",
                "properties": {
                  "_dst": {
                    "offset": 4822,
                    "table": 0
                  },
                  "_label": "Rating",
                  "_src": {
                    "offset": 0,
                    "table": 1
                  },
                  "rating": 5,
                  "timestamp": 964983705
                },
                "start": 0,
                "thickness_factor": 1
              },
              {
                "color": "#15AFAC",
                "directed": false,
                "end": 87,
                "id": 86,
                "label": "",
                "properties": {
                  "_dst": {
                    "offset": 4827,
                    "table": 0
                  },
                  "_label": "Rating",
                  "_src": {
                    "offset": 0,
                    "table": 1
                  },
                  "rating": 5,
                  "timestamp": 964982290
                },
                "start": 0,
                "thickness_factor": 1
              },
              {
                "color": "#15AFAC",
                "directed": false,
                "end": 88,
                "id": 87,
                "label": "",
                "properties": {
                  "_dst": {
                    "offset": 4830,
                    "table": 0
                  },
                  "_label": "Rating",
                  "_src": {
                    "offset": 0,
                    "table": 1
                  },
                  "rating": 5,
                  "timestamp": 964983414
                },
                "start": 0,
                "thickness_factor": 1
              },
              {
                "color": "#15AFAC",
                "directed": false,
                "end": 89,
                "id": 88,
                "label": "",
                "properties": {
                  "_dst": {
                    "offset": 4834,
                    "table": 0
                  },
                  "_label": "Rating",
                  "_src": {
                    "offset": 0,
                    "table": 1
                  },
                  "rating": 5,
                  "timestamp": 964982703
                },
                "start": 0,
                "thickness_factor": 1
              },
              {
                "color": "#15AFAC",
                "directed": false,
                "end": 90,
                "id": 89,
                "label": "",
                "properties": {
                  "_dst": {
                    "offset": 4843,
                    "table": 0
                  },
                  "_label": "Rating",
                  "_src": {
                    "offset": 0,
                    "table": 1
                  },
                  "rating": 5,
                  "timestamp": 964981909
                },
                "start": 0,
                "thickness_factor": 1
              },
              {
                "color": "#15AFAC",
                "directed": false,
                "end": 91,
                "id": 90,
                "label": "",
                "properties": {
                  "_dst": {
                    "offset": 4849,
                    "table": 0
                  },
                  "_label": "Rating",
                  "_src": {
                    "offset": 0,
                    "table": 1
                  },
                  "rating": 5,
                  "timestamp": 964984086
                },
                "start": 0,
                "thickness_factor": 1
              },
              {
                "color": "#15AFAC",
                "directed": false,
                "end": 92,
                "id": 91,
                "label": "",
                "properties": {
                  "_dst": {
                    "offset": 4889,
                    "table": 0
                  },
                  "_label": "Rating",
                  "_src": {
                    "offset": 0,
                    "table": 1
                  },
                  "rating": 4,
                  "timestamp": 964983393
                },
                "start": 0,
                "thickness_factor": 1
              },
              {
                "color": "#15AFAC",
                "directed": false,
                "end": 93,
                "id": 92,
                "label": "",
                "properties": {
                  "_dst": {
                    "offset": 4913,
                    "table": 0
                  },
                  "_label": "Rating",
                  "_src": {
                    "offset": 0,
                    "table": 1
                  },
                  "rating": 3,
                  "timestamp": 964982653
                },
                "start": 0,
                "thickness_factor": 1
              },
              {
                "color": "#15AFAC",
                "directed": false,
                "end": 94,
                "id": 93,
                "label": "",
                "properties": {
                  "_dst": {
                    "offset": 4929,
                    "table": 0
                  },
                  "_label": "Rating",
                  "_src": {
                    "offset": 0,
                    "table": 1
                  },
                  "rating": 3,
                  "timestamp": 964983017
                },
                "start": 0,
                "thickness_factor": 1
              },
              {
                "color": "#15AFAC",
                "directed": false,
                "end": 95,
                "id": 94,
                "label": "",
                "properties": {
                  "_dst": {
                    "offset": 4937,
                    "table": 0
                  },
                  "_label": "Rating",
                  "_src": {
                    "offset": 0,
                    "table": 1
                  },
                  "rating": 3,
                  "timestamp": 964982310
                },
                "start": 0,
                "thickness_factor": 1
              },
              {
                "color": "#15AFAC",
                "directed": false,
                "end": 96,
                "id": 95,
                "label": "",
                "properties": {
                  "_dst": {
                    "offset": 4963,
                    "table": 0
                  },
                  "_label": "Rating",
                  "_src": {
                    "offset": 0,
                    "table": 1
                  },
                  "rating": 3,
                  "timestamp": 964984112
                },
                "start": 0,
                "thickness_factor": 1
              },
              {
                "color": "#15AFAC",
                "directed": false,
                "end": 97,
                "id": 96,
                "label": "",
                "properties": {
                  "_dst": {
                    "offset": 4979,
                    "table": 0
                  },
                  "_label": "Rating",
                  "_src": {
                    "offset": 0,
                    "table": 1
                  },
                  "rating": 4,
                  "timestamp": 964980875
                },
                "start": 0,
                "thickness_factor": 1
              },
              {
                "color": "#15AFAC",
                "directed": false,
                "end": 98,
                "id": 97,
                "label": "",
                "properties": {
                  "_dst": {
                    "offset": 4999,
                    "table": 0
                  },
                  "_label": "Rating",
                  "_src": {
                    "offset": 0,
                    "table": 1
                  },
                  "rating": 4,
                  "timestamp": 964980985
                },
                "start": 0,
                "thickness_factor": 1
              },
              {
                "color": "#15AFAC",
                "directed": false,
                "end": 99,
                "id": 98,
                "label": "",
                "properties": {
                  "_dst": {
                    "offset": 5007,
                    "table": 0
                  },
                  "_label": "Rating",
                  "_src": {
                    "offset": 0,
                    "table": 1
                  },
                  "rating": 5,
                  "timestamp": 964981107
                },
                "start": 0,
                "thickness_factor": 1
              },
              {
                "color": "#15AFAC",
                "directed": false,
                "end": 100,
                "id": 99,
                "label": "",
                "properties": {
                  "_dst": {
                    "offset": 5024,
                    "table": 0
                  },
                  "_label": "Rating",
                  "_src": {
                    "offset": 0,
                    "table": 1
                  },
                  "rating": 4,
                  "timestamp": 964982620
                },
                "start": 0,
                "thickness_factor": 1
              },
              {
                "color": "#15AFAC",
                "directed": false,
                "end": 101,
                "id": 100,
                "label": "",
                "properties": {
                  "_dst": {
                    "offset": 5034,
                    "table": 0
                  },
                  "_label": "Rating",
                  "_src": {
                    "offset": 0,
                    "table": 1
                  },
                  "rating": 5,
                  "timestamp": 964982290
                },
                "start": 0,
                "thickness_factor": 1
              },
              {
                "color": "#15AFAC",
                "directed": false,
                "end": 102,
                "id": 101,
                "label": "",
                "properties": {
                  "_dst": {
                    "offset": 5036,
                    "table": 0
                  },
                  "_label": "Rating",
                  "_src": {
                    "offset": 0,
                    "table": 1
                  },
                  "rating": 3,
                  "timestamp": 964981125
                },
                "start": 0,
                "thickness_factor": 1
              },
              {
                "color": "#15AFAC",
                "directed": false,
                "end": 103,
                "id": 102,
                "label": "",
                "properties": {
                  "_dst": {
                    "offset": 5043,
                    "table": 0
                  },
                  "_label": "Rating",
                  "_src": {
                    "offset": 0,
                    "table": 1
                  },
                  "rating": 5,
                  "timestamp": 964982346
                },
                "start": 0,
                "thickness_factor": 1
              },
              {
                "color": "#15AFAC",
                "directed": false,
                "end": 104,
                "id": 103,
                "label": "",
                "properties": {
                  "_dst": {
                    "offset": 5071,
                    "table": 0
                  },
                  "_label": "Rating",
                  "_src": {
                    "offset": 0,
                    "table": 1
                  },
                  "rating": 5,
                  "timestamp": 964982951
                },
                "start": 0,
                "thickness_factor": 1
              },
              {
                "color": "#15AFAC",
                "directed": false,
                "end": 105,
                "id": 104,
                "label": "",
                "properties": {
                  "_dst": {
                    "offset": 5073,
                    "table": 0
                  },
                  "_label": "Rating",
                  "_src": {
                    "offset": 0,
                    "table": 1
                  },
                  "rating": 4,
                  "timestamp": 964983056
                },
                "start": 0,
                "thickness_factor": 1
              },
              {
                "color": "#15AFAC",
                "directed": false,
                "end": 106,
                "id": 105,
                "label": "",
                "properties": {
                  "_dst": {
                    "offset": 5077,
                    "table": 0
                  },
                  "_label": "Rating",
                  "_src": {
                    "offset": 0,
                    "table": 1
                  },
                  "rating": 5,
                  "timestamp": 964983504
                },
                "start": 0,
                "thickness_factor": 1
              },
              {
                "color": "#15AFAC",
                "directed": false,
                "end": 107,
                "id": 106,
                "label": "",
                "properties": {
                  "_dst": {
                    "offset": 5088,
                    "table": 0
                  },
                  "_label": "Rating",
                  "_src": {
                    "offset": 0,
                    "table": 1
                  },
                  "rating": 3,
                  "timestamp": 964983536
                },
                "start": 0,
                "thickness_factor": 1
              },
              {
                "color": "#15AFAC",
                "directed": false,
                "end": 108,
                "id": 107,
                "label": "",
                "properties": {
                  "_dst": {
                    "offset": 5114,
                    "table": 0
                  },
                  "_label": "Rating",
                  "_src": {
                    "offset": 0,
                    "table": 1
                  },
                  "rating": 3,
                  "timestamp": 964982620
                },
                "start": 0,
                "thickness_factor": 1
              },
              {
                "color": "#15AFAC",
                "directed": false,
                "end": 109,
                "id": 108,
                "label": "",
                "properties": {
                  "_dst": {
                    "offset": 5151,
                    "table": 0
                  },
                  "_label": "Rating",
                  "_src": {
                    "offset": 0,
                    "table": 1
                  },
                  "rating": 5,
                  "timestamp": 964981125
                },
                "start": 0,
                "thickness_factor": 1
              },
              {
                "color": "#15AFAC",
                "directed": false,
                "end": 110,
                "id": 109,
                "label": "",
                "properties": {
                  "_dst": {
                    "offset": 5172,
                    "table": 0
                  },
                  "_label": "Rating",
                  "_src": {
                    "offset": 0,
                    "table": 1
                  },
                  "rating": 4,
                  "timestamp": 964981230
                },
                "start": 0,
                "thickness_factor": 1
              },
              {
                "color": "#15AFAC",
                "directed": false,
                "end": 111,
                "id": 110,
                "label": "",
                "properties": {
                  "_dst": {
                    "offset": 5179,
                    "table": 0
                  },
                  "_label": "Rating",
                  "_src": {
                    "offset": 0,
                    "table": 1
                  },
                  "rating": 4,
                  "timestamp": 964981404
                },
                "start": 0,
                "thickness_factor": 1
              },
              {
                "color": "#15AFAC",
                "directed": false,
                "end": 112,
                "id": 111,
                "label": "",
                "properties": {
                  "_dst": {
                    "offset": 5185,
                    "table": 0
                  },
                  "_label": "Rating",
                  "_src": {
                    "offset": 0,
                    "table": 1
                  },
                  "rating": 5,
                  "timestamp": 964983034
                },
                "start": 0,
                "thickness_factor": 1
              },
              {
                "color": "#15AFAC",
                "directed": false,
                "end": 113,
                "id": 112,
                "label": "",
                "properties": {
                  "_dst": {
                    "offset": 5186,
                    "table": 0
                  },
                  "_label": "Rating",
                  "_src": {
                    "offset": 0,
                    "table": 1
                  },
                  "rating": 4,
                  "timestamp": 964983056
                },
                "start": 0,
                "thickness_factor": 1
              },
              {
                "color": "#15AFAC",
                "directed": false,
                "end": 114,
                "id": 113,
                "label": "",
                "properties": {
                  "_dst": {
                    "offset": 5254,
                    "table": 0
                  },
                  "_label": "Rating",
                  "_src": {
                    "offset": 0,
                    "table": 1
                  },
                  "rating": 4,
                  "timestamp": 964981780
                },
                "start": 0,
                "thickness_factor": 1
              },
              {
                "color": "#15AFAC",
                "directed": false,
                "end": 115,
                "id": 114,
                "label": "",
                "properties": {
                  "_dst": {
                    "offset": 5260,
                    "table": 0
                  },
                  "_label": "Rating",
                  "_src": {
                    "offset": 0,
                    "table": 1
                  },
                  "rating": 5,
                  "timestamp": 964981497
                },
                "start": 0,
                "thickness_factor": 1
              },
              {
                "color": "#15AFAC",
                "directed": false,
                "end": 116,
                "id": 115,
                "label": "",
                "properties": {
                  "_dst": {
                    "offset": 5284,
                    "table": 0
                  },
                  "_label": "Rating",
                  "_src": {
                    "offset": 0,
                    "table": 1
                  },
                  "rating": 5,
                  "timestamp": 964982176
                },
                "start": 0,
                "thickness_factor": 1
              },
              {
                "color": "#15AFAC",
                "directed": false,
                "end": 117,
                "id": 116,
                "label": "",
                "properties": {
                  "_dst": {
                    "offset": 5297,
                    "table": 0
                  },
                  "_label": "Rating",
                  "_src": {
                    "offset": 0,
                    "table": 1
                  },
                  "rating": 4,
                  "timestamp": 964981710
                },
                "start": 0,
                "thickness_factor": 1
              },
              {
                "color": "#15AFAC",
                "directed": false,
                "end": 118,
                "id": 117,
                "label": "",
                "properties": {
                  "_dst": {
                    "offset": 5328,
                    "table": 0
                  },
                  "_label": "Rating",
                  "_src": {
                    "offset": 0,
                    "table": 1
                  },
                  "rating": 4,
                  "timestamp": 964982211
                },
                "start": 0,
                "thickness_factor": 1
              },
              {
                "color": "#15AFAC",
                "directed": false,
                "end": 119,
                "id": 118,
                "label": "",
                "properties": {
                  "_dst": {
                    "offset": 5333,
                    "table": 0
                  },
                  "_label": "Rating",
                  "_src": {
                    "offset": 0,
                    "table": 1
                  },
                  "rating": 5,
                  "timestamp": 964981710
                },
                "start": 0,
                "thickness_factor": 1
              },
              {
                "color": "#15AFAC",
                "directed": false,
                "end": 120,
                "id": 119,
                "label": "",
                "properties": {
                  "_dst": {
                    "offset": 5340,
                    "table": 0
                  },
                  "_label": "Rating",
                  "_src": {
                    "offset": 0,
                    "table": 1
                  },
                  "rating": 4,
                  "timestamp": 964984176
                },
                "start": 0,
                "thickness_factor": 1
              },
              {
                "color": "#15AFAC",
                "directed": false,
                "end": 121,
                "id": 120,
                "label": "",
                "properties": {
                  "_dst": {
                    "offset": 5346,
                    "table": 0
                  },
                  "_label": "Rating",
                  "_src": {
                    "offset": 0,
                    "table": 1
                  },
                  "rating": 5,
                  "timestamp": 964980523
                },
                "start": 0,
                "thickness_factor": 1
              },
              {
                "color": "#15AFAC",
                "directed": false,
                "end": 122,
                "id": 121,
                "label": "",
                "properties": {
                  "_dst": {
                    "offset": 5356,
                    "table": 0
                  },
                  "_label": "Rating",
                  "_src": {
                    "offset": 0,
                    "table": 1
                  },
                  "rating": 4,
                  "timestamp": 964981888
                },
                "start": 0,
                "thickness_factor": 1
              },
              {
                "color": "#15AFAC",
                "directed": false,
                "end": 123,
                "id": 122,
                "label": "",
                "properties": {
                  "_dst": {
                    "offset": 5358,
                    "table": 0
                  },
                  "_label": "Rating",
                  "_src": {
                    "offset": 0,
                    "table": 1
                  },
                  "rating": 5,
                  "timestamp": 964982903
                },
                "start": 0,
                "thickness_factor": 1
              },
              {
                "color": "#15AFAC",
                "directed": false,
                "end": 124,
                "id": 123,
                "label": "",
                "properties": {
                  "_dst": {
                    "offset": 5369,
                    "table": 0
                  },
                  "_label": "Rating",
                  "_src": {
                    "offset": 0,
                    "table": 1
                  },
                  "rating": 4,
                  "timestamp": 964982563
                },
                "start": 0,
                "thickness_factor": 1
              },
              {
                "color": "#15AFAC",
                "directed": false,
                "end": 125,
                "id": 124,
                "label": "",
                "properties": {
                  "_dst": {
                    "offset": 5370,
                    "table": 0
                  },
                  "_label": "Rating",
                  "_src": {
                    "offset": 0,
                    "table": 1
                  },
                  "rating": 5,
                  "timestamp": 964982791
                },
                "start": 0,
                "thickness_factor": 1
              },
              {
                "color": "#15AFAC",
                "directed": false,
                "end": 126,
                "id": 125,
                "label": "",
                "properties": {
                  "_dst": {
                    "offset": 5375,
                    "table": 0
                  },
                  "_label": "Rating",
                  "_src": {
                    "offset": 0,
                    "table": 1
                  },
                  "rating": 4,
                  "timestamp": 964981747
                },
                "start": 0,
                "thickness_factor": 1
              },
              {
                "color": "#15AFAC",
                "directed": false,
                "end": 127,
                "id": 126,
                "label": "",
                "properties": {
                  "_dst": {
                    "offset": 5379,
                    "table": 0
                  },
                  "_label": "Rating",
                  "_src": {
                    "offset": 0,
                    "table": 1
                  },
                  "rating": 5,
                  "timestamp": 964982400
                },
                "start": 0,
                "thickness_factor": 1
              },
              {
                "color": "#15AFAC",
                "directed": false,
                "end": 128,
                "id": 127,
                "label": "",
                "properties": {
                  "_dst": {
                    "offset": 5396,
                    "table": 0
                  },
                  "_label": "Rating",
                  "_src": {
                    "offset": 0,
                    "table": 1
                  },
                  "rating": 5,
                  "timestamp": 964982838
                },
                "start": 0,
                "thickness_factor": 1
              },
              {
                "color": "#15AFAC",
                "directed": false,
                "end": 129,
                "id": 128,
                "label": "",
                "properties": {
                  "_dst": {
                    "offset": 5406,
                    "table": 0
                  },
                  "_label": "Rating",
                  "_src": {
                    "offset": 0,
                    "table": 1
                  },
                  "rating": 5,
                  "timestamp": 964982838
                },
                "start": 0,
                "thickness_factor": 1
              },
              {
                "color": "#15AFAC",
                "directed": false,
                "end": 130,
                "id": 129,
                "label": "",
                "properties": {
                  "_dst": {
                    "offset": 5409,
                    "table": 0
                  },
                  "_label": "Rating",
                  "_src": {
                    "offset": 0,
                    "table": 1
                  },
                  "rating": 3,
                  "timestamp": 964981710
                },
                "start": 0,
                "thickness_factor": 1
              },
              {
                "color": "#15AFAC",
                "directed": false,
                "end": 131,
                "id": 130,
                "label": "",
                "properties": {
                  "_dst": {
                    "offset": 5410,
                    "table": 0
                  },
                  "_label": "Rating",
                  "_src": {
                    "offset": 0,
                    "table": 1
                  },
                  "rating": 5,
                  "timestamp": 964982653
                },
                "start": 0,
                "thickness_factor": 1
              },
              {
                "color": "#15AFAC",
                "directed": false,
                "end": 132,
                "id": 131,
                "label": "",
                "properties": {
                  "_dst": {
                    "offset": 5412,
                    "table": 0
                  },
                  "_label": "Rating",
                  "_src": {
                    "offset": 0,
                    "table": 1
                  },
                  "rating": 4,
                  "timestamp": 964982838
                },
                "start": 0,
                "thickness_factor": 1
              },
              {
                "color": "#15AFAC",
                "directed": false,
                "end": 133,
                "id": 132,
                "label": "",
                "properties": {
                  "_dst": {
                    "offset": 5415,
                    "table": 0
                  },
                  "_label": "Rating",
                  "_src": {
                    "offset": 0,
                    "table": 1
                  },
                  "rating": 4,
                  "timestamp": 964982588
                },
                "start": 0,
                "thickness_factor": 1
              },
              {
                "color": "#15AFAC",
                "directed": false,
                "end": 134,
                "id": 133,
                "label": "",
                "properties": {
                  "_dst": {
                    "offset": 5420,
                    "table": 0
                  },
                  "_label": "Rating",
                  "_src": {
                    "offset": 0,
                    "table": 1
                  },
                  "rating": 4,
                  "timestamp": 964981725
                },
                "start": 0,
                "thickness_factor": 1
              },
              {
                "color": "#15AFAC",
                "directed": false,
                "end": 135,
                "id": 134,
                "label": "",
                "properties": {
                  "_dst": {
                    "offset": 5429,
                    "table": 0
                  },
                  "_label": "Rating",
                  "_src": {
                    "offset": 0,
                    "table": 1
                  },
                  "rating": 5,
                  "timestamp": 964982529
                },
                "start": 0,
                "thickness_factor": 1
              },
              {
                "color": "#15AFAC",
                "directed": false,
                "end": 136,
                "id": 135,
                "label": "",
                "properties": {
                  "_dst": {
                    "offset": 5430,
                    "table": 0
                  },
                  "_label": "Rating",
                  "_src": {
                    "offset": 0,
                    "table": 1
                  },
                  "rating": 5,
                  "timestamp": 964982876
                },
                "start": 0,
                "thickness_factor": 1
              },
              {
                "color": "#15AFAC",
                "directed": false,
                "end": 137,
                "id": 136,
                "label": "",
                "properties": {
                  "_dst": {
                    "offset": 5448,
                    "table": 0
                  },
                  "_label": "Rating",
                  "_src": {
                    "offset": 0,
                    "table": 1
                  },
                  "rating": 5,
                  "timestamp": 964982791
                },
                "start": 0,
                "thickness_factor": 1
              },
              {
                "color": "#15AFAC",
                "directed": false,
                "end": 138,
                "id": 137,
                "label": "",
                "properties": {
                  "_dst": {
                    "offset": 5450,
                    "table": 0
                  },
                  "_label": "Rating",
                  "_src": {
                    "offset": 0,
                    "table": 1
                  },
                  "rating": 5,
                  "timestamp": 964982791
                },
                "start": 0,
                "thickness_factor": 1
              },
              {
                "color": "#15AFAC",
                "directed": false,
                "end": 139,
                "id": 138,
                "label": "",
                "properties": {
                  "_dst": {
                    "offset": 5452,
                    "table": 0
                  },
                  "_label": "Rating",
                  "_src": {
                    "offset": 0,
                    "table": 1
                  },
                  "rating": 5,
                  "timestamp": 964982838
                },
                "start": 0,
                "thickness_factor": 1
              },
              {
                "color": "#15AFAC",
                "directed": false,
                "end": 140,
                "id": 139,
                "label": "",
                "properties": {
                  "_dst": {
                    "offset": 5454,
                    "table": 0
                  },
                  "_label": "Rating",
                  "_src": {
                    "offset": 0,
                    "table": 1
                  },
                  "rating": 4,
                  "timestamp": 964981725
                },
                "start": 0,
                "thickness_factor": 1
              },
              {
                "color": "#15AFAC",
                "directed": false,
                "end": 141,
                "id": 140,
                "label": "",
                "properties": {
                  "_dst": {
                    "offset": 5470,
                    "table": 0
                  },
                  "_label": "Rating",
                  "_src": {
                    "offset": 0,
                    "table": 1
                  },
                  "rating": 5,
                  "timestamp": 964981710
                },
                "start": 0,
                "thickness_factor": 1
              },
              {
                "color": "#15AFAC",
                "directed": false,
                "end": 142,
                "id": 141,
                "label": "",
                "properties": {
                  "_dst": {
                    "offset": 5481,
                    "table": 0
                  },
                  "_label": "Rating",
                  "_src": {
                    "offset": 0,
                    "table": 1
                  },
                  "rating": 4,
                  "timestamp": 964981680
                },
                "start": 0,
                "thickness_factor": 1
              },
              {
                "color": "#15AFAC",
                "directed": false,
                "end": 143,
                "id": 142,
                "label": "",
                "properties": {
                  "_dst": {
                    "offset": 5497,
                    "table": 0
                  },
                  "_label": "Rating",
                  "_src": {
                    "offset": 0,
                    "table": 1
                  },
                  "rating": 4,
                  "timestamp": 964981710
                },
                "start": 0,
                "thickness_factor": 1
              },
              {
                "color": "#15AFAC",
                "directed": false,
                "end": 144,
                "id": 143,
                "label": "",
                "properties": {
                  "_dst": {
                    "offset": 5527,
                    "table": 0
                  },
                  "_label": "Rating",
                  "_src": {
                    "offset": 0,
                    "table": 1
                  },
                  "rating": 2,
                  "timestamp": 964981775
                },
                "start": 0,
                "thickness_factor": 1
              },
              {
                "color": "#15AFAC",
                "directed": false,
                "end": 145,
                "id": 144,
                "label": "",
                "properties": {
                  "_dst": {
                    "offset": 5540,
                    "table": 0
                  },
                  "_label": "Rating",
                  "_src": {
                    "offset": 0,
                    "table": 1
                  },
                  "rating": 4,
                  "timestamp": 964982989
                },
                "start": 0,
                "thickness_factor": 1
              },
              {
                "color": "#15AFAC",
                "directed": false,
                "end": 146,
                "id": 145,
                "label": "",
                "properties": {
                  "_dst": {
                    "offset": 5544,
                    "table": 0
                  },
                  "_label": "Rating",
                  "_src": {
                    "offset": 0,
                    "table": 1
                  },
                  "rating": 4,
                  "timestamp": 964982310
                },
                "start": 0,
                "thickness_factor": 1
              },
              {
                "color": "#15AFAC",
                "directed": false,
                "end": 147,
                "id": 146,
                "label": "",
                "properties": {
                  "_dst": {
                    "offset": 5557,
                    "table": 0
                  },
                  "_label": "Rating",
                  "_src": {
                    "offset": 0,
                    "table": 1
                  },
                  "rating": 5,
                  "timestamp": 964983664
                },
                "start": 0,
                "thickness_factor": 1
              },
              {
                "color": "#15AFAC",
                "directed": false,
                "end": 148,
                "id": 147,
                "label": "",
                "properties": {
                  "_dst": {
                    "offset": 5587,
                    "table": 0
                  },
                  "_label": "Rating",
                  "_src": {
                    "offset": 0,
                    "table": 1
                  },
                  "rating": 5,
                  "timestamp": 964983263
                },
                "start": 0,
                "thickness_factor": 1
              },
              {
                "color": "#15AFAC",
                "directed": false,
                "end": 149,
                "id": 148,
                "label": "",
                "properties": {
                  "_dst": {
                    "offset": 5596,
                    "table": 0
                  },
                  "_label": "Rating",
                  "_src": {
                    "offset": 0,
                    "table": 1
                  },
                  "rating": 2,
                  "timestamp": 964983546
                },
                "start": 0,
                "thickness_factor": 1
              },
              {
                "color": "#15AFAC",
                "directed": false,
                "end": 150,
                "id": 149,
                "label": "",
                "properties": {
                  "_dst": {
                    "offset": 5608,
                    "table": 0
                  },
                  "_label": "Rating",
                  "_src": {
                    "offset": 0,
                    "table": 1
                  },
                  "rating": 5,
                  "timestamp": 964983861
                },
                "start": 0,
                "thickness_factor": 1
              },
              {
                "color": "#15AFAC",
                "directed": false,
                "end": 151,
                "id": 150,
                "label": "",
                "properties": {
                  "_dst": {
                    "offset": 5621,
                    "table": 0
                  },
                  "_label": "Rating",
                  "_src": {
                    "offset": 0,
                    "table": 1
                  },
                  "rating": 4,
                  "timestamp": 964982462
                },
                "start": 0,
                "thickness_factor": 1
              },
              {
                "color": "#15AFAC",
                "directed": false,
                "end": 152,
                "id": 151,
                "label": "",
                "properties": {
                  "_dst": {
                    "offset": 5641,
                    "table": 0
                  },
                  "_label": "Rating",
                  "_src": {
                    "offset": 0,
                    "table": 1
                  },
                  "rating": 5,
                  "timestamp": 964983123
                },
                "start": 0,
                "thickness_factor": 1
              },
              {
                "color": "#15AFAC",
                "directed": false,
                "end": 153,
                "id": 152,
                "label": "",
                "properties": {
                  "_dst": {
                    "offset": 5643,
                    "table": 0
                  },
                  "_label": "Rating",
                  "_src": {
                    "offset": 0,
                    "table": 1
                  },
                  "rating": 2,
                  "timestamp": 964983094
                },
                "start": 0,
                "thickness_factor": 1
              },
              {
                "color": "#15AFAC",
                "directed": false,
                "end": 154,
                "id": 153,
                "label": "",
                "properties": {
                  "_dst": {
                    "offset": 5649,
                    "table": 0
                  },
                  "_label": "Rating",
                  "_src": {
                    "offset": 0,
                    "table": 1
                  },
                  "rating": 5,
                  "timestamp": 964981093
                },
                "start": 0,
                "thickness_factor": 1
              },
              {
                "color": "#15AFAC",
                "directed": false,
                "end": 155,
                "id": 154,
                "label": "",
                "properties": {
                  "_dst": {
                    "offset": 5659,
                    "table": 0
                  },
                  "_label": "Rating",
                  "_src": {
                    "offset": 0,
                    "table": 1
                  },
                  "rating": 4,
                  "timestamp": 964982310
                },
                "start": 0,
                "thickness_factor": 1
              },
              {
                "color": "#15AFAC",
                "directed": false,
                "end": 156,
                "id": 155,
                "label": "",
                "properties": {
                  "_dst": {
                    "offset": 5667,
                    "table": 0
                  },
                  "_label": "Rating",
                  "_src": {
                    "offset": 0,
                    "table": 1
                  },
                  "rating": 3,
                  "timestamp": 964982513
                },
                "start": 0,
                "thickness_factor": 1
              },
              {
                "color": "#15AFAC",
                "directed": false,
                "end": 157,
                "id": 156,
                "label": "",
                "properties": {
                  "_dst": {
                    "offset": 5679,
                    "table": 0
                  },
                  "_label": "Rating",
                  "_src": {
                    "offset": 0,
                    "table": 1
                  },
                  "rating": 5,
                  "timestamp": 964982242
                },
                "start": 0,
                "thickness_factor": 1
              },
              {
                "color": "#15AFAC",
                "directed": false,
                "end": 158,
                "id": 157,
                "label": "",
                "properties": {
                  "_dst": {
                    "offset": 5695,
                    "table": 0
                  },
                  "_label": "Rating",
                  "_src": {
                    "offset": 0,
                    "table": 1
                  },
                  "rating": 4,
                  "timestamp": 964982620
                },
                "start": 0,
                "thickness_factor": 1
              },
              {
                "color": "#15AFAC",
                "directed": false,
                "end": 159,
                "id": 158,
                "label": "",
                "properties": {
                  "_dst": {
                    "offset": 5703,
                    "table": 0
                  },
                  "_label": "Rating",
                  "_src": {
                    "offset": 0,
                    "table": 1
                  },
                  "rating": 5,
                  "timestamp": 964983414
                },
                "start": 0,
                "thickness_factor": 1
              },
              {
                "color": "#15AFAC",
                "directed": false,
                "end": 160,
                "id": 159,
                "label": "",
                "properties": {
                  "_dst": {
                    "offset": 5711,
                    "table": 0
                  },
                  "_label": "Rating",
                  "_src": {
                    "offset": 0,
                    "table": 1
                  },
                  "rating": 5,
                  "timestamp": 964982588
                },
                "start": 0,
                "thickness_factor": 1
              },
              {
                "color": "#15AFAC",
                "directed": false,
                "end": 161,
                "id": 160,
                "label": "",
                "properties": {
                  "_dst": {
                    "offset": 5719,
                    "table": 0
                  },
                  "_label": "Rating",
                  "_src": {
                    "offset": 0,
                    "table": 1
                  },
                  "rating": 4,
                  "timestamp": 964984169
                },
                "start": 0,
                "thickness_factor": 1
              },
              {
                "color": "#15AFAC",
                "directed": false,
                "end": 162,
                "id": 161,
                "label": "",
                "properties": {
                  "_dst": {
                    "offset": 5727,
                    "table": 0
                  },
                  "_label": "Rating",
                  "_src": {
                    "offset": 0,
                    "table": 1
                  },
                  "rating": 4,
                  "timestamp": 965719662
                },
                "start": 0,
                "thickness_factor": 1
              },
              {
                "color": "#15AFAC",
                "directed": false,
                "end": 163,
                "id": 162,
                "label": "",
                "properties": {
                  "_dst": {
                    "offset": 5736,
                    "table": 0
                  },
                  "_label": "Rating",
                  "_src": {
                    "offset": 0,
                    "table": 1
                  },
                  "rating": 5,
                  "timestamp": 964981278
                },
                "start": 0,
                "thickness_factor": 1
              },
              {
                "color": "#15AFAC",
                "directed": false,
                "end": 164,
                "id": 163,
                "label": "",
                "properties": {
                  "_dst": {
                    "offset": 5757,
                    "table": 0
                  },
                  "_label": "Rating",
                  "_src": {
                    "offset": 0,
                    "table": 1
                  },
                  "rating": 3,
                  "timestamp": 964982328
                },
                "start": 0,
                "thickness_factor": 1
              },
              {
                "color": "#15AFAC",
                "directed": false,
                "end": 165,
                "id": 164,
                "label": "",
                "properties": {
                  "_dst": {
                    "offset": 5758,
                    "table": 0
                  },
                  "_label": "Rating",
                  "_src": {
                    "offset": 0,
                    "table": 1
                  },
                  "rating": 5,
                  "timestamp": 964982242
                },
                "start": 0,
                "thickness_factor": 1
              },
              {
                "color": "#15AFAC",
                "directed": false,
                "end": 166,
                "id": 165,
                "label": "",
                "properties": {
                  "_dst": {
                    "offset": 5770,
                    "table": 0
                  },
                  "_label": "Rating",
                  "_src": {
                    "offset": 0,
                    "table": 1
                  },
                  "rating": 5,
                  "timestamp": 964981265
                },
                "start": 0,
                "thickness_factor": 1
              },
              {
                "color": "#15AFAC",
                "directed": false,
                "end": 167,
                "id": 166,
                "label": "",
                "properties": {
                  "_dst": {
                    "offset": 5792,
                    "table": 0
                  },
                  "_label": "Rating",
                  "_src": {
                    "offset": 0,
                    "table": 1
                  },
                  "rating": 5,
                  "timestamp": 964981888
                },
                "start": 0,
                "thickness_factor": 1
              },
              {
                "color": "#15AFAC",
                "directed": false,
                "end": 168,
                "id": 167,
                "label": "",
                "properties": {
                  "_dst": {
                    "offset": 5799,
                    "table": 0
                  },
                  "_label": "Rating",
                  "_src": {
                    "offset": 0,
                    "table": 1
                  },
                  "rating": 5,
                  "timestamp": 964983000
                },
                "start": 0,
                "thickness_factor": 1
              },
              {
                "color": "#15AFAC",
                "directed": false,
                "end": 169,
                "id": 168,
                "label": "",
                "properties": {
                  "_dst": {
                    "offset": 5810,
                    "table": 0
                  },
                  "_label": "Rating",
                  "_src": {
                    "offset": 0,
                    "table": 1
                  },
                  "rating": 5,
                  "timestamp": 964981144
                },
                "start": 0,
                "thickness_factor": 1
              },
              {
                "color": "#15AFAC",
                "directed": false,
                "end": 170,
                "id": 169,
                "label": "",
                "properties": {
                  "_dst": {
                    "offset": 5824,
                    "table": 0
                  },
                  "_label": "Rating",
                  "_src": {
                    "offset": 0,
                    "table": 1
                  },
                  "rating": 4,
                  "timestamp": 964983080
                },
                "start": 0,
                "thickness_factor": 1
              },
              {
                "color": "#15AFAC",
                "directed": false,
                "end": 171,
                "id": 170,
                "label": "",
                "properties": {
                  "_dst": {
                    "offset": 5825,
                    "table": 0
                  },
                  "_label": "Rating",
                  "_src": {
                    "offset": 0,
                    "table": 1
                  },
                  "rating": 2,
                  "timestamp": 964982588
                },
                "start": 0,
                "thickness_factor": 1
              },
              {
                "color": "#15AFAC",
                "directed": false,
                "end": 172,
                "id": 171,
                "label": "",
                "properties": {
                  "_dst": {
                    "offset": 5832,
                    "table": 0
                  },
                  "_label": "Rating",
                  "_src": {
                    "offset": 0,
                    "table": 1
                  },
                  "rating": 4,
                  "timestamp": 964980523
                },
                "start": 0,
                "thickness_factor": 1
              },
              {
                "color": "#15AFAC",
                "directed": false,
                "end": 173,
                "id": 172,
                "label": "",
                "properties": {
                  "_dst": {
                    "offset": 5839,
                    "table": 0
                  },
                  "_label": "Rating",
                  "_src": {
                    "offset": 0,
                    "table": 1
                  },
                  "rating": 4,
                  "timestamp": 964982377
                },
                "start": 0,
                "thickness_factor": 1
              },
              {
                "color": "#15AFAC",
                "directed": false,
                "end": 174,
                "id": 173,
                "label": "",
                "properties": {
                  "_dst": {
                    "offset": 5840,
                    "table": 0
                  },
                  "_label": "Rating",
                  "_src": {
                    "offset": 0,
                    "table": 1
                  },
                  "rating": 5,
                  "timestamp": 964982620
                },
                "start": 0,
                "thickness_factor": 1
              },
              {
                "color": "#15AFAC",
                "directed": false,
                "end": 175,
                "id": 174,
                "label": "",
                "properties": {
                  "_dst": {
                    "offset": 5843,
                    "table": 0
                  },
                  "_label": "Rating",
                  "_src": {
                    "offset": 0,
                    "table": 1
                  },
                  "rating": 4,
                  "timestamp": 964983393
                },
                "start": 0,
                "thickness_factor": 1
              },
              {
                "color": "#15AFAC",
                "directed": false,
                "end": 176,
                "id": 175,
                "label": "",
                "properties": {
                  "_dst": {
                    "offset": 5844,
                    "table": 0
                  },
                  "_label": "Rating",
                  "_src": {
                    "offset": 0,
                    "table": 1
                  },
                  "rating": 4,
                  "timestamp": 964983414
                },
                "start": 0,
                "thickness_factor": 1
              },
              {
                "color": "#15AFAC",
                "directed": false,
                "end": 177,
                "id": 176,
                "label": "",
                "properties": {
                  "_dst": {
                    "offset": 5847,
                    "table": 0
                  },
                  "_label": "Rating",
                  "_src": {
                    "offset": 0,
                    "table": 1
                  },
                  "rating": 5,
                  "timestamp": 964983393
                },
                "start": 0,
                "thickness_factor": 1
              },
              {
                "color": "#15AFAC",
                "directed": false,
                "end": 178,
                "id": 177,
                "label": "",
                "properties": {
                  "_dst": {
                    "offset": 5850,
                    "table": 0
                  },
                  "_label": "Rating",
                  "_src": {
                    "offset": 0,
                    "table": 1
                  },
                  "rating": 3,
                  "timestamp": 964983426
                },
                "start": 0,
                "thickness_factor": 1
              },
              {
                "color": "#15AFAC",
                "directed": false,
                "end": 179,
                "id": 178,
                "label": "",
                "properties": {
                  "_dst": {
                    "offset": 5873,
                    "table": 0
                  },
                  "_label": "Rating",
                  "_src": {
                    "offset": 0,
                    "table": 1
                  },
                  "rating": 5,
                  "timestamp": 964981855
                },
                "start": 0,
                "thickness_factor": 1
              },
              {
                "color": "#15AFAC",
                "directed": false,
                "end": 180,
                "id": 179,
                "label": "",
                "properties": {
                  "_dst": {
                    "offset": 5881,
                    "table": 0
                  },
                  "_label": "Rating",
                  "_src": {
                    "offset": 0,
                    "table": 1
                  },
                  "rating": 5,
                  "timestamp": 964980985
                },
                "start": 0,
                "thickness_factor": 1
              },
              {
                "color": "#15AFAC",
                "directed": false,
                "end": 181,
                "id": 180,
                "label": "",
                "properties": {
                  "_dst": {
                    "offset": 5891,
                    "table": 0
                  },
                  "_label": "Rating",
                  "_src": {
                    "offset": 0,
                    "table": 1
                  },
                  "rating": 5,
                  "timestamp": 964983414
                },
                "start": 0,
                "thickness_factor": 1
              },
              {
                "color": "#15AFAC",
                "directed": false,
                "end": 182,
                "id": 181,
                "label": "",
                "properties": {
                  "_dst": {
                    "offset": 5930,
                    "table": 0
                  },
                  "_label": "Rating",
                  "_src": {
                    "offset": 0,
                    "table": 1
                  },
                  "rating": 5,
                  "timestamp": 964982703
                },
                "start": 0,
                "thickness_factor": 1
              },
              {
                "color": "#15AFAC",
                "directed": false,
                "end": 183,
                "id": 182,
                "label": "",
                "properties": {
                  "_dst": {
                    "offset": 5956,
                    "table": 0
                  },
                  "_label": "Rating",
                  "_src": {
                    "offset": 0,
                    "table": 1
                  },
                  "rating": 4,
                  "timestamp": 964981710
                },
                "start": 0,
                "thickness_factor": 1
              },
              {
                "color": "#15AFAC",
                "directed": false,
                "end": 184,
                "id": 183,
                "label": "",
                "properties": {
                  "_dst": {
                    "offset": 5979,
                    "table": 0
                  },
                  "_label": "Rating",
                  "_src": {
                    "offset": 0,
                    "table": 1
                  },
                  "rating": 4,
                  "timestamp": 964980523
                },
                "start": 0,
                "thickness_factor": 1
              },
              {
                "color": "#15AFAC",
                "directed": false,
                "end": 185,
                "id": 184,
                "label": "",
                "properties": {
                  "_dst": {
                    "offset": 5998,
                    "table": 0
                  },
                  "_label": "Rating",
                  "_src": {
                    "offset": 0,
                    "table": 1
                  },
                  "rating": 5,
                  "timestamp": 964980868
                },
                "start": 0,
                "thickness_factor": 1
              },
              {
                "color": "#15AFAC",
                "directed": false,
                "end": 186,
                "id": 185,
                "label": "",
                "properties": {
                  "_dst": {
                    "offset": 6010,
                    "table": 0
                  },
                  "_label": "Rating",
                  "_src": {
                    "offset": 0,
                    "table": 1
                  },
                  "rating": 5,
                  "timestamp": 964981680
                },
                "start": 0,
                "thickness_factor": 1
              },
              {
                "color": "#15AFAC",
                "directed": false,
                "end": 187,
                "id": 186,
                "label": "",
                "properties": {
                  "_dst": {
                    "offset": 6035,
                    "table": 0
                  },
                  "_label": "Rating",
                  "_src": {
                    "offset": 0,
                    "table": 1
                  },
                  "rating": 5,
                  "timestamp": 964982703
                },
                "start": 0,
                "thickness_factor": 1
              },
              {
                "color": "#15AFAC",
                "directed": false,
                "end": 188,
                "id": 187,
                "label": "",
                "properties": {
                  "_dst": {
                    "offset": 6046,
                    "table": 0
                  },
                  "_label": "Rating",
                  "_src": {
                    "offset": 0,
                    "table": 1
                  },
                  "rating": 4,
                  "timestamp": 964982290
                },
                "start": 0,
                "thickness_factor": 1
              },
              {
                "color": "#15AFAC",
                "directed": false,
                "end": 189,
                "id": 188,
                "label": "",
                "properties": {
                  "_dst": {
                    "offset": 6069,
                    "table": 0
                  },
                  "_label": "Rating",
                  "_src": {
                    "offset": 0,
                    "table": 1
                  },
                  "rating": 5,
                  "timestamp": 964981872
                },
                "start": 0,
                "thickness_factor": 1
              },
              {
                "color": "#15AFAC",
                "directed": false,
                "end": 190,
                "id": 189,
                "label": "",
                "properties": {
                  "_dst": {
                    "offset": 6071,
                    "table": 0
                  },
                  "_label": "Rating",
                  "_src": {
                    "offset": 0,
                    "table": 1
                  },
                  "rating": 5,
                  "timestamp": 964982176
                },
                "start": 0,
                "thickness_factor": 1
              },
              {
                "color": "#15AFAC",
                "directed": false,
                "end": 191,
                "id": 190,
                "label": "",
                "properties": {
                  "_dst": {
                    "offset": 6072,
                    "table": 0
                  },
                  "_label": "Rating",
                  "_src": {
                    "offset": 0,
                    "table": 1
                  },
                  "rating": 5,
                  "timestamp": 964982191
                },
                "start": 0,
                "thickness_factor": 1
              },
              {
                "color": "#15AFAC",
                "directed": false,
                "end": 192,
                "id": 191,
                "label": "",
                "properties": {
                  "_dst": {
                    "offset": 6073,
                    "table": 0
                  },
                  "_label": "Rating",
                  "_src": {
                    "offset": 0,
                    "table": 1
                  },
                  "rating": 5,
                  "timestamp": 964981888
                },
                "start": 0,
                "thickness_factor": 1
              },
              {
                "color": "#15AFAC",
                "directed": false,
                "end": 193,
                "id": 192,
                "label": "",
                "properties": {
                  "_dst": {
                    "offset": 6079,
                    "table": 0
                  },
                  "_label": "Rating",
                  "_src": {
                    "offset": 0,
                    "table": 1
                  },
                  "rating": 5,
                  "timestamp": 964983282
                },
                "start": 0,
                "thickness_factor": 1
              },
              {
                "color": "#15AFAC",
                "directed": false,
                "end": 194,
                "id": 193,
                "label": "",
                "properties": {
                  "_dst": {
                    "offset": 6101,
                    "table": 0
                  },
                  "_label": "Rating",
                  "_src": {
                    "offset": 0,
                    "table": 1
                  },
                  "rating": 4,
                  "timestamp": 964983034
                },
                "start": 0,
                "thickness_factor": 1
              },
              {
                "color": "#15AFAC",
                "directed": false,
                "end": 195,
                "id": 194,
                "label": "",
                "properties": {
                  "_dst": {
                    "offset": 6103,
                    "table": 0
                  },
                  "_label": "Rating",
                  "_src": {
                    "offset": 0,
                    "table": 1
                  },
                  "rating": 5,
                  "timestamp": 964982495
                },
                "start": 0,
                "thickness_factor": 1
              },
              {
                "color": "#15AFAC",
                "directed": false,
                "end": 196,
                "id": 195,
                "label": "",
                "properties": {
                  "_dst": {
                    "offset": 6107,
                    "table": 0
                  },
                  "_label": "Rating",
                  "_src": {
                    "offset": 0,
                    "table": 1
                  },
                  "rating": 5,
                  "timestamp": 964982271
                },
                "start": 0,
                "thickness_factor": 1
              },
              {
                "color": "#15AFAC",
                "directed": false,
                "end": 197,
                "id": 196,
                "label": "",
                "properties": {
                  "_dst": {
                    "offset": 6109,
                    "table": 0
                  },
                  "_label": "Rating",
                  "_src": {
                    "offset": 0,
                    "table": 1
                  },
                  "rating": 5,
                  "timestamp": 964982242
                },
                "start": 0,
                "thickness_factor": 1
              },
              {
                "color": "#15AFAC",
                "directed": false,
                "end": 198,
                "id": 197,
                "label": "",
                "properties": {
                  "_dst": {
                    "offset": 6112,
                    "table": 0
                  },
                  "_label": "Rating",
                  "_src": {
                    "offset": 0,
                    "table": 1
                  },
                  "rating": 4,
                  "timestamp": 964980896
                },
                "start": 0,
                "thickness_factor": 1
              },
              {
                "color": "#15AFAC",
                "directed": false,
                "end": 199,
                "id": 198,
                "label": "",
                "properties": {
                  "_dst": {
                    "offset": 6139,
                    "table": 0
                  },
                  "_label": "Rating",
                  "_src": {
                    "offset": 0,
                    "table": 1
                  },
                  "rating": 5,
                  "timestamp": 964983762
                },
                "start": 0,
                "thickness_factor": 1
              },
              {
                "color": "#15AFAC",
                "directed": false,
                "end": 200,
                "id": 199,
                "label": "",
                "properties": {
                  "_dst": {
                    "offset": 6140,
                    "table": 0
                  },
                  "_label": "Rating",
                  "_src": {
                    "offset": 0,
                    "table": 1
                  },
                  "rating": 5,
                  "timestamp": 964982791
                },
                "start": 0,
                "thickness_factor": 1
              },
              {
                "color": "#15AFAC",
                "directed": false,
                "end": 201,
                "id": 200,
                "label": "",
                "properties": {
                  "_dst": {
                    "offset": 6155,
                    "table": 0
                  },
                  "_label": "Rating",
                  "_src": {
                    "offset": 0,
                    "table": 1
                  },
                  "rating": 5,
                  "timestamp": 964981208
                },
                "start": 0,
                "thickness_factor": 1
              },
              {
                "color": "#15AFAC",
                "directed": false,
                "end": 202,
                "id": 201,
                "label": "",
                "properties": {
                  "_dst": {
                    "offset": 6156,
                    "table": 0
                  },
                  "_label": "Rating",
                  "_src": {
                    "offset": 0,
                    "table": 1
                  },
                  "rating": 5,
                  "timestamp": 964984086
                },
                "start": 0,
                "thickness_factor": 1
              },
              {
                "color": "#15AFAC",
                "directed": false,
                "end": 203,
                "id": 202,
                "label": "",
                "properties": {
                  "_dst": {
                    "offset": 6163,
                    "table": 0
                  },
                  "_label": "Rating",
                  "_src": {
                    "offset": 0,
                    "table": 1
                  },
                  "rating": 4,
                  "timestamp": 964981872
                },
                "start": 0,
                "thickness_factor": 1
              },
              {
                "color": "#15AFAC",
                "directed": false,
                "end": 204,
                "id": 203,
                "label": "",
                "properties": {
                  "_dst": {
                    "offset": 19,
                    "table": 0
                  },
                  "_label": "Rating",
                  "_src": {
                    "offset": 0,
                    "table": 1
                  },
                  "rating": 5,
                  "timestamp": 964983873
                },
                "start": 0,
                "thickness_factor": 1
              },
              {
                "color": "#15AFAC",
                "directed": false,
                "end": 205,
                "id": 204,
                "label": "",
                "properties": {
                  "_dst": {
                    "offset": 35,
                    "table": 0
                  },
                  "_label": "Rating",
                  "_src": {
                    "offset": 0,
                    "table": 1
                  },
                  "rating": 4,
                  "timestamp": 964982495
                },
                "start": 0,
                "thickness_factor": 1
              },
              {
                "color": "#15AFAC",
                "directed": false,
                "end": 206,
                "id": 205,
                "label": "",
                "properties": {
                  "_dst": {
                    "offset": 41,
                    "table": 0
                  },
                  "_label": "Rating",
                  "_src": {
                    "offset": 0,
                    "table": 1
                  },
                  "rating": 1,
                  "timestamp": 964983504
                },
                "start": 0,
                "thickness_factor": 1
              },
              {
                "color": "#15AFAC",
                "directed": false,
                "end": 207,
                "id": 206,
                "label": "",
                "properties": {
                  "_dst": {
                    "offset": 78,
                    "table": 0
                  },
                  "_label": "Rating",
                  "_src": {
                    "offset": 0,
                    "table": 1
                  },
                  "rating": 3,
                  "timestamp": 964981093
                },
                "start": 0,
                "thickness_factor": 1
              },
              {
                "color": "#15AFAC",
                "directed": false,
                "end": 208,
                "id": 207,
                "label": "",
                "properties": {
                  "_dst": {
                    "offset": 81,
                    "table": 0
                  },
                  "_label": "Rating",
                  "_src": {
                    "offset": 0,
                    "table": 1
                  },
                  "rating": 3,
                  "timestamp": 964983108
                },
                "start": 0,
                "thickness_factor": 1
              },
              {
                "color": "#15AFAC",
                "directed": false,
                "end": 209,
                "id": 208,
                "label": "",
                "properties": {
                  "_dst": {
                    "offset": 87,
                    "table": 0
                  },
                  "_label": "Rating",
                  "_src": {
                    "offset": 0,
                    "table": 1
                  },
                  "rating": 5,
                  "timestamp": 964981107
                },
                "start": 0,
                "thickness_factor": 1
              },
              {
                "color": "#15AFAC",
                "directed": false,
                "end": 210,
                "id": 209,
                "label": "",
                "properties": {
                  "_dst": {
                    "offset": 107,
                    "table": 0
                  },
                  "_label": "Rating",
                  "_src": {
                    "offset": 0,
                    "table": 1
                  },
                  "rating": 5,
                  "timestamp": 964983536
                },
                "start": 0,
                "thickness_factor": 1
              },
              {
                "color": "#15AFAC",
                "directed": false,
                "end": 211,
                "id": 210,
                "label": "",
                "properties": {
                  "_dst": {
                    "offset": 6214,
                    "table": 0
                  },
                  "_label": "Rating",
                  "_src": {
                    "offset": 0,
                    "table": 1
                  },
                  "rating": 5,
                  "timestamp": 964983484
                },
                "start": 0,
                "thickness_factor": 1
              },
              {
                "color": "#15AFAC",
                "directed": false,
                "end": 212,
                "id": 211,
                "label": "",
                "properties": {
                  "_dst": {
                    "offset": 6259,
                    "table": 0
                  },
                  "_label": "Rating",
                  "_src": {
                    "offset": 0,
                    "table": 1
                  },
                  "rating": 4,
                  "timestamp": 964981799
                },
                "start": 0,
                "thickness_factor": 1
              },
              {
                "color": "#15AFAC",
                "directed": false,
                "end": 213,
                "id": 212,
                "label": "",
                "properties": {
                  "_dst": {
                    "offset": 6260,
                    "table": 0
                  },
                  "_label": "Rating",
                  "_src": {
                    "offset": 0,
                    "table": 1
                  },
                  "rating": 4,
                  "timestamp": 964981799
                },
                "start": 0,
                "thickness_factor": 1
              },
              {
                "color": "#15AFAC",
                "directed": false,
                "end": 214,
                "id": 213,
                "label": "",
                "properties": {
                  "_dst": {
                    "offset": 6261,
                    "table": 0
                  },
                  "_label": "Rating",
                  "_src": {
                    "offset": 0,
                    "table": 1
                  },
                  "rating": 5,
                  "timestamp": 964982328
                },
                "start": 0,
                "thickness_factor": 1
              },
              {
                "color": "#15AFAC",
                "directed": false,
                "end": 215,
                "id": 214,
                "label": "",
                "properties": {
                  "_dst": {
                    "offset": 6267,
                    "table": 0
                  },
                  "_label": "Rating",
                  "_src": {
                    "offset": 0,
                    "table": 1
                  },
                  "rating": 5,
                  "timestamp": 964984054
                },
                "start": 0,
                "thickness_factor": 1
              },
              {
                "color": "#15AFAC",
                "directed": false,
                "end": 216,
                "id": 215,
                "label": "",
                "properties": {
                  "_dst": {
                    "offset": 6269,
                    "table": 0
                  },
                  "_label": "Rating",
                  "_src": {
                    "offset": 0,
                    "table": 1
                  },
                  "rating": 5,
                  "timestamp": 964981144
                },
                "start": 0,
                "thickness_factor": 1
              },
              {
                "color": "#15AFAC",
                "directed": false,
                "end": 217,
                "id": 216,
                "label": "",
                "properties": {
                  "_dst": {
                    "offset": 6291,
                    "table": 0
                  },
                  "_label": "Rating",
                  "_src": {
                    "offset": 0,
                    "table": 1
                  },
                  "rating": 4,
                  "timestamp": 964981725
                },
                "start": 0,
                "thickness_factor": 1
              },
              {
                "color": "#15AFAC",
                "directed": false,
                "end": 218,
                "id": 217,
                "label": "",
                "properties": {
                  "_dst": {
                    "offset": 6296,
                    "table": 0
                  },
                  "_label": "Rating",
                  "_src": {
                    "offset": 0,
                    "table": 1
                  },
                  "rating": 4,
                  "timestamp": 964981775
                },
                "start": 0,
                "thickness_factor": 1
              },
              {
                "color": "#15AFAC",
                "directed": false,
                "end": 219,
                "id": 218,
                "label": "",
                "properties": {
                  "_dst": {
                    "offset": 6324,
                    "table": 0
                  },
                  "_label": "Rating",
                  "_src": {
                    "offset": 0,
                    "table": 1
                  },
                  "rating": 4,
                  "timestamp": 964982271
                },
                "start": 0,
                "thickness_factor": 1
              },
              {
                "color": "#15AFAC",
                "directed": false,
                "end": 220,
                "id": 219,
                "label": "",
                "properties": {
                  "_dst": {
                    "offset": 6362,
                    "table": 0
                  },
                  "_label": "Rating",
                  "_src": {
                    "offset": 0,
                    "table": 1
                  },
                  "rating": 5,
                  "timestamp": 964980668
                },
                "start": 0,
                "thickness_factor": 1
              },
              {
                "color": "#15AFAC",
                "directed": false,
                "end": 221,
                "id": 220,
                "label": "",
                "properties": {
                  "_dst": {
                    "offset": 180,
                    "table": 0
                  },
                  "_label": "Rating",
                  "_src": {
                    "offset": 0,
                    "table": 1
                  },
                  "rating": 4,
                  "timestamp": 964980683
                },
                "start": 0,
                "thickness_factor": 1
              },
              {
                "color": "#15AFAC",
                "directed": false,
                "end": 222,
                "id": 221,
                "label": "",
                "properties": {
                  "_dst": {
                    "offset": 197,
                    "table": 0
                  },
                  "_label": "Rating",
                  "_src": {
                    "offset": 0,
                    "table": 1
                  },
                  "rating": 4,
                  "timestamp": 964982271
                },
                "start": 0,
                "thickness_factor": 1
              },
              {
                "color": "#15AFAC",
                "directed": false,
                "end": 223,
                "id": 222,
                "label": "",
                "properties": {
                  "_dst": {
                    "offset": 217,
                    "table": 0
                  },
                  "_label": "Rating",
                  "_src": {
                    "offset": 0,
                    "table": 1
                  },
                  "rating": 5,
                  "timestamp": 964981589
                },
                "start": 0,
                "thickness_factor": 1
              },
              {
                "color": "#15AFAC",
                "directed": false,
                "end": 224,
                "id": 223,
                "label": "",
                "properties": {
                  "_dst": {
                    "offset": 248,
                    "table": 0
                  },
                  "_label": "Rating",
                  "_src": {
                    "offset": 0,
                    "table": 1
                  },
                  "rating": 5,
                  "timestamp": 964983737
                },
                "start": 0,
                "thickness_factor": 1
              },
              {
                "color": "#15AFAC",
                "directed": false,
                "end": 225,
                "id": 224,
                "label": "",
                "properties": {
                  "_dst": {
                    "offset": 249,
                    "table": 0
                  },
                  "_label": "Rating",
                  "_src": {
                    "offset": 0,
                    "table": 1
                  },
                  "rating": 5,
                  "timestamp": 964981909
                },
                "start": 0,
                "thickness_factor": 1
              },
              {
                "color": "#15AFAC",
                "directed": false,
                "end": 226,
                "id": 225,
                "label": "",
                "properties": {
                  "_dst": {
                    "offset": 272,
                    "table": 0
                  },
                  "_label": "Rating",
                  "_src": {
                    "offset": 0,
                    "table": 1
                  },
                  "rating": 5,
                  "timestamp": 964982363
                },
                "start": 0,
                "thickness_factor": 1
              },
              {
                "color": "#15AFAC",
                "directed": false,
                "end": 227,
                "id": 226,
                "label": "",
                "properties": {
                  "_dst": {
                    "offset": 282,
                    "table": 0
                  },
                  "_label": "Rating",
                  "_src": {
                    "offset": 0,
                    "table": 1
                  },
                  "rating": 4,
                  "timestamp": 964982417
                },
                "start": 0,
                "thickness_factor": 1
              },
              {
                "color": "#15AFAC",
                "directed": false,
                "end": 228,
                "id": 227,
                "label": "",
                "properties": {
                  "_dst": {
                    "offset": 286,
                    "table": 0
                  },
                  "_label": "Rating",
                  "_src": {
                    "offset": 0,
                    "table": 1
                  },
                  "rating": 4,
                  "timestamp": 964980694
                },
                "start": 0,
                "thickness_factor": 1
              },
              {
                "color": "#15AFAC",
                "directed": false,
                "end": 229,
                "id": 228,
                "label": "",
                "properties": {
                  "_dst": {
                    "offset": 6371,
                    "table": 0
                  },
                  "_label": "Rating",
                  "_src": {
                    "offset": 0,
                    "table": 1
                  },
                  "rating": 5,
                  "timestamp": 964981855
                },
                "start": 0,
                "thickness_factor": 1
              },
              {
                "color": "#15AFAC",
                "directed": false,
                "end": 230,
                "id": 229,
                "label": "",
                "properties": {
                  "_dst": {
                    "offset": 6382,
                    "table": 0
                  },
                  "_label": "Rating",
                  "_src": {
                    "offset": 0,
                    "table": 1
                  },
                  "rating": 4,
                  "timestamp": 964981220
                },
                "start": 0,
                "thickness_factor": 1
              },
              {
                "color": "#15AFAC",
                "directed": false,
                "end": 231,
                "id": 230,
                "label": "",
                "properties": {
                  "_dst": {
                    "offset": 6526,
                    "table": 0
                  },
                  "_label": "Rating",
                  "_src": {
                    "offset": 0,
                    "table": 1
                  },
                  "rating": 4,
                  "timestamp": 964982903
                },
                "start": 0,
                "thickness_factor": 1
              },
              {
                "color": "#15AFAC",
                "directed": false,
                "end": 232,
                "id": 231,
                "label": "",
                "properties": {
                  "_dst": {
                    "offset": 691,
                    "table": 0
                  },
                  "_label": "Rating",
                  "_src": {
                    "offset": 0,
                    "table": 1
                  },
                  "rating": 5,
                  "timestamp": 964984002
                },
                "start": 0,
                "thickness_factor": 1
              },
              {
                "color": "#15AFAC",
                "directed": false,
                "end": 233,
                "id": 232,
                "label": "",
                "properties": {
                  "_dst": {
                    "offset": 4144,
                    "table": 0
                  },
                  "_label": "Rating",
                  "_src": {
                    "offset": 1,
                    "table": 1
                  },
                  "rating": 4,
                  "timestamp": 1445715029
                },
                "start": 19,
                "thickness_factor": 1
              },
              {
                "color": "#15AFAC",
                "directed": false,
                "end": 233,
                "id": 233,
                "label": "",
                "properties": {
                  "_dst": {
                    "offset": 6362,
                    "table": 0
                  },
                  "_label": "Rating",
                  "_src": {
                    "offset": 1,
                    "table": 1
                  },
                  "rating": 4,
                  "timestamp": 1445714885
                },
                "start": 220,
                "thickness_factor": 1
              },
              {
                "color": "#15AFAC",
                "directed": false,
                "end": 234,
                "id": 234,
                "label": "",
                "properties": {
                  "_dst": {
                    "offset": 4130,
                    "table": 0
                  },
                  "_label": "Rating",
                  "_src": {
                    "offset": 1,
                    "table": 1
                  },
                  "rating": 3,
                  "timestamp": 1445714835
                },
                "start": 233,
                "thickness_factor": 1
              },
              {
                "color": "#15AFAC",
                "directed": false,
                "end": 235,
                "id": 235,
                "label": "",
                "properties": {
                  "_dst": {
                    "offset": 5137,
                    "table": 0
                  },
                  "_label": "Rating",
                  "_src": {
                    "offset": 1,
                    "table": 1
                  },
                  "rating": 4.5,
                  "timestamp": 1445715228
                },
                "start": 233,
                "thickness_factor": 1
              },
              {
                "color": "#15AFAC",
                "directed": false,
                "end": 236,
                "id": 236,
                "label": "",
                "properties": {
                  "_dst": {
                    "offset": 1184,
                    "table": 0
                  },
                  "_label": "Rating",
                  "_src": {
                    "offset": 1,
                    "table": 1
                  },
                  "rating": 4,
                  "timestamp": 1445714952
                },
                "start": 233,
                "thickness_factor": 1
              },
              {
                "color": "#15AFAC",
                "directed": false,
                "end": 237,
                "id": 237,
                "label": "",
                "properties": {
                  "_dst": {
                    "offset": 7594,
                    "table": 0
                  },
                  "_label": "Rating",
                  "_src": {
                    "offset": 1,
                    "table": 1
                  },
                  "rating": 3.5,
                  "timestamp": 1445714960
                },
                "start": 233,
                "thickness_factor": 1
              },
              {
                "color": "#15AFAC",
                "directed": false,
                "end": 238,
                "id": 238,
                "label": "",
                "properties": {
                  "_dst": {
                    "offset": 8135,
                    "table": 0
                  },
                  "_label": "Rating",
                  "_src": {
                    "offset": 1,
                    "table": 1
                  },
                  "rating": 4,
                  "timestamp": 1445715013
                },
                "start": 233,
                "thickness_factor": 1
              },
              {
                "color": "#15AFAC",
                "directed": false,
                "end": 239,
                "id": 239,
                "label": "",
                "properties": {
                  "_dst": {
                    "offset": 2029,
                    "table": 0
                  },
                  "_label": "Rating",
                  "_src": {
                    "offset": 1,
                    "table": 1
                  },
                  "rating": 4,
                  "timestamp": 1445715064
                },
                "start": 233,
                "thickness_factor": 1
              },
              {
                "color": "#15AFAC",
                "directed": false,
                "end": 240,
                "id": 240,
                "label": "",
                "properties": {
                  "_dst": {
                    "offset": 2281,
                    "table": 0
                  },
                  "_label": "Rating",
                  "_src": {
                    "offset": 1,
                    "table": 1
                  },
                  "rating": 4.5,
                  "timestamp": 1445715141
                },
                "start": 233,
                "thickness_factor": 1
              },
              {
                "color": "#15AFAC",
                "directed": false,
                "end": 241,
                "id": 241,
                "label": "",
                "properties": {
                  "_dst": {
                    "offset": 2372,
                    "table": 0
                  },
                  "_label": "Rating",
                  "_src": {
                    "offset": 1,
                    "table": 1
                  },
                  "rating": 5,
                  "timestamp": 1445714980
                },
                "start": 233,
                "thickness_factor": 1
              },
              {
                "color": "#15AFAC",
                "directed": false,
                "end": 242,
                "id": 242,
                "label": "",
                "properties": {
                  "_dst": {
                    "offset": 8458,
                    "table": 0
                  },
                  "_label": "Rating",
                  "_src": {
                    "offset": 1,
                    "table": 1
                  },
                  "rating": 4.5,
                  "timestamp": 1445715154
                },
                "start": 233,
                "thickness_factor": 1
              },
              {
                "color": "#15AFAC",
                "directed": false,
                "end": 243,
                "id": 243,
                "label": "",
                "properties": {
                  "_dst": {
                    "offset": 2441,
                    "table": 0
                  },
                  "_label": "Rating",
                  "_src": {
                    "offset": 1,
                    "table": 1
                  },
                  "rating": 3,
                  "timestamp": 1445714974
                },
                "start": 233,
                "thickness_factor": 1
              },
              {
                "color": "#15AFAC",
                "directed": false,
                "end": 244,
                "id": 244,
                "label": "",
                "properties": {
                  "_dst": {
                    "offset": 8573,
                    "table": 0
                  },
                  "_label": "Rating",
                  "_src": {
                    "offset": 1,
                    "table": 1
                  },
                  "rating": 4,
                  "timestamp": 1445714926
                },
                "start": 233,
                "thickness_factor": 1
              },
              {
                "color": "#15AFAC",
                "directed": false,
                "end": 245,
                "id": 245,
                "label": "",
                "properties": {
                  "_dst": {
                    "offset": 8638,
                    "table": 0
                  },
                  "_label": "Rating",
                  "_src": {
                    "offset": 1,
                    "table": 1
                  },
                  "rating": 3,
                  "timestamp": 1445714941
                },
                "start": 233,
                "thickness_factor": 1
              },
              {
                "color": "#15AFAC",
                "directed": false,
                "end": 246,
                "id": 246,
                "label": "",
                "properties": {
                  "_dst": {
                    "offset": 8687,
                    "table": 0
                  },
                  "_label": "Rating",
                  "_src": {
                    "offset": 1,
                    "table": 1
                  },
                  "rating": 4,
                  "timestamp": 1445714841
                },
                "start": 233,
                "thickness_factor": 1
              },
              {
                "color": "#15AFAC",
                "directed": false,
                "end": 247,
                "id": 247,
                "label": "",
                "properties": {
                  "_dst": {
                    "offset": 2560,
                    "table": 0
                  },
                  "_label": "Rating",
                  "_src": {
                    "offset": 1,
                    "table": 1
                  },
                  "rating": 4.5,
                  "timestamp": 1445715340
                },
                "start": 233,
                "thickness_factor": 1
              },
              {
                "color": "#15AFAC",
                "directed": false,
                "end": 248,
                "id": 248,
                "label": "",
                "properties": {
                  "_dst": {
                    "offset": 2581,
                    "table": 0
                  },
                  "_label": "Rating",
                  "_src": {
                    "offset": 1,
                    "table": 1
                  },
                  "rating": 5,
                  "timestamp": 1445715172
                },
                "start": 233,
                "thickness_factor": 1
              },
              {
                "color": "#15AFAC",
                "directed": false,
                "end": 249,
                "id": 249,
                "label": "",
                "properties": {
                  "_dst": {
                    "offset": 8760,
                    "table": 0
                  },
                  "_label": "Rating",
                  "_src": {
                    "offset": 1,
                    "table": 1
                  },
                  "rating": 4,
                  "timestamp": 1445715166
                },
                "start": 233,
                "thickness_factor": 1
              }
            ],
            "_graph_layout": {},
            "_highlight": [],
            "_license": {},
            "_model_module": "yfiles-jupyter-graphs",
            "_model_module_version": "^1.6.1",
            "_model_name": "GraphModel",
            "_neighborhood": {},
            "_nodes": [
              {
                "color": "#eb4934",
                "id": 0,
                "label": "User_1",
                "position": [
                  0,
                  0
                ],
                "properties": {
                  "User": true,
                  "_id": {
                    "offset": 0,
                    "table": 1
                  },
                  "_label": "User",
                  "label": "User_1",
                  "userId": 1
                },
                "scale_factor": 1,
                "size": [
                  55,
                  55
                ],
                "styles": {},
                "type": "#eb4934"
              },
              {
                "color": "#2456d4",
                "id": 1,
                "label": "Movie_1",
                "position": [
                  0,
                  0
                ],
                "properties": {
                  "Movie": true,
                  "_id": {
                    "offset": 3853,
                    "table": 0
                  },
                  "_label": "Movie",
                  "genres": "Adventure|Animation|Children|Comedy|Fantasy",
                  "label": "Movie_1",
                  "movieId": 1,
                  "title": "Toy Story (1995)",
                  "year": 1995
                },
                "scale_factor": 1,
                "size": [
                  55,
                  55
                ],
                "styles": {},
                "type": "#2456d4"
              },
              {
                "color": "#2456d4",
                "id": 2,
                "label": "Movie_3",
                "position": [
                  0,
                  0
                ],
                "properties": {
                  "Movie": true,
                  "_id": {
                    "offset": 3855,
                    "table": 0
                  },
                  "_label": "Movie",
                  "genres": "Comedy|Romance",
                  "label": "Movie_3",
                  "movieId": 3,
                  "title": "Grumpier Old Men (1995)",
                  "year": 1995
                },
                "scale_factor": 1,
                "size": [
                  55,
                  55
                ],
                "styles": {},
                "type": "#2456d4"
              },
              {
                "color": "#2456d4",
                "id": 3,
                "label": "Movie_6",
                "position": [
                  0,
                  0
                ],
                "properties": {
                  "Movie": true,
                  "_id": {
                    "offset": 3858,
                    "table": 0
                  },
                  "_label": "Movie",
                  "genres": "Action|Crime|Thriller",
                  "label": "Movie_6",
                  "movieId": 6,
                  "title": "Heat (1995)",
                  "year": 1995
                },
                "scale_factor": 1,
                "size": [
                  55,
                  55
                ],
                "styles": {},
                "type": "#2456d4"
              },
              {
                "color": "#2456d4",
                "id": 4,
                "label": "Movie_47",
                "position": [
                  0,
                  0
                ],
                "properties": {
                  "Movie": true,
                  "_id": {
                    "offset": 3896,
                    "table": 0
                  },
                  "_label": "Movie",
                  "genres": "Mystery|Thriller",
                  "label": "Movie_47",
                  "movieId": 47,
                  "title": "Seven (a.k.a. Se7en) (1995)",
                  "year": 1995
                },
                "scale_factor": 1,
                "size": [
                  55,
                  55
                ],
                "styles": {},
                "type": "#2456d4"
              },
              {
                "color": "#2456d4",
                "id": 5,
                "label": "Movie_50",
                "position": [
                  0,
                  0
                ],
                "properties": {
                  "Movie": true,
                  "_id": {
                    "offset": 3899,
                    "table": 0
                  },
                  "_label": "Movie",
                  "genres": "Crime|Mystery|Thriller",
                  "label": "Movie_50",
                  "movieId": 50,
                  "title": "Usual Suspects, The (1995)",
                  "year": 1995
                },
                "scale_factor": 1,
                "size": [
                  55,
                  55
                ],
                "styles": {},
                "type": "#2456d4"
              },
              {
                "color": "#2456d4",
                "id": 6,
                "label": "Movie_70",
                "position": [
                  0,
                  0
                ],
                "properties": {
                  "Movie": true,
                  "_id": {
                    "offset": 3915,
                    "table": 0
                  },
                  "_label": "Movie",
                  "genres": "Action|Comedy|Horror|Thriller",
                  "label": "Movie_70",
                  "movieId": 70,
                  "title": "From Dusk Till Dawn (1996)",
                  "year": 1996
                },
                "scale_factor": 1,
                "size": [
                  55,
                  55
                ],
                "styles": {},
                "type": "#2456d4"
              },
              {
                "color": "#2456d4",
                "id": 7,
                "label": "Movie_101",
                "position": [
                  0,
                  0
                ],
                "properties": {
                  "Movie": true,
                  "_id": {
                    "offset": 3942,
                    "table": 0
                  },
                  "_label": "Movie",
                  "genres": "Adventure|Comedy|Crime|Romance",
                  "label": "Movie_101",
                  "movieId": 101,
                  "title": "Bottle Rocket (1996)",
                  "year": 1996
                },
                "scale_factor": 1,
                "size": [
                  55,
                  55
                ],
                "styles": {},
                "type": "#2456d4"
              },
              {
                "color": "#2456d4",
                "id": 8,
                "label": "Movie_110",
                "position": [
                  0,
                  0
                ],
                "properties": {
                  "Movie": true,
                  "_id": {
                    "offset": 3950,
                    "table": 0
                  },
                  "_label": "Movie",
                  "genres": "Action|Drama|War",
                  "label": "Movie_110",
                  "movieId": 110,
                  "title": "Braveheart (1995)",
                  "year": 1995
                },
                "scale_factor": 1,
                "size": [
                  55,
                  55
                ],
                "styles": {},
                "type": "#2456d4"
              },
              {
                "color": "#2456d4",
                "id": 9,
                "label": "Movie_151",
                "position": [
                  0,
                  0
                ],
                "properties": {
                  "Movie": true,
                  "_id": {
                    "offset": 3977,
                    "table": 0
                  },
                  "_label": "Movie",
                  "genres": "Action|Drama|Romance|War",
                  "label": "Movie_151",
                  "movieId": 151,
                  "title": "Rob Roy (1995)",
                  "year": 1995
                },
                "scale_factor": 1,
                "size": [
                  55,
                  55
                ],
                "styles": {},
                "type": "#2456d4"
              },
              {
                "color": "#2456d4",
                "id": 10,
                "label": "Movie_157",
                "position": [
                  0,
                  0
                ],
                "properties": {
                  "Movie": true,
                  "_id": {
                    "offset": 3983,
                    "table": 0
                  },
                  "_label": "Movie",
                  "genres": "Comedy|War",
                  "label": "Movie_157",
                  "movieId": 157,
                  "title": "Canadian Bacon (1995)",
                  "year": 1995
                },
                "scale_factor": 1,
                "size": [
                  55,
                  55
                ],
                "styles": {},
                "type": "#2456d4"
              },
              {
                "color": "#2456d4",
                "id": 11,
                "label": "Movie_163",
                "position": [
                  0,
                  0
                ],
                "properties": {
                  "Movie": true,
                  "_id": {
                    "offset": 3989,
                    "table": 0
                  },
                  "_label": "Movie",
                  "genres": "Action|Romance|Western",
                  "label": "Movie_163",
                  "movieId": 163,
                  "title": "Desperado (1995)",
                  "year": 1995
                },
                "scale_factor": 1,
                "size": [
                  55,
                  55
                ],
                "styles": {},
                "type": "#2456d4"
              },
              {
                "color": "#2456d4",
                "id": 12,
                "label": "Movie_216",
                "position": [
                  0,
                  0
                ],
                "properties": {
                  "Movie": true,
                  "_id": {
                    "offset": 4037,
                    "table": 0
                  },
                  "_label": "Movie",
                  "genres": "Comedy",
                  "label": "Movie_216",
                  "movieId": 216,
                  "title": "Billy Madison (1995)",
                  "year": 1995
                },
                "scale_factor": 1,
                "size": [
                  55,
                  55
                ],
                "styles": {},
                "type": "#2456d4"
              },
              {
                "color": "#2456d4",
                "id": 13,
                "label": "Movie_223",
                "position": [
                  0,
                  0
                ],
                "properties": {
                  "Movie": true,
                  "_id": {
                    "offset": 4043,
                    "table": 0
                  },
                  "_label": "Movie",
                  "genres": "Comedy",
                  "label": "Movie_223",
                  "movieId": 223,
                  "title": "Clerks (1994)",
                  "year": 1994
                },
                "scale_factor": 1,
                "size": [
                  55,
                  55
                ],
                "styles": {},
                "type": "#2456d4"
              },
              {
                "color": "#2456d4",
                "id": 14,
                "label": "Movie_231",
                "position": [
                  0,
                  0
                ],
                "properties": {
                  "Movie": true,
                  "_id": {
                    "offset": 4050,
                    "table": 0
                  },
                  "_label": "Movie",
                  "genres": "Adventure|Comedy",
                  "label": "Movie_231",
                  "movieId": 231,
                  "title": "Dumb & Dumber (Dumb and Dumber) (1994)",
                  "year": 1994
                },
                "scale_factor": 1,
                "size": [
                  55,
                  55
                ],
                "styles": {},
                "type": "#2456d4"
              },
              {
                "color": "#2456d4",
                "id": 15,
                "label": "Movie_235",
                "position": [
                  0,
                  0
                ],
                "properties": {
                  "Movie": true,
                  "_id": {
                    "offset": 4054,
                    "table": 0
                  },
                  "_label": "Movie",
                  "genres": "Comedy|Drama",
                  "label": "Movie_235",
                  "movieId": 235,
                  "title": "Ed Wood (1994)",
                  "year": 1994
                },
                "scale_factor": 1,
                "size": [
                  55,
                  55
                ],
                "styles": {},
                "type": "#2456d4"
              },
              {
                "color": "#2456d4",
                "id": 16,
                "label": "Movie_260",
                "position": [
                  0,
                  0
                ],
                "properties": {
                  "Movie": true,
                  "_id": {
                    "offset": 4077,
                    "table": 0
                  },
                  "_label": "Movie",
                  "genres": "Action|Adventure|Sci-Fi",
                  "label": "Movie_260",
                  "movieId": 260,
                  "title": "Star Wars: Episode IV - A New Hope (1977)",
                  "year": 1977
                },
                "scale_factor": 1,
                "size": [
                  55,
                  55
                ],
                "styles": {},
                "type": "#2456d4"
              },
              {
                "color": "#2456d4",
                "id": 17,
                "label": "Movie_296",
                "position": [
                  0,
                  0
                ],
                "properties": {
                  "Movie": true,
                  "_id": {
                    "offset": 4110,
                    "table": 0
                  },
                  "_label": "Movie",
                  "genres": "Comedy|Crime|Drama|Thriller",
                  "label": "Movie_296",
                  "movieId": 296,
                  "title": "Pulp Fiction (1994)",
                  "year": 1994
                },
                "scale_factor": 1,
                "size": [
                  55,
                  55
                ],
                "styles": {},
                "type": "#2456d4"
              },
              {
                "color": "#2456d4",
                "id": 18,
                "label": "Movie_316",
                "position": [
                  0,
                  0
                ],
                "properties": {
                  "Movie": true,
                  "_id": {
                    "offset": 4128,
                    "table": 0
                  },
                  "_label": "Movie",
                  "genres": "Action|Adventure|Sci-Fi",
                  "label": "Movie_316",
                  "movieId": 316,
                  "title": "Stargate (1994)",
                  "year": 1994
                },
                "scale_factor": 1,
                "size": [
                  55,
                  55
                ],
                "styles": {},
                "type": "#2456d4"
              },
              {
                "color": "#2456d4",
                "id": 19,
                "label": "Movie_333",
                "position": [
                  0,
                  0
                ],
                "properties": {
                  "Movie": true,
                  "_id": {
                    "offset": 4144,
                    "table": 0
                  },
                  "_label": "Movie",
                  "genres": "Comedy",
                  "label": "Movie_333",
                  "movieId": 333,
                  "title": "Tommy Boy (1995)",
                  "year": 1995
                },
                "scale_factor": 1,
                "size": [
                  55,
                  55
                ],
                "styles": {},
                "type": "#2456d4"
              },
              {
                "color": "#2456d4",
                "id": 20,
                "label": "Movie_349",
                "position": [
                  0,
                  0
                ],
                "properties": {
                  "Movie": true,
                  "_id": {
                    "offset": 4160,
                    "table": 0
                  },
                  "_label": "Movie",
                  "genres": "Action|Crime|Drama|Thriller",
                  "label": "Movie_349",
                  "movieId": 349,
                  "title": "Clear and Present Danger (1994)",
                  "year": 1994
                },
                "scale_factor": 1,
                "size": [
                  55,
                  55
                ],
                "styles": {},
                "type": "#2456d4"
              },
              {
                "color": "#2456d4",
                "id": 21,
                "label": "Movie_356",
                "position": [
                  0,
                  0
                ],
                "properties": {
                  "Movie": true,
                  "_id": {
                    "offset": 4167,
                    "table": 0
                  },
                  "_label": "Movie",
                  "genres": "Comedy|Drama|Romance|War",
                  "label": "Movie_356",
                  "movieId": 356,
                  "title": "Forrest Gump (1994)",
                  "year": 1994
                },
                "scale_factor": 1,
                "size": [
                  55,
                  55
                ],
                "styles": {},
                "type": "#2456d4"
              },
              {
                "color": "#2456d4",
                "id": 22,
                "label": "Movie_362",
                "position": [
                  0,
                  0
                ],
                "properties": {
                  "Movie": true,
                  "_id": {
                    "offset": 4173,
                    "table": 0
                  },
                  "_label": "Movie",
                  "genres": "Adventure|Children|Romance",
                  "label": "Movie_362",
                  "movieId": 362,
                  "title": "Jungle Book, The (1994)",
                  "year": 1994
                },
                "scale_factor": 1,
                "size": [
                  55,
                  55
                ],
                "styles": {},
                "type": "#2456d4"
              },
              {
                "color": "#2456d4",
                "id": 23,
                "label": "Movie_367",
                "position": [
                  0,
                  0
                ],
                "properties": {
                  "Movie": true,
                  "_id": {
                    "offset": 4178,
                    "table": 0
                  },
                  "_label": "Movie",
                  "genres": "Action|Comedy|Crime|Fantasy",
                  "label": "Movie_367",
                  "movieId": 367,
                  "title": "Mask, The (1994)",
                  "year": 1994
                },
                "scale_factor": 1,
                "size": [
                  55,
                  55
                ],
                "styles": {},
                "type": "#2456d4"
              },
              {
                "color": "#2456d4",
                "id": 24,
                "label": "Movie_423",
                "position": [
                  0,
                  0
                ],
                "properties": {
                  "Movie": true,
                  "_id": {
                    "offset": 4220,
                    "table": 0
                  },
                  "_label": "Movie",
                  "genres": "Action|Thriller",
                  "label": "Movie_423",
                  "movieId": 423,
                  "title": "Blown Away (1994)",
                  "year": 1994
                },
                "scale_factor": 1,
                "size": [
                  55,
                  55
                ],
                "styles": {},
                "type": "#2456d4"
              },
              {
                "color": "#2456d4",
                "id": 25,
                "label": "Movie_441",
                "position": [
                  0,
                  0
                ],
                "properties": {
                  "Movie": true,
                  "_id": {
                    "offset": 4237,
                    "table": 0
                  },
                  "_label": "Movie",
                  "genres": "Comedy",
                  "label": "Movie_441",
                  "movieId": 441,
                  "title": "Dazed and Confused (1993)",
                  "year": 1993
                },
                "scale_factor": 1,
                "size": [
                  55,
                  55
                ],
                "styles": {},
                "type": "#2456d4"
              },
              {
                "color": "#2456d4",
                "id": 26,
                "label": "Movie_457",
                "position": [
                  0,
                  0
                ],
                "properties": {
                  "Movie": true,
                  "_id": {
                    "offset": 4251,
                    "table": 0
                  },
                  "_label": "Movie",
                  "genres": "Thriller",
                  "label": "Movie_457",
                  "movieId": 457,
                  "title": "Fugitive, The (1993)",
                  "year": 1993
                },
                "scale_factor": 1,
                "size": [
                  55,
                  55
                ],
                "styles": {},
                "type": "#2456d4"
              },
              {
                "color": "#2456d4",
                "id": 27,
                "label": "Movie_480",
                "position": [
                  0,
                  0
                ],
                "properties": {
                  "Movie": true,
                  "_id": {
                    "offset": 4271,
                    "table": 0
                  },
                  "_label": "Movie",
                  "genres": "Action|Adventure|Sci-Fi|Thriller",
                  "label": "Movie_480",
                  "movieId": 480,
                  "title": "Jurassic Park (1993)",
                  "year": 1993
                },
                "scale_factor": 1,
                "size": [
                  55,
                  55
                ],
                "styles": {},
                "type": "#2456d4"
              },
              {
                "color": "#2456d4",
                "id": 28,
                "label": "Movie_500",
                "position": [
                  0,
                  0
                ],
                "properties": {
                  "Movie": true,
                  "_id": {
                    "offset": 4289,
                    "table": 0
                  },
                  "_label": "Movie",
                  "genres": "Comedy|Drama",
                  "label": "Movie_500",
                  "movieId": 500,
                  "title": "Mrs. Doubtfire (1993)",
                  "year": 1993
                },
                "scale_factor": 1,
                "size": [
                  55,
                  55
                ],
                "styles": {},
                "type": "#2456d4"
              },
              {
                "color": "#2456d4",
                "id": 29,
                "label": "Movie_527",
                "position": [
                  0,
                  0
                ],
                "properties": {
                  "Movie": true,
                  "_id": {
                    "offset": 4314,
                    "table": 0
                  },
                  "_label": "Movie",
                  "genres": "Drama|War",
                  "label": "Movie_527",
                  "movieId": 527,
                  "title": "Schindler's List (1993)",
                  "year": 1993
                },
                "scale_factor": 1,
                "size": [
                  55,
                  55
                ],
                "styles": {},
                "type": "#2456d4"
              },
              {
                "color": "#2456d4",
                "id": 30,
                "label": "Movie_543",
                "position": [
                  0,
                  0
                ],
                "properties": {
                  "Movie": true,
                  "_id": {
                    "offset": 4329,
                    "table": 0
                  },
                  "_label": "Movie",
                  "genres": "Comedy|Romance|Thriller",
                  "label": "Movie_543",
                  "movieId": 543,
                  "title": "So I Married an Axe Murderer (1993)",
                  "year": 1993
                },
                "scale_factor": 1,
                "size": [
                  55,
                  55
                ],
                "styles": {},
                "type": "#2456d4"
              },
              {
                "color": "#2456d4",
                "id": 31,
                "label": "Movie_552",
                "position": [
                  0,
                  0
                ],
                "properties": {
                  "Movie": true,
                  "_id": {
                    "offset": 4337,
                    "table": 0
                  },
                  "_label": "Movie",
                  "genres": "Action|Adventure|Comedy|Romance",
                  "label": "Movie_552",
                  "movieId": 552,
                  "title": "Three Musketeers, The (1993)",
                  "year": 1993
                },
                "scale_factor": 1,
                "size": [
                  55,
                  55
                ],
                "styles": {},
                "type": "#2456d4"
              },
              {
                "color": "#2456d4",
                "id": 32,
                "label": "Movie_553",
                "position": [
                  0,
                  0
                ],
                "properties": {
                  "Movie": true,
                  "_id": {
                    "offset": 4338,
                    "table": 0
                  },
                  "_label": "Movie",
                  "genres": "Action|Drama|Western",
                  "label": "Movie_553",
                  "movieId": 553,
                  "title": "Tombstone (1993)",
                  "year": 1993
                },
                "scale_factor": 1,
                "size": [
                  55,
                  55
                ],
                "styles": {},
                "type": "#2456d4"
              },
              {
                "color": "#2456d4",
                "id": 33,
                "label": "Movie_590",
                "position": [
                  0,
                  0
                ],
                "properties": {
                  "Movie": true,
                  "_id": {
                    "offset": 4361,
                    "table": 0
                  },
                  "_label": "Movie",
                  "genres": "Adventure|Drama|Western",
                  "label": "Movie_590",
                  "movieId": 590,
                  "title": "Dances with Wolves (1990)",
                  "year": 1990
                },
                "scale_factor": 1,
                "size": [
                  55,
                  55
                ],
                "styles": {},
                "type": "#2456d4"
              },
              {
                "color": "#2456d4",
                "id": 34,
                "label": "Movie_592",
                "position": [
                  0,
                  0
                ],
                "properties": {
                  "Movie": true,
                  "_id": {
                    "offset": 4362,
                    "table": 0
                  },
                  "_label": "Movie",
                  "genres": "Action|Crime|Thriller",
                  "label": "Movie_592",
                  "movieId": 592,
                  "title": "Batman (1989)",
                  "year": 1989
                },
                "scale_factor": 1,
                "size": [
                  55,
                  55
                ],
                "styles": {},
                "type": "#2456d4"
              },
              {
                "color": "#2456d4",
                "id": 35,
                "label": "Movie_593",
                "position": [
                  0,
                  0
                ],
                "properties": {
                  "Movie": true,
                  "_id": {
                    "offset": 4363,
                    "table": 0
                  },
                  "_label": "Movie",
                  "genres": "Crime|Horror|Thriller",
                  "label": "Movie_593",
                  "movieId": 593,
                  "title": "Silence of the Lambs, The (1991)",
                  "year": 1991
                },
                "scale_factor": 1,
                "size": [
                  55,
                  55
                ],
                "styles": {},
                "type": "#2456d4"
              },
              {
                "color": "#2456d4",
                "id": 36,
                "label": "Movie_596",
                "position": [
                  0,
                  0
                ],
                "properties": {
                  "Movie": true,
                  "_id": {
                    "offset": 4366,
                    "table": 0
                  },
                  "_label": "Movie",
                  "genres": "Animation|Children|Fantasy|Musical",
                  "label": "Movie_596",
                  "movieId": 596,
                  "title": "Pinocchio (1940)",
                  "year": 1940
                },
                "scale_factor": 1,
                "size": [
                  55,
                  55
                ],
                "styles": {},
                "type": "#2456d4"
              },
              {
                "color": "#2456d4",
                "id": 37,
                "label": "Movie_608",
                "position": [
                  0,
                  0
                ],
                "properties": {
                  "Movie": true,
                  "_id": {
                    "offset": 4373,
                    "table": 0
                  },
                  "_label": "Movie",
                  "genres": "Comedy|Crime|Drama|Thriller",
                  "label": "Movie_608",
                  "movieId": 608,
                  "title": "Fargo (1996)",
                  "year": 1996
                },
                "scale_factor": 1,
                "size": [
                  55,
                  55
                ],
                "styles": {},
                "type": "#2456d4"
              },
              {
                "color": "#2456d4",
                "id": 38,
                "label": "Movie_648",
                "position": [
                  0,
                  0
                ],
                "properties": {
                  "Movie": true,
                  "_id": {
                    "offset": 4399,
                    "table": 0
                  },
                  "_label": "Movie",
                  "genres": "Action|Adventure|Mystery|Thriller",
                  "label": "Movie_648",
                  "movieId": 648,
                  "title": "Mission: Impossible (1996)",
                  "year": 1996
                },
                "scale_factor": 1,
                "size": [
                  55,
                  55
                ],
                "styles": {},
                "type": "#2456d4"
              },
              {
                "color": "#2456d4",
                "id": 39,
                "label": "Movie_661",
                "position": [
                  0,
                  0
                ],
                "properties": {
                  "Movie": true,
                  "_id": {
                    "offset": 4404,
                    "table": 0
                  },
                  "_label": "Movie",
                  "genres": "Adventure|Animation|Children|Fantasy|Musical",
                  "label": "Movie_661",
                  "movieId": 661,
                  "title": "James and the Giant Peach (1996)",
                  "year": 1996
                },
                "scale_factor": 1,
                "size": [
                  55,
                  55
                ],
                "styles": {},
                "type": "#2456d4"
              },
              {
                "color": "#2456d4",
                "id": 40,
                "label": "Movie_673",
                "position": [
                  0,
                  0
                ],
                "properties": {
                  "Movie": true,
                  "_id": {
                    "offset": 4412,
                    "table": 0
                  },
                  "_label": "Movie",
                  "genres": "Adventure|Animation|Children|Comedy|Fantasy|Sci-Fi",
                  "label": "Movie_673",
                  "movieId": 673,
                  "title": "Space Jam (1996)",
                  "year": 1996
                },
                "scale_factor": 1,
                "size": [
                  55,
                  55
                ],
                "styles": {},
                "type": "#2456d4"
              },
              {
                "color": "#2456d4",
                "id": 41,
                "label": "Movie_733",
                "position": [
                  0,
                  0
                ],
                "properties": {
                  "Movie": true,
                  "_id": {
                    "offset": 4445,
                    "table": 0
                  },
                  "_label": "Movie",
                  "genres": "Action|Adventure|Thriller",
                  "label": "Movie_733",
                  "movieId": 733,
                  "title": "Rock, The (1996)",
                  "year": 1996
                },
                "scale_factor": 1,
                "size": [
                  55,
                  55
                ],
                "styles": {},
                "type": "#2456d4"
              },
              {
                "color": "#2456d4",
                "id": 42,
                "label": "Movie_736",
                "position": [
                  0,
                  0
                ],
                "properties": {
                  "Movie": true,
                  "_id": {
                    "offset": 4447,
                    "table": 0
                  },
                  "_label": "Movie",
                  "genres": "Action|Adventure|Romance|Thriller",
                  "label": "Movie_736",
                  "movieId": 736,
                  "title": "Twister (1996)",
                  "year": 1996
                },
                "scale_factor": 1,
                "size": [
                  55,
                  55
                ],
                "styles": {},
                "type": "#2456d4"
              },
              {
                "color": "#2456d4",
                "id": 43,
                "label": "Movie_780",
                "position": [
                  0,
                  0
                ],
                "properties": {
                  "Movie": true,
                  "_id": {
                    "offset": 4468,
                    "table": 0
                  },
                  "_label": "Movie",
                  "genres": "Action|Adventure|Sci-Fi|Thriller",
                  "label": "Movie_780",
                  "movieId": 780,
                  "title": "Independence Day (a.k.a. ID4) (1996)",
                  "year": 1996
                },
                "scale_factor": 1,
                "size": [
                  55,
                  55
                ],
                "styles": {},
                "type": "#2456d4"
              },
              {
                "color": "#2456d4",
                "id": 44,
                "label": "Movie_804",
                "position": [
                  0,
                  0
                ],
                "properties": {
                  "Movie": true,
                  "_id": {
                    "offset": 4485,
                    "table": 0
                  },
                  "_label": "Movie",
                  "genres": "Comedy|Romance",
                  "label": "Movie_804",
                  "movieId": 804,
                  "title": "She's the One (1996)",
                  "year": 1996
                },
                "scale_factor": 1,
                "size": [
                  55,
                  55
                ],
                "styles": {},
                "type": "#2456d4"
              },
              {
                "color": "#2456d4",
                "id": 45,
                "label": "Movie_919",
                "position": [
                  0,
                  0
                ],
                "properties": {
                  "Movie": true,
                  "_id": {
                    "offset": 4554,
                    "table": 0
                  },
                  "_label": "Movie",
                  "genres": "Adventure|Children|Fantasy|Musical",
                  "label": "Movie_919",
                  "movieId": 919,
                  "title": "Wizard of Oz, The (1939)",
                  "year": 1939
                },
                "scale_factor": 1,
                "size": [
                  55,
                  55
                ],
                "styles": {},
                "type": "#2456d4"
              },
              {
                "color": "#2456d4",
                "id": 46,
                "label": "Movie_923",
                "position": [
                  0,
                  0
                ],
                "properties": {
                  "Movie": true,
                  "_id": {
                    "offset": 4558,
                    "table": 0
                  },
                  "_label": "Movie",
                  "genres": "Drama|Mystery",
                  "label": "Movie_923",
                  "movieId": 923,
                  "title": "Citizen Kane (1941)",
                  "year": 1941
                },
                "scale_factor": 1,
                "size": [
                  55,
                  55
                ],
                "styles": {},
                "type": "#2456d4"
              },
              {
                "color": "#2456d4",
                "id": 47,
                "label": "Movie_940",
                "position": [
                  0,
                  0
                ],
                "properties": {
                  "Movie": true,
                  "_id": {
                    "offset": 4573,
                    "table": 0
                  },
                  "_label": "Movie",
                  "genres": "Action|Adventure|Romance",
                  "label": "Movie_940",
                  "movieId": 940,
                  "title": "Adventures of Robin Hood, The (1938)",
                  "year": 1938
                },
                "scale_factor": 1,
                "size": [
                  55,
                  55
                ],
                "styles": {},
                "type": "#2456d4"
              },
              {
                "color": "#2456d4",
                "id": 48,
                "label": "Movie_943",
                "position": [
                  0,
                  0
                ],
                "properties": {
                  "Movie": true,
                  "_id": {
                    "offset": 4576,
                    "table": 0
                  },
                  "_label": "Movie",
                  "genres": "Drama|Fantasy|Romance",
                  "label": "Movie_943",
                  "movieId": 943,
                  "title": "Ghost and Mrs. Muir, The (1947)",
                  "year": 1947
                },
                "scale_factor": 1,
                "size": [
                  55,
                  55
                ],
                "styles": {},
                "type": "#2456d4"
              },
              {
                "color": "#2456d4",
                "id": 49,
                "label": "Movie_954",
                "position": [
                  0,
                  0
                ],
                "properties": {
                  "Movie": true,
                  "_id": {
                    "offset": 4587,
                    "table": 0
                  },
                  "_label": "Movie",
                  "genres": "Drama",
                  "label": "Movie_954",
                  "movieId": 954,
                  "title": "Mr. Smith Goes to Washington (1939)",
                  "year": 1939
                },
                "scale_factor": 1,
                "size": [
                  55,
                  55
                ],
                "styles": {},
                "type": "#2456d4"
              },
              {
                "color": "#2456d4",
                "id": 50,
                "label": "Movie_1009",
                "position": [
                  0,
                  0
                ],
                "properties": {
                  "Movie": true,
                  "_id": {
                    "offset": 4620,
                    "table": 0
                  },
                  "_label": "Movie",
                  "genres": "Adventure|Children|Fantasy",
                  "label": "Movie_1009",
                  "movieId": 1009,
                  "title": "Escape to Witch Mountain (1975)",
                  "year": 1975
                },
                "scale_factor": 1,
                "size": [
                  55,
                  55
                ],
                "styles": {},
                "type": "#2456d4"
              },
              {
                "color": "#2456d4",
                "id": 51,
                "label": "Movie_1023",
                "position": [
                  0,
                  0
                ],
                "properties": {
                  "Movie": true,
                  "_id": {
                    "offset": 4634,
                    "table": 0
                  },
                  "_label": "Movie",
                  "genres": "Animation|Children|Musical",
                  "label": "Movie_1023",
                  "movieId": 1023,
                  "title": "Winnie the Pooh and the Blustery Day (1968)",
                  "year": 1968
                },
                "scale_factor": 1,
                "size": [
                  55,
                  55
                ],
                "styles": {},
                "type": "#2456d4"
              },
              {
                "color": "#2456d4",
                "id": 52,
                "label": "Movie_1024",
                "position": [
                  0,
                  0
                ],
                "properties": {
                  "Movie": true,
                  "_id": {
                    "offset": 4635,
                    "table": 0
                  },
                  "_label": "Movie",
                  "genres": "Animation|Children|Musical",
                  "label": "Movie_1024",
                  "movieId": 1024,
                  "title": "Three Caballeros, The (1945)",
                  "year": 1945
                },
                "scale_factor": 1,
                "size": [
                  55,
                  55
                ],
                "styles": {},
                "type": "#2456d4"
              },
              {
                "color": "#2456d4",
                "id": 53,
                "label": "Movie_1025",
                "position": [
                  0,
                  0
                ],
                "properties": {
                  "Movie": true,
                  "_id": {
                    "offset": 4636,
                    "table": 0
                  },
                  "_label": "Movie",
                  "genres": "Animation|Children|Fantasy|Musical",
                  "label": "Movie_1025",
                  "movieId": 1025,
                  "title": "Sword in the Stone, The (1963)",
                  "year": 1963
                },
                "scale_factor": 1,
                "size": [
                  55,
                  55
                ],
                "styles": {},
                "type": "#2456d4"
              },
              {
                "color": "#2456d4",
                "id": 54,
                "label": "Movie_1029",
                "position": [
                  0,
                  0
                ],
                "properties": {
                  "Movie": true,
                  "_id": {
                    "offset": 4639,
                    "table": 0
                  },
                  "_label": "Movie",
                  "genres": "Animation|Children|Drama|Musical",
                  "label": "Movie_1029",
                  "movieId": 1029,
                  "title": "Dumbo (1941)",
                  "year": 1941
                },
                "scale_factor": 1,
                "size": [
                  55,
                  55
                ],
                "styles": {},
                "type": "#2456d4"
              },
              {
                "color": "#2456d4",
                "id": 55,
                "label": "Movie_1030",
                "position": [
                  0,
                  0
                ],
                "properties": {
                  "Movie": true,
                  "_id": {
                    "offset": 4640,
                    "table": 0
                  },
                  "_label": "Movie",
                  "genres": "Adventure|Animation|Children|Musical",
                  "label": "Movie_1030",
                  "movieId": 1030,
                  "title": "Pete's Dragon (1977)",
                  "year": 1977
                },
                "scale_factor": 1,
                "size": [
                  55,
                  55
                ],
                "styles": {},
                "type": "#2456d4"
              },
              {
                "color": "#2456d4",
                "id": 56,
                "label": "Movie_1031",
                "position": [
                  0,
                  0
                ],
                "properties": {
                  "Movie": true,
                  "_id": {
                    "offset": 4641,
                    "table": 0
                  },
                  "_label": "Movie",
                  "genres": "Adventure|Children|Musical",
                  "label": "Movie_1031",
                  "movieId": 1031,
                  "title": "Bedknobs and Broomsticks (1971)",
                  "year": 1971
                },
                "scale_factor": 1,
                "size": [
                  55,
                  55
                ],
                "styles": {},
                "type": "#2456d4"
              },
              {
                "color": "#2456d4",
                "id": 57,
                "label": "Movie_1032",
                "position": [
                  0,
                  0
                ],
                "properties": {
                  "Movie": true,
                  "_id": {
                    "offset": 4642,
                    "table": 0
                  },
                  "_label": "Movie",
                  "genres": "Adventure|Animation|Children|Fantasy|Musical",
                  "label": "Movie_1032",
                  "movieId": 1032,
                  "title": "Alice in Wonderland (1951)",
                  "year": 1951
                },
                "scale_factor": 1,
                "size": [
                  55,
                  55
                ],
                "styles": {},
                "type": "#2456d4"
              },
              {
                "color": "#2456d4",
                "id": 58,
                "label": "Movie_1042",
                "position": [
                  0,
                  0
                ],
                "properties": {
                  "Movie": true,
                  "_id": {
                    "offset": 4650,
                    "table": 0
                  },
                  "_label": "Movie",
                  "genres": "Comedy|Drama",
                  "label": "Movie_1042",
                  "movieId": 1042,
                  "title": "That Thing You Do! (1996)",
                  "year": 1996
                },
                "scale_factor": 1,
                "size": [
                  55,
                  55
                ],
                "styles": {},
                "type": "#2456d4"
              },
              {
                "color": "#2456d4",
                "id": 59,
                "label": "Movie_1049",
                "position": [
                  0,
                  0
                ],
                "properties": {
                  "Movie": true,
                  "_id": {
                    "offset": 4654,
                    "table": 0
                  },
                  "_label": "Movie",
                  "genres": "Action|Adventure",
                  "label": "Movie_1049",
                  "movieId": 1049,
                  "title": "Ghost and the Darkness, The (1996)",
                  "year": 1996
                },
                "scale_factor": 1,
                "size": [
                  55,
                  55
                ],
                "styles": {},
                "type": "#2456d4"
              },
              {
                "color": "#2456d4",
                "id": 60,
                "label": "Movie_1060",
                "position": [
                  0,
                  0
                ],
                "properties": {
                  "Movie": true,
                  "_id": {
                    "offset": 4663,
                    "table": 0
                  },
                  "_label": "Movie",
                  "genres": "Comedy|Drama",
                  "label": "Movie_1060",
                  "movieId": 1060,
                  "title": "Swingers (1996)",
                  "year": 1996
                },
                "scale_factor": 1,
                "size": [
                  55,
                  55
                ],
                "styles": {},
                "type": "#2456d4"
              },
              {
                "color": "#2456d4",
                "id": 61,
                "label": "Movie_1073",
                "position": [
                  0,
                  0
                ],
                "properties": {
                  "Movie": true,
                  "_id": {
                    "offset": 4668,
                    "table": 0
                  },
                  "_label": "Movie",
                  "genres": "Children|Comedy|Fantasy|Musical",
                  "label": "Movie_1073",
                  "movieId": 1073,
                  "title": "Willy Wonka & the Chocolate Factory (1971)",
                  "year": 1971
                },
                "scale_factor": 1,
                "size": [
                  55,
                  55
                ],
                "styles": {},
                "type": "#2456d4"
              },
              {
                "color": "#2456d4",
                "id": 62,
                "label": "Movie_1080",
                "position": [
                  0,
                  0
                ],
                "properties": {
                  "Movie": true,
                  "_id": {
                    "offset": 4673,
                    "table": 0
                  },
                  "_label": "Movie",
                  "genres": "Comedy",
                  "label": "Movie_1080",
                  "movieId": 1080,
                  "title": "Monty Python's Life of Brian (1979)",
                  "year": 1979
                },
                "scale_factor": 1,
                "size": [
                  55,
                  55
                ],
                "styles": {},
                "type": "#2456d4"
              },
              {
                "color": "#2456d4",
                "id": 63,
                "label": "Movie_1089",
                "position": [
                  0,
                  0
                ],
                "properties": {
                  "Movie": true,
                  "_id": {
                    "offset": 4681,
                    "table": 0
                  },
                  "_label": "Movie",
                  "genres": "Crime|Mystery|Thriller",
                  "label": "Movie_1089",
                  "movieId": 1089,
                  "title": "Reservoir Dogs (1992)",
                  "year": 1992
                },
                "scale_factor": 1,
                "size": [
                  55,
                  55
                ],
                "styles": {},
                "type": "#2456d4"
              },
              {
                "color": "#2456d4",
                "id": 64,
                "label": "Movie_1090",
                "position": [
                  0,
                  0
                ],
                "properties": {
                  "Movie": true,
                  "_id": {
                    "offset": 4682,
                    "table": 0
                  },
                  "_label": "Movie",
                  "genres": "Drama|War",
                  "label": "Movie_1090",
                  "movieId": 1090,
                  "title": "Platoon (1986)",
                  "year": 1986
                },
                "scale_factor": 1,
                "size": [
                  55,
                  55
                ],
                "styles": {},
                "type": "#2456d4"
              },
              {
                "color": "#2456d4",
                "id": 65,
                "label": "Movie_1092",
                "position": [
                  0,
                  0
                ],
                "properties": {
                  "Movie": true,
                  "_id": {
                    "offset": 4684,
                    "table": 0
                  },
                  "_label": "Movie",
                  "genres": "Crime|Mystery|Thriller",
                  "label": "Movie_1092",
                  "movieId": 1092,
                  "title": "Basic Instinct (1992)",
                  "year": 1992
                },
                "scale_factor": 1,
                "size": [
                  55,
                  55
                ],
                "styles": {},
                "type": "#2456d4"
              },
              {
                "color": "#2456d4",
                "id": 66,
                "label": "Movie_1097",
                "position": [
                  0,
                  0
                ],
                "properties": {
                  "Movie": true,
                  "_id": {
                    "offset": 4689,
                    "table": 0
                  },
                  "_label": "Movie",
                  "genres": "Children|Drama|Sci-Fi",
                  "label": "Movie_1097",
                  "movieId": 1097,
                  "title": "E.T. the Extra-Terrestrial (1982)",
                  "year": 1982
                },
                "scale_factor": 1,
                "size": [
                  55,
                  55
                ],
                "styles": {},
                "type": "#2456d4"
              },
              {
                "color": "#2456d4",
                "id": 67,
                "label": "Movie_1127",
                "position": [
                  0,
                  0
                ],
                "properties": {
                  "Movie": true,
                  "_id": {
                    "offset": 4709,
                    "table": 0
                  },
                  "_label": "Movie",
                  "genres": "Action|Adventure|Sci-Fi|Thriller",
                  "label": "Movie_1127",
                  "movieId": 1127,
                  "title": "Abyss, The (1989)",
                  "year": 1989
                },
                "scale_factor": 1,
                "size": [
                  55,
                  55
                ],
                "styles": {},
                "type": "#2456d4"
              },
              {
                "color": "#2456d4",
                "id": 68,
                "label": "Movie_1136",
                "position": [
                  0,
                  0
                ],
                "properties": {
                  "Movie": true,
                  "_id": {
                    "offset": 4716,
                    "table": 0
                  },
                  "_label": "Movie",
                  "genres": "Adventure|Comedy|Fantasy",
                  "label": "Movie_1136",
                  "movieId": 1136,
                  "title": "Monty Python and the Holy Grail (1975)",
                  "year": 1975
                },
                "scale_factor": 1,
                "size": [
                  55,
                  55
                ],
                "styles": {},
                "type": "#2456d4"
              },
              {
                "color": "#2456d4",
                "id": 69,
                "label": "Movie_1196",
                "position": [
                  0,
                  0
                ],
                "properties": {
                  "Movie": true,
                  "_id": {
                    "offset": 4751,
                    "table": 0
                  },
                  "_label": "Movie",
                  "genres": "Action|Adventure|Sci-Fi",
                  "label": "Movie_1196",
                  "movieId": 1196,
                  "title": "Star Wars: Episode V - The Empire Strikes Back (1980)",
                  "year": 1980
                },
                "scale_factor": 1,
                "size": [
                  55,
                  55
                ],
                "styles": {},
                "type": "#2456d4"
              },
              {
                "color": "#2456d4",
                "id": 70,
                "label": "Movie_1197",
                "position": [
                  0,
                  0
                ],
                "properties": {
                  "Movie": true,
                  "_id": {
                    "offset": 4752,
                    "table": 0
                  },
                  "_label": "Movie",
                  "genres": "Action|Adventure|Comedy|Fantasy|Romance",
                  "label": "Movie_1197",
                  "movieId": 1197,
                  "title": "Princess Bride, The (1987)",
                  "year": 1987
                },
                "scale_factor": 1,
                "size": [
                  55,
                  55
                ],
                "styles": {},
                "type": "#2456d4"
              },
              {
                "color": "#2456d4",
                "id": 71,
                "label": "Movie_1198",
                "position": [
                  0,
                  0
                ],
                "properties": {
                  "Movie": true,
                  "_id": {
                    "offset": 4753,
                    "table": 0
                  },
                  "_label": "Movie",
                  "genres": "Action|Adventure",
                  "label": "Movie_1198",
                  "movieId": 1198,
                  "title": "Raiders of the Lost Ark (Indiana Jones and the Raiders of the Lost Ark) (1981)",
                  "year": 1981
                },
                "scale_factor": 1,
                "size": [
                  55,
                  55
                ],
                "styles": {},
                "type": "#2456d4"
              },
              {
                "color": "#2456d4",
                "id": 72,
                "label": "Movie_1206",
                "position": [
                  0,
                  0
                ],
                "properties": {
                  "Movie": true,
                  "_id": {
                    "offset": 4760,
                    "table": 0
                  },
                  "_label": "Movie",
                  "genres": "Crime|Drama|Sci-Fi|Thriller",
                  "label": "Movie_1206",
                  "movieId": 1206,
                  "title": "Clockwork Orange, A (1971)",
                  "year": 1971
                },
                "scale_factor": 1,
                "size": [
                  55,
                  55
                ],
                "styles": {},
                "type": "#2456d4"
              },
              {
                "color": "#2456d4",
                "id": 73,
                "label": "Movie_1208",
                "position": [
                  0,
                  0
                ],
                "properties": {
                  "Movie": true,
                  "_id": {
                    "offset": 4762,
                    "table": 0
                  },
                  "_label": "Movie",
                  "genres": "Action|Drama|War",
                  "label": "Movie_1208",
                  "movieId": 1208,
                  "title": "Apocalypse Now (1979)",
                  "year": 1979
                },
                "scale_factor": 1,
                "size": [
                  55,
                  55
                ],
                "styles": {},
                "type": "#2456d4"
              },
              {
                "color": "#2456d4",
                "id": 74,
                "label": "Movie_1210",
                "position": [
                  0,
                  0
                ],
                "properties": {
                  "Movie": true,
                  "_id": {
                    "offset": 4764,
                    "table": 0
                  },
                  "_label": "Movie",
                  "genres": "Action|Adventure|Sci-Fi",
                  "label": "Movie_1210",
                  "movieId": 1210,
                  "title": "Star Wars: Episode VI - Return of the Jedi (1983)",
                  "year": 1983
                },
                "scale_factor": 1,
                "size": [
                  55,
                  55
                ],
                "styles": {},
                "type": "#2456d4"
              },
              {
                "color": "#2456d4",
                "id": 75,
                "label": "Movie_1213",
                "position": [
                  0,
                  0
                ],
                "properties": {
                  "Movie": true,
                  "_id": {
                    "offset": 4767,
                    "table": 0
                  },
                  "_label": "Movie",
                  "genres": "Crime|Drama",
                  "label": "Movie_1213",
                  "movieId": 1213,
                  "title": "Goodfellas (1990)",
                  "year": 1990
                },
                "scale_factor": 1,
                "size": [
                  55,
                  55
                ],
                "styles": {},
                "type": "#2456d4"
              },
              {
                "color": "#2456d4",
                "id": 76,
                "label": "Movie_1214",
                "position": [
                  0,
                  0
                ],
                "properties": {
                  "Movie": true,
                  "_id": {
                    "offset": 4768,
                    "table": 0
                  },
                  "_label": "Movie",
                  "genres": "Horror|Sci-Fi",
                  "label": "Movie_1214",
                  "movieId": 1214,
                  "title": "Alien (1979)",
                  "year": 1979
                },
                "scale_factor": 1,
                "size": [
                  55,
                  55
                ],
                "styles": {},
                "type": "#2456d4"
              },
              {
                "color": "#2456d4",
                "id": 77,
                "label": "Movie_1219",
                "position": [
                  0,
                  0
                ],
                "properties": {
                  "Movie": true,
                  "_id": {
                    "offset": 4773,
                    "table": 0
                  },
                  "_label": "Movie",
                  "genres": "Crime|Horror",
                  "label": "Movie_1219",
                  "movieId": 1219,
                  "title": "Psycho (1960)",
                  "year": 1960
                },
                "scale_factor": 1,
                "size": [
                  55,
                  55
                ],
                "styles": {},
                "type": "#2456d4"
              },
              {
                "color": "#2456d4",
                "id": 78,
                "label": "Movie_1220",
                "position": [
                  0,
                  0
                ],
                "properties": {
                  "Movie": true,
                  "_id": {
                    "offset": 4774,
                    "table": 0
                  },
                  "_label": "Movie",
                  "genres": "Action|Comedy|Musical",
                  "label": "Movie_1220",
                  "movieId": 1220,
                  "title": "Blues Brothers, The (1980)",
                  "year": 1980
                },
                "scale_factor": 1,
                "size": [
                  55,
                  55
                ],
                "styles": {},
                "type": "#2456d4"
              },
              {
                "color": "#2456d4",
                "id": 79,
                "label": "Movie_1222",
                "position": [
                  0,
                  0
                ],
                "properties": {
                  "Movie": true,
                  "_id": {
                    "offset": 4776,
                    "table": 0
                  },
                  "_label": "Movie",
                  "genres": "Drama|War",
                  "label": "Movie_1222",
                  "movieId": 1222,
                  "title": "Full Metal Jacket (1987)",
                  "year": 1987
                },
                "scale_factor": 1,
                "size": [
                  55,
                  55
                ],
                "styles": {},
                "type": "#2456d4"
              },
              {
                "color": "#2456d4",
                "id": 80,
                "label": "Movie_1224",
                "position": [
                  0,
                  0
                ],
                "properties": {
                  "Movie": true,
                  "_id": {
                    "offset": 4778,
                    "table": 0
                  },
                  "_label": "Movie",
                  "genres": "Action|Drama|Romance|War",
                  "label": "Movie_1224",
                  "movieId": 1224,
                  "title": "Henry V (1989)",
                  "year": 1989
                },
                "scale_factor": 1,
                "size": [
                  55,
                  55
                ],
                "styles": {},
                "type": "#2456d4"
              },
              {
                "color": "#2456d4",
                "id": 81,
                "label": "Movie_1226",
                "position": [
                  0,
                  0
                ],
                "properties": {
                  "Movie": true,
                  "_id": {
                    "offset": 4780,
                    "table": 0
                  },
                  "_label": "Movie",
                  "genres": "Drama|Romance",
                  "label": "Movie_1226",
                  "movieId": 1226,
                  "title": "Quiet Man, The (1952)",
                  "year": 1952
                },
                "scale_factor": 1,
                "size": [
                  55,
                  55
                ],
                "styles": {},
                "type": "#2456d4"
              },
              {
                "color": "#2456d4",
                "id": 82,
                "label": "Movie_1240",
                "position": [
                  0,
                  0
                ],
                "properties": {
                  "Movie": true,
                  "_id": {
                    "offset": 4792,
                    "table": 0
                  },
                  "_label": "Movie",
                  "genres": "Action|Sci-Fi|Thriller",
                  "label": "Movie_1240",
                  "movieId": 1240,
                  "title": "Terminator, The (1984)",
                  "year": 1984
                },
                "scale_factor": 1,
                "size": [
                  55,
                  55
                ],
                "styles": {},
                "type": "#2456d4"
              },
              {
                "color": "#2456d4",
                "id": 83,
                "label": "Movie_1256",
                "position": [
                  0,
                  0
                ],
                "properties": {
                  "Movie": true,
                  "_id": {
                    "offset": 4808,
                    "table": 0
                  },
                  "_label": "Movie",
                  "genres": "Comedy|Musical|War",
                  "label": "Movie_1256",
                  "movieId": 1256,
                  "title": "Duck Soup (1933)",
                  "year": 1933
                },
                "scale_factor": 1,
                "size": [
                  55,
                  55
                ],
                "styles": {},
                "type": "#2456d4"
              },
              {
                "color": "#2456d4",
                "id": 84,
                "label": "Movie_1258",
                "position": [
                  0,
                  0
                ],
                "properties": {
                  "Movie": true,
                  "_id": {
                    "offset": 4810,
                    "table": 0
                  },
                  "_label": "Movie",
                  "genres": "Horror",
                  "label": "Movie_1258",
                  "movieId": 1258,
                  "title": "Shining, The (1980)",
                  "year": 1980
                },
                "scale_factor": 1,
                "size": [
                  55,
                  55
                ],
                "styles": {},
                "type": "#2456d4"
              },
              {
                "color": "#2456d4",
                "id": 85,
                "label": "Movie_1265",
                "position": [
                  0,
                  0
                ],
                "properties": {
                  "Movie": true,
                  "_id": {
                    "offset": 4817,
                    "table": 0
                  },
                  "_label": "Movie",
                  "genres": "Comedy|Fantasy|Romance",
                  "label": "Movie_1265",
                  "movieId": 1265,
                  "title": "Groundhog Day (1993)",
                  "year": 1993
                },
                "scale_factor": 1,
                "size": [
                  55,
                  55
                ],
                "styles": {},
                "type": "#2456d4"
              },
              {
                "color": "#2456d4",
                "id": 86,
                "label": "Movie_1270",
                "position": [
                  0,
                  0
                ],
                "properties": {
                  "Movie": true,
                  "_id": {
                    "offset": 4822,
                    "table": 0
                  },
                  "_label": "Movie",
                  "genres": "Adventure|Comedy|Sci-Fi",
                  "label": "Movie_1270",
                  "movieId": 1270,
                  "title": "Back to the Future (1985)",
                  "year": 1985
                },
                "scale_factor": 1,
                "size": [
                  55,
                  55
                ],
                "styles": {},
                "type": "#2456d4"
              },
              {
                "color": "#2456d4",
                "id": 87,
                "label": "Movie_1275",
                "position": [
                  0,
                  0
                ],
                "properties": {
                  "Movie": true,
                  "_id": {
                    "offset": 4827,
                    "table": 0
                  },
                  "_label": "Movie",
                  "genres": "Action|Adventure|Fantasy",
                  "label": "Movie_1275",
                  "movieId": 1275,
                  "title": "Highlander (1986)",
                  "year": 1986
                },
                "scale_factor": 1,
                "size": [
                  55,
                  55
                ],
                "styles": {},
                "type": "#2456d4"
              },
              {
                "color": "#2456d4",
                "id": 88,
                "label": "Movie_1278",
                "position": [
                  0,
                  0
                ],
                "properties": {
                  "Movie": true,
                  "_id": {
                    "offset": 4830,
                    "table": 0
                  },
                  "_label": "Movie",
                  "genres": "Comedy|Fantasy",
                  "label": "Movie_1278",
                  "movieId": 1278,
                  "title": "Young Frankenstein (1974)",
                  "year": 1974
                },
                "scale_factor": 1,
                "size": [
                  55,
                  55
                ],
                "styles": {},
                "type": "#2456d4"
              },
              {
                "color": "#2456d4",
                "id": 89,
                "label": "Movie_1282",
                "position": [
                  0,
                  0
                ],
                "properties": {
                  "Movie": true,
                  "_id": {
                    "offset": 4834,
                    "table": 0
                  },
                  "_label": "Movie",
                  "genres": "Animation|Children|Fantasy|Musical",
                  "label": "Movie_1282",
                  "movieId": 1282,
                  "title": "Fantasia (1940)",
                  "year": 1940
                },
                "scale_factor": 1,
                "size": [
                  55,
                  55
                ],
                "styles": {},
                "type": "#2456d4"
              },
              {
                "color": "#2456d4",
                "id": 90,
                "label": "Movie_1291",
                "position": [
                  0,
                  0
                ],
                "properties": {
                  "Movie": true,
                  "_id": {
                    "offset": 4843,
                    "table": 0
                  },
                  "_label": "Movie",
                  "genres": "Action|Adventure",
                  "label": "Movie_1291",
                  "movieId": 1291,
                  "title": "Indiana Jones and the Last Crusade (1989)",
                  "year": 1989
                },
                "scale_factor": 1,
                "size": [
                  55,
                  55
                ],
                "styles": {},
                "type": "#2456d4"
              },
              {
                "color": "#2456d4",
                "id": 91,
                "label": "Movie_1298",
                "position": [
                  0,
                  0
                ],
                "properties": {
                  "Movie": true,
                  "_id": {
                    "offset": 4849,
                    "table": 0
                  },
                  "_label": "Movie",
                  "genres": "Drama|Musical",
                  "label": "Movie_1298",
                  "movieId": 1298,
                  "title": "Pink Floyd: The Wall (1982)",
                  "year": 1982
                },
                "scale_factor": 1,
                "size": [
                  55,
                  55
                ],
                "styles": {},
                "type": "#2456d4"
              },
              {
                "color": "#2456d4",
                "id": 92,
                "label": "Movie_1348",
                "position": [
                  0,
                  0
                ],
                "properties": {
                  "Movie": true,
                  "_id": {
                    "offset": 4889,
                    "table": 0
                  },
                  "_label": "Movie",
                  "genres": "Horror",
                  "label": "Movie_1348",
                  "movieId": 1348,
                  "title": "Nosferatu (Nosferatu, eine Symphonie des Grauens) (1922)",
                  "year": 1922
                },
                "scale_factor": 1,
                "size": [
                  55,
                  55
                ],
                "styles": {},
                "type": "#2456d4"
              },
              {
                "color": "#2456d4",
                "id": 93,
                "label": "Movie_1377",
                "position": [
                  0,
                  0
                ],
                "properties": {
                  "Movie": true,
                  "_id": {
                    "offset": 4913,
                    "table": 0
                  },
                  "_label": "Movie",
                  "genres": "Action|Crime",
                  "label": "Movie_1377",
                  "movieId": 1377,
                  "title": "Batman Returns (1992)",
                  "year": 1992
                },
                "scale_factor": 1,
                "size": [
                  55,
                  55
                ],
                "styles": {},
                "type": "#2456d4"
              },
              {
                "color": "#2456d4",
                "id": 94,
                "label": "Movie_1396",
                "position": [
                  0,
                  0
                ],
                "properties": {
                  "Movie": true,
                  "_id": {
                    "offset": 4929,
                    "table": 0
                  },
                  "_label": "Movie",
                  "genres": "Action|Comedy|Crime|Drama|Sci-Fi",
                  "label": "Movie_1396",
                  "movieId": 1396,
                  "title": "Sneakers (1992)",
                  "year": 1992
                },
                "scale_factor": 1,
                "size": [
                  55,
                  55
                ],
                "styles": {},
                "type": "#2456d4"
              },
              {
                "color": "#2456d4",
                "id": 95,
                "label": "Movie_1408",
                "position": [
                  0,
                  0
                ],
                "properties": {
                  "Movie": true,
                  "_id": {
                    "offset": 4937,
                    "table": 0
                  },
                  "_label": "Movie",
                  "genres": "Action|Romance|War|Western",
                  "label": "Movie_1408",
                  "movieId": 1408,
                  "title": "Last of the Mohicans, The (1992)",
                  "year": 1992
                },
                "scale_factor": 1,
                "size": [
                  55,
                  55
                ],
                "styles": {},
                "type": "#2456d4"
              },
              {
                "color": "#2456d4",
                "id": 96,
                "label": "Movie_1445",
                "position": [
                  0,
                  0
                ],
                "properties": {
                  "Movie": true,
                  "_id": {
                    "offset": 4963,
                    "table": 0
                  },
                  "_label": "Movie",
                  "genres": "Comedy|War",
                  "label": "Movie_1445",
                  "movieId": 1445,
                  "title": "McHale's Navy (1997)",
                  "year": 1997
                },
                "scale_factor": 1,
                "size": [
                  55,
                  55
                ],
                "styles": {},
                "type": "#2456d4"
              },
              {
                "color": "#2456d4",
                "id": 97,
                "label": "Movie_1473",
                "position": [
                  0,
                  0
                ],
                "properties": {
                  "Movie": true,
                  "_id": {
                    "offset": 4979,
                    "table": 0
                  },
                  "_label": "Movie",
                  "genres": "Action|Comedy|Crime|Drama",
                  "label": "Movie_1473",
                  "movieId": 1473,
                  "title": "Best Men (1997)",
                  "year": 1997
                },
                "scale_factor": 1,
                "size": [
                  55,
                  55
                ],
                "styles": {},
                "type": "#2456d4"
              },
              {
                "color": "#2456d4",
                "id": 98,
                "label": "Movie_1500",
                "position": [
                  0,
                  0
                ],
                "properties": {
                  "Movie": true,
                  "_id": {
                    "offset": 4999,
                    "table": 0
                  },
                  "_label": "Movie",
                  "genres": "Comedy|Crime|Romance",
                  "label": "Movie_1500",
                  "movieId": 1500,
                  "title": "Grosse Pointe Blank (1997)",
                  "year": 1997
                },
                "scale_factor": 1,
                "size": [
                  55,
                  55
                ],
                "styles": {},
                "type": "#2456d4"
              },
              {
                "color": "#2456d4",
                "id": 99,
                "label": "Movie_1517",
                "position": [
                  0,
                  0
                ],
                "properties": {
                  "Movie": true,
                  "_id": {
                    "offset": 5007,
                    "table": 0
                  },
                  "_label": "Movie",
                  "genres": "Action|Adventure|Comedy",
                  "label": "Movie_1517",
                  "movieId": 1517,
                  "title": "Austin Powers: International Man of Mystery (1997)",
                  "year": 1997
                },
                "scale_factor": 1,
                "size": [
                  55,
                  55
                ],
                "styles": {},
                "type": "#2456d4"
              },
              {
                "color": "#2456d4",
                "id": 100,
                "label": "Movie_1552",
                "position": [
                  0,
                  0
                ],
                "properties": {
                  "Movie": true,
                  "_id": {
                    "offset": 5024,
                    "table": 0
                  },
                  "_label": "Movie",
                  "genres": "Action|Adventure|Thriller",
                  "label": "Movie_1552",
                  "movieId": 1552,
                  "title": "Con Air (1997)",
                  "year": 1997
                },
                "scale_factor": 1,
                "size": [
                  55,
                  55
                ],
                "styles": {},
                "type": "#2456d4"
              },
              {
                "color": "#2456d4",
                "id": 101,
                "label": "Movie_1573",
                "position": [
                  0,
                  0
                ],
                "properties": {
                  "Movie": true,
                  "_id": {
                    "offset": 5034,
                    "table": 0
                  },
                  "_label": "Movie",
                  "genres": "Action|Crime|Drama|Thriller",
                  "label": "Movie_1573",
                  "movieId": 1573,
                  "title": "Face/Off (1997)",
                  "year": 1997
                },
                "scale_factor": 1,
                "size": [
                  55,
                  55
                ],
                "styles": {},
                "type": "#2456d4"
              },
              {
                "color": "#2456d4",
                "id": 102,
                "label": "Movie_1580",
                "position": [
                  0,
                  0
                ],
                "properties": {
                  "Movie": true,
                  "_id": {
                    "offset": 5036,
                    "table": 0
                  },
                  "_label": "Movie",
                  "genres": "Action|Comedy|Sci-Fi",
                  "label": "Movie_1580",
                  "movieId": 1580,
                  "title": "Men in Black (a.k.a. MIB) (1997)",
                  "year": 1997
                },
                "scale_factor": 1,
                "size": [
                  55,
                  55
                ],
                "styles": {},
                "type": "#2456d4"
              },
              {
                "color": "#2456d4",
                "id": 103,
                "label": "Movie_1587",
                "position": [
                  0,
                  0
                ],
                "properties": {
                  "Movie": true,
                  "_id": {
                    "offset": 5043,
                    "table": 0
                  },
                  "_label": "Movie",
                  "genres": "Action|Adventure|Fantasy",
                  "label": "Movie_1587",
                  "movieId": 1587,
                  "title": "Conan the Barbarian (1982)",
                  "year": 1982
                },
                "scale_factor": 1,
                "size": [
                  55,
                  55
                ],
                "styles": {},
                "type": "#2456d4"
              },
              {
                "color": "#2456d4",
                "id": 104,
                "label": "Movie_1617",
                "position": [
                  0,
                  0
                ],
                "properties": {
                  "Movie": true,
                  "_id": {
                    "offset": 5071,
                    "table": 0
                  },
                  "_label": "Movie",
                  "genres": "Crime|Film-Noir|Mystery|Thriller",
                  "label": "Movie_1617",
                  "movieId": 1617,
                  "title": "L.A. Confidential (1997)",
                  "year": 1997
                },
                "scale_factor": 1,
                "size": [
                  55,
                  55
                ],
                "styles": {},
                "type": "#2456d4"
              },
              {
                "color": "#2456d4",
                "id": 105,
                "label": "Movie_1620",
                "position": [
                  0,
                  0
                ],
                "properties": {
                  "Movie": true,
                  "_id": {
                    "offset": 5073,
                    "table": 0
                  },
                  "_label": "Movie",
                  "genres": "Crime|Drama|Mystery|Thriller",
                  "label": "Movie_1620",
                  "movieId": 1620,
                  "title": "Kiss the Girls (1997)",
                  "year": 1997
                },
                "scale_factor": 1,
                "size": [
                  55,
                  55
                ],
                "styles": {},
                "type": "#2456d4"
              },
              {
                "color": "#2456d4",
                "id": 106,
                "label": "Movie_1625",
                "position": [
                  0,
                  0
                ],
                "properties": {
                  "Movie": true,
                  "_id": {
                    "offset": 5077,
                    "table": 0
                  },
                  "_label": "Movie",
                  "genres": "Drama|Mystery|Thriller",
                  "label": "Movie_1625",
                  "movieId": 1625,
                  "title": "Game, The (1997)",
                  "year": 1997
                },
                "scale_factor": 1,
                "size": [
                  55,
                  55
                ],
                "styles": {},
                "type": "#2456d4"
              },
              {
                "color": "#2456d4",
                "id": 107,
                "label": "Movie_1644",
                "position": [
                  0,
                  0
                ],
                "properties": {
                  "Movie": true,
                  "_id": {
                    "offset": 5088,
                    "table": 0
                  },
                  "_label": "Movie",
                  "genres": "Horror|Mystery|Thriller",
                  "label": "Movie_1644",
                  "movieId": 1644,
                  "title": "I Know What You Did Last Summer (1997)",
                  "year": 1997
                },
                "scale_factor": 1,
                "size": [
                  55,
                  55
                ],
                "styles": {},
                "type": "#2456d4"
              },
              {
                "color": "#2456d4",
                "id": 108,
                "label": "Movie_1676",
                "position": [
                  0,
                  0
                ],
                "properties": {
                  "Movie": true,
                  "_id": {
                    "offset": 5114,
                    "table": 0
                  },
                  "_label": "Movie",
                  "genres": "Action|Sci-Fi",
                  "label": "Movie_1676",
                  "movieId": 1676,
                  "title": "Starship Troopers (1997)",
                  "year": 1997
                },
                "scale_factor": 1,
                "size": [
                  55,
                  55
                ],
                "styles": {},
                "type": "#2456d4"
              },
              {
                "color": "#2456d4",
                "id": 109,
                "label": "Movie_1732",
                "position": [
                  0,
                  0
                ],
                "properties": {
                  "Movie": true,
                  "_id": {
                    "offset": 5151,
                    "table": 0
                  },
                  "_label": "Movie",
                  "genres": "Comedy|Crime",
                  "label": "Movie_1732",
                  "movieId": 1732,
                  "title": "Big Lebowski, The (1998)",
                  "year": 1998
                },
                "scale_factor": 1,
                "size": [
                  55,
                  55
                ],
                "styles": {},
                "type": "#2456d4"
              },
              {
                "color": "#2456d4",
                "id": 110,
                "label": "Movie_1777",
                "position": [
                  0,
                  0
                ],
                "properties": {
                  "Movie": true,
                  "_id": {
                    "offset": 5172,
                    "table": 0
                  },
                  "_label": "Movie",
                  "genres": "Comedy|Romance",
                  "label": "Movie_1777",
                  "movieId": 1777,
                  "title": "Wedding Singer, The (1998)",
                  "year": 1998
                },
                "scale_factor": 1,
                "size": [
                  55,
                  55
                ],
                "styles": {},
                "type": "#2456d4"
              },
              {
                "color": "#2456d4",
                "id": 111,
                "label": "Movie_1793",
                "position": [
                  0,
                  0
                ],
                "properties": {
                  "Movie": true,
                  "_id": {
                    "offset": 5179,
                    "table": 0
                  },
                  "_label": "Movie",
                  "genres": "Comedy",
                  "label": "Movie_1793",
                  "movieId": 1793,
                  "title": "Welcome to Woop-Woop (1997)",
                  "year": 1997
                },
                "scale_factor": 1,
                "size": [
                  55,
                  55
                ],
                "styles": {},
                "type": "#2456d4"
              },
              {
                "color": "#2456d4",
                "id": 112,
                "label": "Movie_1804",
                "position": [
                  0,
                  0
                ],
                "properties": {
                  "Movie": true,
                  "_id": {
                    "offset": 5185,
                    "table": 0
                  },
                  "_label": "Movie",
                  "genres": "Crime|Drama",
                  "label": "Movie_1804",
                  "movieId": 1804,
                  "title": "Newton Boys, The (1998)",
                  "year": 1998
                },
                "scale_factor": 1,
                "size": [
                  55,
                  55
                ],
                "styles": {},
                "type": "#2456d4"
              },
              {
                "color": "#2456d4",
                "id": 113,
                "label": "Movie_1805",
                "position": [
                  0,
                  0
                ],
                "properties": {
                  "Movie": true,
                  "_id": {
                    "offset": 5186,
                    "table": 0
                  },
                  "_label": "Movie",
                  "genres": "Crime|Drama|Mystery|Thriller",
                  "label": "Movie_1805",
                  "movieId": 1805,
                  "title": "Wild Things (1998)",
                  "year": 1998
                },
                "scale_factor": 1,
                "size": [
                  55,
                  55
                ],
                "styles": {},
                "type": "#2456d4"
              },
              {
                "color": "#2456d4",
                "id": 114,
                "label": "Movie_1920",
                "position": [
                  0,
                  0
                ],
                "properties": {
                  "Movie": true,
                  "_id": {
                    "offset": 5254,
                    "table": 0
                  },
                  "_label": "Movie",
                  "genres": "Animation|Children|Fantasy|War",
                  "label": "Movie_1920",
                  "movieId": 1920,
                  "title": "Small Soldiers (1998)",
                  "year": 1998
                },
                "scale_factor": 1,
                "size": [
                  55,
                  55
                ],
                "styles": {},
                "type": "#2456d4"
              },
              {
                "color": "#2456d4",
                "id": 115,
                "label": "Movie_1927",
                "position": [
                  0,
                  0
                ],
                "properties": {
                  "Movie": true,
                  "_id": {
                    "offset": 5260,
                    "table": 0
                  },
                  "_label": "Movie",
                  "genres": "Action|Drama|War",
                  "label": "Movie_1927",
                  "movieId": 1927,
                  "title": "All Quiet on the Western Front (1930)",
                  "year": 1930
                },
                "scale_factor": 1,
                "size": [
                  55,
                  55
                ],
                "styles": {},
                "type": "#2456d4"
              },
              {
                "color": "#2456d4",
                "id": 116,
                "label": "Movie_1954",
                "position": [
                  0,
                  0
                ],
                "properties": {
                  "Movie": true,
                  "_id": {
                    "offset": 5284,
                    "table": 0
                  },
                  "_label": "Movie",
                  "genres": "Drama",
                  "label": "Movie_1954",
                  "movieId": 1954,
                  "title": "Rocky (1976)",
                  "year": 1976
                },
                "scale_factor": 1,
                "size": [
                  55,
                  55
                ],
                "styles": {},
                "type": "#2456d4"
              },
              {
                "color": "#2456d4",
                "id": 117,
                "label": "Movie_1967",
                "position": [
                  0,
                  0
                ],
                "properties": {
                  "Movie": true,
                  "_id": {
                    "offset": 5297,
                    "table": 0
                  },
                  "_label": "Movie",
                  "genres": "Adventure|Fantasy|Musical",
                  "label": "Movie_1967",
                  "movieId": 1967,
                  "title": "Labyrinth (1986)",
                  "year": 1986
                },
                "scale_factor": 1,
                "size": [
                  55,
                  55
                ],
                "styles": {},
                "type": "#2456d4"
              },
              {
                "color": "#2456d4",
                "id": 118,
                "label": "Movie_2000",
                "position": [
                  0,
                  0
                ],
                "properties": {
                  "Movie": true,
                  "_id": {
                    "offset": 5328,
                    "table": 0
                  },
                  "_label": "Movie",
                  "genres": "Action|Comedy|Crime|Drama",
                  "label": "Movie_2000",
                  "movieId": 2000,
                  "title": "Lethal Weapon (1987)",
                  "year": 1987
                },
                "scale_factor": 1,
                "size": [
                  55,
                  55
                ],
                "styles": {},
                "type": "#2456d4"
              },
              {
                "color": "#2456d4",
                "id": 119,
                "label": "Movie_2005",
                "position": [
                  0,
                  0
                ],
                "properties": {
                  "Movie": true,
                  "_id": {
                    "offset": 5333,
                    "table": 0
                  },
                  "_label": "Movie",
                  "genres": "Action|Adventure|Children|Comedy|Fantasy",
                  "label": "Movie_2005",
                  "movieId": 2005,
                  "title": "Goonies, The (1985)",
                  "year": 1985
                },
                "scale_factor": 1,
                "size": [
                  55,
                  55
                ],
                "styles": {},
                "type": "#2456d4"
              },
              {
                "color": "#2456d4",
                "id": 120,
                "label": "Movie_2012",
                "position": [
                  0,
                  0
                ],
                "properties": {
                  "Movie": true,
                  "_id": {
                    "offset": 5340,
                    "table": 0
                  },
                  "_label": "Movie",
                  "genres": "Adventure|Comedy|Sci-Fi|Western",
                  "label": "Movie_2012",
                  "movieId": 2012,
                  "title": "Back to the Future Part III (1990)",
                  "year": 1990
                },
                "scale_factor": 1,
                "size": [
                  55,
                  55
                ],
                "styles": {},
                "type": "#2456d4"
              },
              {
                "color": "#2456d4",
                "id": 121,
                "label": "Movie_2018",
                "position": [
                  0,
                  0
                ],
                "properties": {
                  "Movie": true,
                  "_id": {
                    "offset": 5346,
                    "table": 0
                  },
                  "_label": "Movie",
                  "genres": "Animation|Children|Drama",
                  "label": "Movie_2018",
                  "movieId": 2018,
                  "title": "Bambi (1942)",
                  "year": 1942
                },
                "scale_factor": 1,
                "size": [
                  55,
                  55
                ],
                "styles": {},
                "type": "#2456d4"
              },
              {
                "color": "#2456d4",
                "id": 122,
                "label": "Movie_2028",
                "position": [
                  0,
                  0
                ],
                "properties": {
                  "Movie": true,
                  "_id": {
                    "offset": 5356,
                    "table": 0
                  },
                  "_label": "Movie",
                  "genres": "Action|Drama|War",
                  "label": "Movie_2028",
                  "movieId": 2028,
                  "title": "Saving Private Ryan (1998)",
                  "year": 1998
                },
                "scale_factor": 1,
                "size": [
                  55,
                  55
                ],
                "styles": {},
                "type": "#2456d4"
              },
              {
                "color": "#2456d4",
                "id": 123,
                "label": "Movie_2033",
                "position": [
                  0,
                  0
                ],
                "properties": {
                  "Movie": true,
                  "_id": {
                    "offset": 5358,
                    "table": 0
                  },
                  "_label": "Movie",
                  "genres": "Adventure|Animation|Children|Fantasy",
                  "label": "Movie_2033",
                  "movieId": 2033,
                  "title": "Black Cauldron, The (1985)",
                  "year": 1985
                },
                "scale_factor": 1,
                "size": [
                  55,
                  55
                ],
                "styles": {},
                "type": "#2456d4"
              },
              {
                "color": "#2456d4",
                "id": 124,
                "label": "Movie_2046",
                "position": [
                  0,
                  0
                ],
                "properties": {
                  "Movie": true,
                  "_id": {
                    "offset": 5369,
                    "table": 0
                  },
                  "_label": "Movie",
                  "genres": "Adventure|Children|Sci-Fi",
                  "label": "Movie_2046",
                  "movieId": 2046,
                  "title": "Flight of the Navigator (1986)",
                  "year": 1986
                },
                "scale_factor": 1,
                "size": [
                  55,
                  55
                ],
                "styles": {},
                "type": "#2456d4"
              },
              {
                "color": "#2456d4",
                "id": 125,
                "label": "Movie_2048",
                "position": [
                  0,
                  0
                ],
                "properties": {
                  "Movie": true,
                  "_id": {
                    "offset": 5370,
                    "table": 0
                  },
                  "_label": "Movie",
                  "genres": "Action|Animation|Children|Crime",
                  "label": "Movie_2048",
                  "movieId": 2048,
                  "title": "Great Mouse Detective, The (1986)",
                  "year": 1986
                },
                "scale_factor": 1,
                "size": [
                  55,
                  55
                ],
                "styles": {},
                "type": "#2456d4"
              },
              {
                "color": "#2456d4",
                "id": 126,
                "label": "Movie_2054",
                "position": [
                  0,
                  0
                ],
                "properties": {
                  "Movie": true,
                  "_id": {
                    "offset": 5375,
                    "table": 0
                  },
                  "_label": "Movie",
                  "genres": "Adventure|Children|Comedy|Fantasy|Sci-Fi",
                  "label": "Movie_2054",
                  "movieId": 2054,
                  "title": "Honey, I Shrunk the Kids (1989)",
                  "year": 1989
                },
                "scale_factor": 1,
                "size": [
                  55,
                  55
                ],
                "styles": {},
                "type": "#2456d4"
              },
              {
                "color": "#2456d4",
                "id": 127,
                "label": "Movie_2058",
                "position": [
                  0,
                  0
                ],
                "properties": {
                  "Movie": true,
                  "_id": {
                    "offset": 5379,
                    "table": 0
                  },
                  "_label": "Movie",
                  "genres": "Action|Crime|Drama|Mystery|Thriller",
                  "label": "Movie_2058",
                  "movieId": 2058,
                  "title": "Negotiator, The (1998)",
                  "year": 1998
                },
                "scale_factor": 1,
                "size": [
                  55,
                  55
                ],
                "styles": {},
                "type": "#2456d4"
              },
              {
                "color": "#2456d4",
                "id": 128,
                "label": "Movie_2078",
                "position": [
                  0,
                  0
                ],
                "properties": {
                  "Movie": true,
                  "_id": {
                    "offset": 5396,
                    "table": 0
                  },
                  "_label": "Movie",
                  "genres": "Animation|Children|Comedy|Musical",
                  "label": "Movie_2078",
                  "movieId": 2078,
                  "title": "Jungle Book, The (1967)",
                  "year": 1967
                },
                "scale_factor": 1,
                "size": [
                  55,
                  55
                ],
                "styles": {},
                "type": "#2456d4"
              },
              {
                "color": "#2456d4",
                "id": 129,
                "label": "Movie_2090",
                "position": [
                  0,
                  0
                ],
                "properties": {
                  "Movie": true,
                  "_id": {
                    "offset": 5406,
                    "table": 0
                  },
                  "_label": "Movie",
                  "genres": "Adventure|Animation|Children|Crime|Drama",
                  "label": "Movie_2090",
                  "movieId": 2090,
                  "title": "Rescuers, The (1977)",
                  "year": 1977
                },
                "scale_factor": 1,
                "size": [
                  55,
                  55
                ],
                "styles": {},
                "type": "#2456d4"
              },
              {
                "color": "#2456d4",
                "id": 130,
                "label": "Movie_2093",
                "position": [
                  0,
                  0
                ],
                "properties": {
                  "Movie": true,
                  "_id": {
                    "offset": 5409,
                    "table": 0
                  },
                  "_label": "Movie",
                  "genres": "Adventure|Children|Fantasy",
                  "label": "Movie_2093",
                  "movieId": 2093,
                  "title": "Return to Oz (1985)",
                  "year": 1985
                },
                "scale_factor": 1,
                "size": [
                  55,
                  55
                ],
                "styles": {},
                "type": "#2456d4"
              },
              {
                "color": "#2456d4",
                "id": 131,
                "label": "Movie_2094",
                "position": [
                  0,
                  0
                ],
                "properties": {
                  "Movie": true,
                  "_id": {
                    "offset": 5410,
                    "table": 0
                  },
                  "_label": "Movie",
                  "genres": "Action|Adventure|Sci-Fi",
                  "label": "Movie_2094",
                  "movieId": 2094,
                  "title": "Rocketeer, The (1991)",
                  "year": 1991
                },
                "scale_factor": 1,
                "size": [
                  55,
                  55
                ],
                "styles": {},
                "type": "#2456d4"
              },
              {
                "color": "#2456d4",
                "id": 132,
                "label": "Movie_2096",
                "position": [
                  0,
                  0
                ],
                "properties": {
                  "Movie": true,
                  "_id": {
                    "offset": 5412,
                    "table": 0
                  },
                  "_label": "Movie",
                  "genres": "Animation|Children|Musical",
                  "label": "Movie_2096",
                  "movieId": 2096,
                  "title": "Sleeping Beauty (1959)",
                  "year": 1959
                },
                "scale_factor": 1,
                "size": [
                  55,
                  55
                ],
                "styles": {},
                "type": "#2456d4"
              },
              {
                "color": "#2456d4",
                "id": 133,
                "label": "Movie_2099",
                "position": [
                  0,
                  0
                ],
                "properties": {
                  "Movie": true,
                  "_id": {
                    "offset": 5415,
                    "table": 0
                  },
                  "_label": "Movie",
                  "genres": "Adventure|Animation|Children|Musical",
                  "label": "Movie_2099",
                  "movieId": 2099,
                  "title": "Song of the South (1946)",
                  "year": 1946
                },
                "scale_factor": 1,
                "size": [
                  55,
                  55
                ],
                "styles": {},
                "type": "#2456d4"
              },
              {
                "color": "#2456d4",
                "id": 134,
                "label": "Movie_2105",
                "position": [
                  0,
                  0
                ],
                "properties": {
                  "Movie": true,
                  "_id": {
                    "offset": 5420,
                    "table": 0
                  },
                  "_label": "Movie",
                  "genres": "Action|Adventure|Sci-Fi",
                  "label": "Movie_2105",
                  "movieId": 2105,
                  "title": "Tron (1982)",
                  "year": 1982
                },
                "scale_factor": 1,
                "size": [
                  55,
                  55
                ],
                "styles": {},
                "type": "#2456d4"
              },
              {
                "color": "#2456d4",
                "id": 135,
                "label": "Movie_2115",
                "position": [
                  0,
                  0
                ],
                "properties": {
                  "Movie": true,
                  "_id": {
                    "offset": 5429,
                    "table": 0
                  },
                  "_label": "Movie",
                  "genres": "Action|Adventure|Fantasy",
                  "label": "Movie_2115",
                  "movieId": 2115,
                  "title": "Indiana Jones and the Temple of Doom (1984)",
                  "year": 1984
                },
                "scale_factor": 1,
                "size": [
                  55,
                  55
                ],
                "styles": {},
                "type": "#2456d4"
              },
              {
                "color": "#2456d4",
                "id": 136,
                "label": "Movie_2116",
                "position": [
                  0,
                  0
                ],
                "properties": {
                  "Movie": true,
                  "_id": {
                    "offset": 5430,
                    "table": 0
                  },
                  "_label": "Movie",
                  "genres": "Adventure|Animation|Children|Fantasy",
                  "label": "Movie_2116",
                  "movieId": 2116,
                  "title": "Lord of the Rings, The (1978)",
                  "year": 1978
                },
                "scale_factor": 1,
                "size": [
                  55,
                  55
                ],
                "styles": {},
                "type": "#2456d4"
              },
              {
                "color": "#2456d4",
                "id": 137,
                "label": "Movie_2137",
                "position": [
                  0,
                  0
                ],
                "properties": {
                  "Movie": true,
                  "_id": {
                    "offset": 5448,
                    "table": 0
                  },
                  "_label": "Movie",
                  "genres": "Animation|Children",
                  "label": "Movie_2137",
                  "movieId": 2137,
                  "title": "Charlotte's Web (1973)",
                  "year": 1973
                },
                "scale_factor": 1,
                "size": [
                  55,
                  55
                ],
                "styles": {},
                "type": "#2456d4"
              },
              {
                "color": "#2456d4",
                "id": 138,
                "label": "Movie_2139",
                "position": [
                  0,
                  0
                ],
                "properties": {
                  "Movie": true,
                  "_id": {
                    "offset": 5450,
                    "table": 0
                  },
                  "_label": "Movie",
                  "genres": "Adventure|Animation|Children|Drama",
                  "label": "Movie_2139",
                  "movieId": 2139,
                  "title": "Secret of NIMH, The (1982)",
                  "year": 1982
                },
                "scale_factor": 1,
                "size": [
                  55,
                  55
                ],
                "styles": {},
                "type": "#2456d4"
              },
              {
                "color": "#2456d4",
                "id": 139,
                "label": "Movie_2141",
                "position": [
                  0,
                  0
                ],
                "properties": {
                  "Movie": true,
                  "_id": {
                    "offset": 5452,
                    "table": 0
                  },
                  "_label": "Movie",
                  "genres": "Adventure|Animation|Children|Comedy",
                  "label": "Movie_2141",
                  "movieId": 2141,
                  "title": "American Tail, An (1986)",
                  "year": 1986
                },
                "scale_factor": 1,
                "size": [
                  55,
                  55
                ],
                "styles": {},
                "type": "#2456d4"
              },
              {
                "color": "#2456d4",
                "id": 140,
                "label": "Movie_2143",
                "position": [
                  0,
                  0
                ],
                "properties": {
                  "Movie": true,
                  "_id": {
                    "offset": 5454,
                    "table": 0
                  },
                  "_label": "Movie",
                  "genres": "Adventure|Fantasy|Romance",
                  "label": "Movie_2143",
                  "movieId": 2143,
                  "title": "Legend (1985)",
                  "year": 1985
                },
                "scale_factor": 1,
                "size": [
                  55,
                  55
                ],
                "styles": {},
                "type": "#2456d4"
              },
              {
                "color": "#2456d4",
                "id": 141,
                "label": "Movie_2161",
                "position": [
                  0,
                  0
                ],
                "properties": {
                  "Movie": true,
                  "_id": {
                    "offset": 5470,
                    "table": 0
                  },
                  "_label": "Movie",
                  "genres": "Adventure|Children|Fantasy",
                  "label": "Movie_2161",
                  "movieId": 2161,
                  "title": "NeverEnding Story, The (1984)",
                  "year": 1984
                },
                "scale_factor": 1,
                "size": [
                  55,
                  55
                ],
                "styles": {},
                "type": "#2456d4"
              },
              {
                "color": "#2456d4",
                "id": 142,
                "label": "Movie_2174",
                "position": [
                  0,
                  0
                ],
                "properties": {
                  "Movie": true,
                  "_id": {
                    "offset": 5481,
                    "table": 0
                  },
                  "_label": "Movie",
                  "genres": "Comedy|Fantasy",
                  "label": "Movie_2174",
                  "movieId": 2174,
                  "title": "Beetlejuice (1988)",
                  "year": 1988
                },
                "scale_factor": 1,
                "size": [
                  55,
                  55
                ],
                "styles": {},
                "type": "#2456d4"
              },
              {
                "color": "#2456d4",
                "id": 143,
                "label": "Movie_2193",
                "position": [
                  0,
                  0
                ],
                "properties": {
                  "Movie": true,
                  "_id": {
                    "offset": 5497,
                    "table": 0
                  },
                  "_label": "Movie",
                  "genres": "Action|Adventure|Fantasy",
                  "label": "Movie_2193",
                  "movieId": 2193,
                  "title": "Willow (1988)",
                  "year": 1988
                },
                "scale_factor": 1,
                "size": [
                  55,
                  55
                ],
                "styles": {},
                "type": "#2456d4"
              },
              {
                "color": "#2456d4",
                "id": 144,
                "label": "Movie_2253",
                "position": [
                  0,
                  0
                ],
                "properties": {
                  "Movie": true,
                  "_id": {
                    "offset": 5527,
                    "table": 0
                  },
                  "_label": "Movie",
                  "genres": "Comedy|Fantasy",
                  "label": "Movie_2253",
                  "movieId": 2253,
                  "title": "Toys (1992)",
                  "year": 1992
                },
                "scale_factor": 1,
                "size": [
                  55,
                  55
                ],
                "styles": {},
                "type": "#2456d4"
              },
              {
                "color": "#2456d4",
                "id": 145,
                "label": "Movie_2268",
                "position": [
                  0,
                  0
                ],
                "properties": {
                  "Movie": true,
                  "_id": {
                    "offset": 5540,
                    "table": 0
                  },
                  "_label": "Movie",
                  "genres": "Crime|Drama|Thriller",
                  "label": "Movie_2268",
                  "movieId": 2268,
                  "title": "Few Good Men, A (1992)",
                  "year": 1992
                },
                "scale_factor": 1,
                "size": [
                  55,
                  55
                ],
                "styles": {},
                "type": "#2456d4"
              },
              {
                "color": "#2456d4",
                "id": 146,
                "label": "Movie_2273",
                "position": [
                  0,
                  0
                ],
                "properties": {
                  "Movie": true,
                  "_id": {
                    "offset": 5544,
                    "table": 0
                  },
                  "_label": "Movie",
                  "genres": "Action|Comedy|Crime|Thriller",
                  "label": "Movie_2273",
                  "movieId": 2273,
                  "title": "Rush Hour (1998)",
                  "year": 1998
                },
                "scale_factor": 1,
                "size": [
                  55,
                  55
                ],
                "styles": {},
                "type": "#2456d4"
              },
              {
                "color": "#2456d4",
                "id": 147,
                "label": "Movie_2291",
                "position": [
                  0,
                  0
                ],
                "properties": {
                  "Movie": true,
                  "_id": {
                    "offset": 5557,
                    "table": 0
                  },
                  "_label": "Movie",
                  "genres": "Drama|Fantasy|Romance",
                  "label": "Movie_2291",
                  "movieId": 2291,
                  "title": "Edward Scissorhands (1990)",
                  "year": 1990
                },
                "scale_factor": 1,
                "size": [
                  55,
                  55
                ],
                "styles": {},
                "type": "#2456d4"
              },
              {
                "color": "#2456d4",
                "id": 148,
                "label": "Movie_2329",
                "position": [
                  0,
                  0
                ],
                "properties": {
                  "Movie": true,
                  "_id": {
                    "offset": 5587,
                    "table": 0
                  },
                  "_label": "Movie",
                  "genres": "Crime|Drama",
                  "label": "Movie_2329",
                  "movieId": 2329,
                  "title": "American History X (1998)",
                  "year": 1998
                },
                "scale_factor": 1,
                "size": [
                  55,
                  55
                ],
                "styles": {},
                "type": "#2456d4"
              },
              {
                "color": "#2456d4",
                "id": 149,
                "label": "Movie_2338",
                "position": [
                  0,
                  0
                ],
                "properties": {
                  "Movie": true,
                  "_id": {
                    "offset": 5596,
                    "table": 0
                  },
                  "_label": "Movie",
                  "genres": "Horror|Mystery|Thriller",
                  "label": "Movie_2338",
                  "movieId": 2338,
                  "title": "I Still Know What You Did Last Summer (1998)",
                  "year": 1998
                },
                "scale_factor": 1,
                "size": [
                  55,
                  55
                ],
                "styles": {},
                "type": "#2456d4"
              },
              {
                "color": "#2456d4",
                "id": 150,
                "label": "Movie_2353",
                "position": [
                  0,
                  0
                ],
                "properties": {
                  "Movie": true,
                  "_id": {
                    "offset": 5608,
                    "table": 0
                  },
                  "_label": "Movie",
                  "genres": "Action|Thriller",
                  "label": "Movie_2353",
                  "movieId": 2353,
                  "title": "Enemy of the State (1998)",
                  "year": 1998
                },
                "scale_factor": 1,
                "size": [
                  55,
                  55
                ],
                "styles": {},
                "type": "#2456d4"
              },
              {
                "color": "#2456d4",
                "id": 151,
                "label": "Movie_2366",
                "position": [
                  0,
                  0
                ],
                "properties": {
                  "Movie": true,
                  "_id": {
                    "offset": 5621,
                    "table": 0
                  },
                  "_label": "Movie",
                  "genres": "Action|Adventure|Fantasy|Horror",
                  "label": "Movie_2366",
                  "movieId": 2366,
                  "title": "King Kong (1933)",
                  "year": 1933
                },
                "scale_factor": 1,
                "size": [
                  55,
                  55
                ],
                "styles": {},
                "type": "#2456d4"
              },
              {
                "color": "#2456d4",
                "id": 152,
                "label": "Movie_2387",
                "position": [
                  0,
                  0
                ],
                "properties": {
                  "Movie": true,
                  "_id": {
                    "offset": 5641,
                    "table": 0
                  },
                  "_label": "Movie",
                  "genres": "Comedy|Crime",
                  "label": "Movie_2387",
                  "movieId": 2387,
                  "title": "Very Bad Things (1998)",
                  "year": 1998
                },
                "scale_factor": 1,
                "size": [
                  55,
                  55
                ],
                "styles": {},
                "type": "#2456d4"
              },
              {
                "color": "#2456d4",
                "id": 153,
                "label": "Movie_2389",
                "position": [
                  0,
                  0
                ],
                "properties": {
                  "Movie": true,
                  "_id": {
                    "offset": 5643,
                    "table": 0
                  },
                  "_label": "Movie",
                  "genres": "Crime|Horror|Thriller",
                  "label": "Movie_2389",
                  "movieId": 2389,
                  "title": "Psycho (1998)",
                  "year": 1998
                },
                "scale_factor": 1,
                "size": [
                  55,
                  55
                ],
                "styles": {},
                "type": "#2456d4"
              },
              {
                "color": "#2456d4",
                "id": 154,
                "label": "Movie_2395",
                "position": [
                  0,
                  0
                ],
                "properties": {
                  "Movie": true,
                  "_id": {
                    "offset": 5649,
                    "table": 0
                  },
                  "_label": "Movie",
                  "genres": "Comedy|Drama",
                  "label": "Movie_2395",
                  "movieId": 2395,
                  "title": "Rushmore (1998)",
                  "year": 1998
                },
                "scale_factor": 1,
                "size": [
                  55,
                  55
                ],
                "styles": {},
                "type": "#2456d4"
              },
              {
                "color": "#2456d4",
                "id": 155,
                "label": "Movie_2406",
                "position": [
                  0,
                  0
                ],
                "properties": {
                  "Movie": true,
                  "_id": {
                    "offset": 5659,
                    "table": 0
                  },
                  "_label": "Movie",
                  "genres": "Action|Adventure|Comedy|Romance",
                  "label": "Movie_2406",
                  "movieId": 2406,
                  "title": "Romancing the Stone (1984)",
                  "year": 1984
                },
                "scale_factor": 1,
                "size": [
                  55,
                  55
                ],
                "styles": {},
                "type": "#2456d4"
              },
              {
                "color": "#2456d4",
                "id": 156,
                "label": "Movie_2414",
                "position": [
                  0,
                  0
                ],
                "properties": {
                  "Movie": true,
                  "_id": {
                    "offset": 5667,
                    "table": 0
                  },
                  "_label": "Movie",
                  "genres": "Action|Adventure|Children|Fantasy|Mystery|Thriller",
                  "label": "Movie_2414",
                  "movieId": 2414,
                  "title": "Young Sherlock Holmes (1985)",
                  "year": 1985
                },
                "scale_factor": 1,
                "size": [
                  55,
                  55
                ],
                "styles": {},
                "type": "#2456d4"
              },
              {
                "color": "#2456d4",
                "id": 157,
                "label": "Movie_2427",
                "position": [
                  0,
                  0
                ],
                "properties": {
                  "Movie": true,
                  "_id": {
                    "offset": 5679,
                    "table": 0
                  },
                  "_label": "Movie",
                  "genres": "Action|Drama|War",
                  "label": "Movie_2427",
                  "movieId": 2427,
                  "title": "Thin Red Line, The (1998)",
                  "year": 1998
                },
                "scale_factor": 1,
                "size": [
                  55,
                  55
                ],
                "styles": {},
                "type": "#2456d4"
              },
              {
                "color": "#2456d4",
                "id": 158,
                "label": "Movie_2450",
                "position": [
                  0,
                  0
                ],
                "properties": {
                  "Movie": true,
                  "_id": {
                    "offset": 5695,
                    "table": 0
                  },
                  "_label": "Movie",
                  "genres": "Adventure|Comedy|Sci-Fi",
                  "label": "Movie_2450",
                  "movieId": 2450,
                  "title": "Howard the Duck (1986)",
                  "year": 1986
                },
                "scale_factor": 1,
                "size": [
                  55,
                  55
                ],
                "styles": {},
                "type": "#2456d4"
              },
              {
                "color": "#2456d4",
                "id": 159,
                "label": "Movie_2459",
                "position": [
                  0,
                  0
                ],
                "properties": {
                  "Movie": true,
                  "_id": {
                    "offset": 5703,
                    "table": 0
                  },
                  "_label": "Movie",
                  "genres": "Horror",
                  "label": "Movie_2459",
                  "movieId": 2459,
                  "title": "Texas Chainsaw Massacre, The (1974)",
                  "year": 1974
                },
                "scale_factor": 1,
                "size": [
                  55,
                  55
                ],
                "styles": {},
                "type": "#2456d4"
              },
              {
                "color": "#2456d4",
                "id": 160,
                "label": "Movie_2470",
                "position": [
                  0,
                  0
                ],
                "properties": {
                  "Movie": true,
                  "_id": {
                    "offset": 5711,
                    "table": 0
                  },
                  "_label": "Movie",
                  "genres": "Adventure|Comedy",
                  "label": "Movie_2470",
                  "movieId": 2470,
                  "title": "Crocodile Dundee (1986)",
                  "year": 1986
                },
                "scale_factor": 1,
                "size": [
                  55,
                  55
                ],
                "styles": {},
                "type": "#2456d4"
              },
              {
                "color": "#2456d4",
                "id": 161,
                "label": "Movie_2478",
                "position": [
                  0,
                  0
                ],
                "properties": {
                  "Movie": true,
                  "_id": {
                    "offset": 5719,
                    "table": 0
                  },
                  "_label": "Movie",
                  "genres": "Comedy|Western",
                  "label": "Movie_2478",
                  "movieId": 2478,
                  "title": "¡Three Amigos! (1986)",
                  "year": 1986
                },
                "scale_factor": 1,
                "size": [
                  55,
                  55
                ],
                "styles": {},
                "type": "#2456d4"
              },
              {
                "color": "#2456d4",
                "id": 162,
                "label": "Movie_2492",
                "position": [
                  0,
                  0
                ],
                "properties": {
                  "Movie": true,
                  "_id": {
                    "offset": 5727,
                    "table": 0
                  },
                  "_label": "Movie",
                  "genres": "Comedy|Romance",
                  "label": "Movie_2492",
                  "movieId": 2492,
                  "title": "20 Dates (1998)",
                  "year": 1998
                },
                "scale_factor": 1,
                "size": [
                  55,
                  55
                ],
                "styles": {},
                "type": "#2456d4"
              },
              {
                "color": "#2456d4",
                "id": 163,
                "label": "Movie_2502",
                "position": [
                  0,
                  0
                ],
                "properties": {
                  "Movie": true,
                  "_id": {
                    "offset": 5736,
                    "table": 0
                  },
                  "_label": "Movie",
                  "genres": "Comedy|Crime",
                  "label": "Movie_2502",
                  "movieId": 2502,
                  "title": "Office Space (1999)",
                  "year": 1999
                },
                "scale_factor": 1,
                "size": [
                  55,
                  55
                ],
                "styles": {},
                "type": "#2456d4"
              },
              {
                "color": "#2456d4",
                "id": 164,
                "label": "Movie_2528",
                "position": [
                  0,
                  0
                ],
                "properties": {
                  "Movie": true,
                  "_id": {
                    "offset": 5757,
                    "table": 0
                  },
                  "_label": "Movie",
                  "genres": "Action|Adventure|Sci-Fi",
                  "label": "Movie_2528",
                  "movieId": 2528,
                  "title": "Logan's Run (1976)",
                  "year": 1976
                },
                "scale_factor": 1,
                "size": [
                  55,
                  55
                ],
                "styles": {},
                "type": "#2456d4"
              },
              {
                "color": "#2456d4",
                "id": 165,
                "label": "Movie_2529",
                "position": [
                  0,
                  0
                ],
                "properties": {
                  "Movie": true,
                  "_id": {
                    "offset": 5758,
                    "table": 0
                  },
                  "_label": "Movie",
                  "genres": "Action|Drama|Sci-Fi",
                  "label": "Movie_2529",
                  "movieId": 2529,
                  "title": "Planet of the Apes (1968)",
                  "year": 1968
                },
                "scale_factor": 1,
                "size": [
                  55,
                  55
                ],
                "styles": {},
                "type": "#2456d4"
              },
              {
                "color": "#2456d4",
                "id": 166,
                "label": "Movie_2542",
                "position": [
                  0,
                  0
                ],
                "properties": {
                  "Movie": true,
                  "_id": {
                    "offset": 5770,
                    "table": 0
                  },
                  "_label": "Movie",
                  "genres": "Comedy|Crime|Thriller",
                  "label": "Movie_2542",
                  "movieId": 2542,
                  "title": "Lock, Stock & Two Smoking Barrels (1998)",
                  "year": 1998
                },
                "scale_factor": 1,
                "size": [
                  55,
                  55
                ],
                "styles": {},
                "type": "#2456d4"
              },
              {
                "color": "#2456d4",
                "id": 167,
                "label": "Movie_2571",
                "position": [
                  0,
                  0
                ],
                "properties": {
                  "Movie": true,
                  "_id": {
                    "offset": 5792,
                    "table": 0
                  },
                  "_label": "Movie",
                  "genres": "Action|Sci-Fi|Thriller",
                  "label": "Movie_2571",
                  "movieId": 2571,
                  "title": "Matrix, The (1999)",
                  "year": 1999
                },
                "scale_factor": 1,
                "size": [
                  55,
                  55
                ],
                "styles": {},
                "type": "#2456d4"
              },
              {
                "color": "#2456d4",
                "id": 168,
                "label": "Movie_2580",
                "position": [
                  0,
                  0
                ],
                "properties": {
                  "Movie": true,
                  "_id": {
                    "offset": 5799,
                    "table": 0
                  },
                  "_label": "Movie",
                  "genres": "Comedy|Crime",
                  "label": "Movie_2580",
                  "movieId": 2580,
                  "title": "Go (1999)",
                  "year": 1999
                },
                "scale_factor": 1,
                "size": [
                  55,
                  55
                ],
                "styles": {},
                "type": "#2456d4"
              },
              {
                "color": "#2456d4",
                "id": 169,
                "label": "Movie_2596",
                "position": [
                  0,
                  0
                ],
                "properties": {
                  "Movie": true,
                  "_id": {
                    "offset": 5810,
                    "table": 0
                  },
                  "_label": "Movie",
                  "genres": "Comedy|Drama",
                  "label": "Movie_2596",
                  "movieId": 2596,
                  "title": "SLC Punk! (1998)",
                  "year": 1998
                },
                "scale_factor": 1,
                "size": [
                  55,
                  55
                ],
                "styles": {},
                "type": "#2456d4"
              },
              {
                "color": "#2456d4",
                "id": 170,
                "label": "Movie_2616",
                "position": [
                  0,
                  0
                ],
                "properties": {
                  "Movie": true,
                  "_id": {
                    "offset": 5824,
                    "table": 0
                  },
                  "_label": "Movie",
                  "genres": "Action|Crime",
                  "label": "Movie_2616",
                  "movieId": 2616,
                  "title": "Dick Tracy (1990)",
                  "year": 1990
                },
                "scale_factor": 1,
                "size": [
                  55,
                  55
                ],
                "styles": {},
                "type": "#2456d4"
              },
              {
                "color": "#2456d4",
                "id": 171,
                "label": "Movie_2617",
                "position": [
                  0,
                  0
                ],
                "properties": {
                  "Movie": true,
                  "_id": {
                    "offset": 5825,
                    "table": 0
                  },
                  "_label": "Movie",
                  "genres": "Action|Adventure|Comedy|Fantasy|Horror|Thriller",
                  "label": "Movie_2617",
                  "movieId": 2617,
                  "title": "Mummy, The (1999)",
                  "year": 1999
                },
                "scale_factor": 1,
                "size": [
                  55,
                  55
                ],
                "styles": {},
                "type": "#2456d4"
              },
              {
                "color": "#2456d4",
                "id": 172,
                "label": "Movie_2628",
                "position": [
                  0,
                  0
                ],
                "properties": {
                  "Movie": true,
                  "_id": {
                    "offset": 5832,
                    "table": 0
                  },
                  "_label": "Movie",
                  "genres": "Action|Adventure|Sci-Fi",
                  "label": "Movie_2628",
                  "movieId": 2628,
                  "title": "Star Wars: Episode I - The Phantom Menace (1999)",
                  "year": 1999
                },
                "scale_factor": 1,
                "size": [
                  55,
                  55
                ],
                "styles": {},
                "type": "#2456d4"
              },
              {
                "color": "#2456d4",
                "id": 173,
                "label": "Movie_2640",
                "position": [
                  0,
                  0
                ],
                "properties": {
                  "Movie": true,
                  "_id": {
                    "offset": 5839,
                    "table": 0
                  },
                  "_label": "Movie",
                  "genres": "Action|Adventure|Sci-Fi",
                  "label": "Movie_2640",
                  "movieId": 2640,
                  "title": "Superman (1978)",
                  "year": 1978
                },
                "scale_factor": 1,
                "size": [
                  55,
                  55
                ],
                "styles": {},
                "type": "#2456d4"
              },
              {
                "color": "#2456d4",
                "id": 174,
                "label": "Movie_2641",
                "position": [
                  0,
                  0
                ],
                "properties": {
                  "Movie": true,
                  "_id": {
                    "offset": 5840,
                    "table": 0
                  },
                  "_label": "Movie",
                  "genres": "Action|Sci-Fi",
                  "label": "Movie_2641",
                  "movieId": 2641,
                  "title": "Superman II (1980)",
                  "year": 1980
                },
                "scale_factor": 1,
                "size": [
                  55,
                  55
                ],
                "styles": {},
                "type": "#2456d4"
              },
              {
                "color": "#2456d4",
                "id": 175,
                "label": "Movie_2644",
                "position": [
                  0,
                  0
                ],
                "properties": {
                  "Movie": true,
                  "_id": {
                    "offset": 5843,
                    "table": 0
                  },
                  "_label": "Movie",
                  "genres": "Horror",
                  "label": "Movie_2644",
                  "movieId": 2644,
                  "title": "Dracula (1931)",
                  "year": 1931
                },
                "scale_factor": 1,
                "size": [
                  55,
                  55
                ],
                "styles": {},
                "type": "#2456d4"
              },
              {
                "color": "#2456d4",
                "id": 176,
                "label": "Movie_2648",
                "position": [
                  0,
                  0
                ],
                "properties": {
                  "Movie": true,
                  "_id": {
                    "offset": 5844,
                    "table": 0
                  },
                  "_label": "Movie",
                  "genres": "Drama|Horror|Sci-Fi",
                  "label": "Movie_2648",
                  "movieId": 2648,
                  "title": "Frankenstein (1931)",
                  "year": 1931
                },
                "scale_factor": 1,
                "size": [
                  55,
                  55
                ],
                "styles": {},
                "type": "#2456d4"
              },
              {
                "color": "#2456d4",
                "id": 177,
                "label": "Movie_2654",
                "position": [
                  0,
                  0
                ],
                "properties": {
                  "Movie": true,
                  "_id": {
                    "offset": 5847,
                    "table": 0
                  },
                  "_label": "Movie",
                  "genres": "Drama|Fantasy|Horror",
                  "label": "Movie_2654",
                  "movieId": 2654,
                  "title": "Wolf Man, The (1941)",
                  "year": 1941
                },
                "scale_factor": 1,
                "size": [
                  55,
                  55
                ],
                "styles": {},
                "type": "#2456d4"
              },
              {
                "color": "#2456d4",
                "id": 178,
                "label": "Movie_2657",
                "position": [
                  0,
                  0
                ],
                "properties": {
                  "Movie": true,
                  "_id": {
                    "offset": 5850,
                    "table": 0
                  },
                  "_label": "Movie",
                  "genres": "Comedy|Horror|Musical|Sci-Fi",
                  "label": "Movie_2657",
                  "movieId": 2657,
                  "title": "Rocky Horror Picture Show, The (1975)",
                  "year": 1975
                },
                "scale_factor": 1,
                "size": [
                  55,
                  55
                ],
                "styles": {},
                "type": "#2456d4"
              },
              {
                "color": "#2456d4",
                "id": 179,
                "label": "Movie_2692",
                "position": [
                  0,
                  0
                ],
                "properties": {
                  "Movie": true,
                  "_id": {
                    "offset": 5873,
                    "table": 0
                  },
                  "_label": "Movie",
                  "genres": "Action|Crime",
                  "label": "Movie_2692",
                  "movieId": 2692,
                  "title": "Run Lola Run (Lola rennt) (1998)",
                  "year": 1998
                },
                "scale_factor": 1,
                "size": [
                  55,
                  55
                ],
                "styles": {},
                "type": "#2456d4"
              },
              {
                "color": "#2456d4",
                "id": 180,
                "label": "Movie_2700",
                "position": [
                  0,
                  0
                ],
                "properties": {
                  "Movie": true,
                  "_id": {
                    "offset": 5881,
                    "table": 0
                  },
                  "_label": "Movie",
                  "genres": "Animation|Comedy|Musical",
                  "label": "Movie_2700",
                  "movieId": 2700,
                  "title": "South Park: Bigger, Longer and Uncut (1999)",
                  "year": 1999
                },
                "scale_factor": 1,
                "size": [
                  55,
                  55
                ],
                "styles": {},
                "type": "#2456d4"
              },
              {
                "color": "#2456d4",
                "id": 181,
                "label": "Movie_2716",
                "position": [
                  0,
                  0
                ],
                "properties": {
                  "Movie": true,
                  "_id": {
                    "offset": 5891,
                    "table": 0
                  },
                  "_label": "Movie",
                  "genres": "Action|Comedy|Sci-Fi",
                  "label": "Movie_2716",
                  "movieId": 2716,
                  "title": "Ghostbusters (a.k.a. Ghost Busters) (1984)",
                  "year": 1984
                },
                "scale_factor": 1,
                "size": [
                  55,
                  55
                ],
                "styles": {},
                "type": "#2456d4"
              },
              {
                "color": "#2456d4",
                "id": 182,
                "label": "Movie_2761",
                "position": [
                  0,
                  0
                ],
                "properties": {
                  "Movie": true,
                  "_id": {
                    "offset": 5930,
                    "table": 0
                  },
                  "_label": "Movie",
                  "genres": "Adventure|Animation|Children|Drama|Sci-Fi",
                  "label": "Movie_2761",
                  "movieId": 2761,
                  "title": "Iron Giant, The (1999)",
                  "year": 1999
                },
                "scale_factor": 1,
                "size": [
                  55,
                  55
                ],
                "styles": {},
                "type": "#2456d4"
              },
              {
                "color": "#2456d4",
                "id": 183,
                "label": "Movie_2797",
                "position": [
                  0,
                  0
                ],
                "properties": {
                  "Movie": true,
                  "_id": {
                    "offset": 5956,
                    "table": 0
                  },
                  "_label": "Movie",
                  "genres": "Comedy|Drama|Fantasy|Romance",
                  "label": "Movie_2797",
                  "movieId": 2797,
                  "title": "Big (1988)",
                  "year": 1988
                },
                "scale_factor": 1,
                "size": [
                  55,
                  55
                ],
                "styles": {},
                "type": "#2456d4"
              },
              {
                "color": "#2456d4",
                "id": 184,
                "label": "Movie_2826",
                "position": [
                  0,
                  0
                ],
                "properties": {
                  "Movie": true,
                  "_id": {
                    "offset": 5979,
                    "table": 0
                  },
                  "_label": "Movie",
                  "genres": "Action|Adventure|Fantasy",
                  "label": "Movie_2826",
                  "movieId": 2826,
                  "title": "13th Warrior, The (1999)",
                  "year": 1999
                },
                "scale_factor": 1,
                "size": [
                  55,
                  55
                ],
                "styles": {},
                "type": "#2456d4"
              },
              {
                "color": "#2456d4",
                "id": 185,
                "label": "Movie_2858",
                "position": [
                  0,
                  0
                ],
                "properties": {
                  "Movie": true,
                  "_id": {
                    "offset": 5998,
                    "table": 0
                  },
                  "_label": "Movie",
                  "genres": "Drama|Romance",
                  "label": "Movie_2858",
                  "movieId": 2858,
                  "title": "American Beauty (1999)",
                  "year": 1999
                },
                "scale_factor": 1,
                "size": [
                  55,
                  55
                ],
                "styles": {},
                "type": "#2456d4"
              },
              {
                "color": "#2456d4",
                "id": 186,
                "label": "Movie_2872",
                "position": [
                  0,
                  0
                ],
                "properties": {
                  "Movie": true,
                  "_id": {
                    "offset": 6010,
                    "table": 0
                  },
                  "_label": "Movie",
                  "genres": "Adventure|Fantasy",
                  "label": "Movie_2872",
                  "movieId": 2872,
                  "title": "Excalibur (1981)",
                  "year": 1981
                },
                "scale_factor": 1,
                "size": [
                  55,
                  55
                ],
                "styles": {},
                "type": "#2456d4"
              },
              {
                "color": "#2456d4",
                "id": 187,
                "label": "Movie_2899",
                "position": [
                  0,
                  0
                ],
                "properties": {
                  "Movie": true,
                  "_id": {
                    "offset": 6035,
                    "table": 0
                  },
                  "_label": "Movie",
                  "genres": "Adventure|Animation|Children",
                  "label": "Movie_2899",
                  "movieId": 2899,
                  "title": "Gulliver's Travels (1939)",
                  "year": 1939
                },
                "scale_factor": 1,
                "size": [
                  55,
                  55
                ],
                "styles": {},
                "type": "#2456d4"
              },
              {
                "color": "#2456d4",
                "id": 188,
                "label": "Movie_2916",
                "position": [
                  0,
                  0
                ],
                "properties": {
                  "Movie": true,
                  "_id": {
                    "offset": 6046,
                    "table": 0
                  },
                  "_label": "Movie",
                  "genres": "Action|Adventure|Sci-Fi|Thriller",
                  "label": "Movie_2916",
                  "movieId": 2916,
                  "title": "Total Recall (1990)",
                  "year": 1990
                },
                "scale_factor": 1,
                "size": [
                  55,
                  55
                ],
                "styles": {},
                "type": "#2456d4"
              },
              {
                "color": "#2456d4",
                "id": 189,
                "label": "Movie_2944",
                "position": [
                  0,
                  0
                ],
                "properties": {
                  "Movie": true,
                  "_id": {
                    "offset": 6069,
                    "table": 0
                  },
                  "_label": "Movie",
                  "genres": "Action|Drama|War",
                  "label": "Movie_2944",
                  "movieId": 2944,
                  "title": "Dirty Dozen, The (1967)",
                  "year": 1967
                },
                "scale_factor": 1,
                "size": [
                  55,
                  55
                ],
                "styles": {},
                "type": "#2456d4"
              },
              {
                "color": "#2456d4",
                "id": 190,
                "label": "Movie_2947",
                "position": [
                  0,
                  0
                ],
                "properties": {
                  "Movie": true,
                  "_id": {
                    "offset": 6071,
                    "table": 0
                  },
                  "_label": "Movie",
                  "genres": "Action|Adventure|Thriller",
                  "label": "Movie_2947",
                  "movieId": 2947,
                  "title": "Goldfinger (1964)",
                  "year": 1964
                },
                "scale_factor": 1,
                "size": [
                  55,
                  55
                ],
                "styles": {},
                "type": "#2456d4"
              },
              {
                "color": "#2456d4",
                "id": 191,
                "label": "Movie_2948",
                "position": [
                  0,
                  0
                ],
                "properties": {
                  "Movie": true,
                  "_id": {
                    "offset": 6072,
                    "table": 0
                  },
                  "_label": "Movie",
                  "genres": "Action|Adventure|Thriller",
                  "label": "Movie_2948",
                  "movieId": 2948,
                  "title": "From Russia with Love (1963)",
                  "year": 1963
                },
                "scale_factor": 1,
                "size": [
                  55,
                  55
                ],
                "styles": {},
                "type": "#2456d4"
              },
              {
                "color": "#2456d4",
                "id": 192,
                "label": "Movie_2949",
                "position": [
                  0,
                  0
                ],
                "properties": {
                  "Movie": true,
                  "_id": {
                    "offset": 6073,
                    "table": 0
                  },
                  "_label": "Movie",
                  "genres": "Action|Adventure|Thriller",
                  "label": "Movie_2949",
                  "movieId": 2949,
                  "title": "Dr. No (1962)",
                  "year": 1962
                },
                "scale_factor": 1,
                "size": [
                  55,
                  55
                ],
                "styles": {},
                "type": "#2456d4"
              },
              {
                "color": "#2456d4",
                "id": 193,
                "label": "Movie_2959",
                "position": [
                  0,
                  0
                ],
                "properties": {
                  "Movie": true,
                  "_id": {
                    "offset": 6079,
                    "table": 0
                  },
                  "_label": "Movie",
                  "genres": "Action|Crime|Drama|Thriller",
                  "label": "Movie_2959",
                  "movieId": 2959,
                  "title": "Fight Club (1999)",
                  "year": 1999
                },
                "scale_factor": 1,
                "size": [
                  55,
                  55
                ],
                "styles": {},
                "type": "#2456d4"
              },
              {
                "color": "#2456d4",
                "id": 194,
                "label": "Movie_2985",
                "position": [
                  0,
                  0
                ],
                "properties": {
                  "Movie": true,
                  "_id": {
                    "offset": 6101,
                    "table": 0
                  },
                  "_label": "Movie",
                  "genres": "Action|Crime|Drama|Sci-Fi|Thriller",
                  "label": "Movie_2985",
                  "movieId": 2985,
                  "title": "RoboCop (1987)",
                  "year": 1987
                },
                "scale_factor": 1,
                "size": [
                  55,
                  55
                ],
                "styles": {},
                "type": "#2456d4"
              },
              {
                "color": "#2456d4",
                "id": 195,
                "label": "Movie_2987",
                "position": [
                  0,
                  0
                ],
                "properties": {
                  "Movie": true,
                  "_id": {
                    "offset": 6103,
                    "table": 0
                  },
                  "_label": "Movie",
                  "genres": "Adventure|Animation|Children|Comedy|Crime|Fantasy|Mystery",
                  "label": "Movie_2987",
                  "movieId": 2987,
                  "title": "Who Framed Roger Rabbit? (1988)",
                  "year": 1988
                },
                "scale_factor": 1,
                "size": [
                  55,
                  55
                ],
                "styles": {},
                "type": "#2456d4"
              },
              {
                "color": "#2456d4",
                "id": 196,
                "label": "Movie_2991",
                "position": [
                  0,
                  0
                ],
                "properties": {
                  "Movie": true,
                  "_id": {
                    "offset": 6107,
                    "table": 0
                  },
                  "_label": "Movie",
                  "genres": "Action|Adventure|Thriller",
                  "label": "Movie_2991",
                  "movieId": 2991,
                  "title": "Live and Let Die (1973)",
                  "year": 1973
                },
                "scale_factor": 1,
                "size": [
                  55,
                  55
                ],
                "styles": {},
                "type": "#2456d4"
              },
              {
                "color": "#2456d4",
                "id": 197,
                "label": "Movie_2993",
                "position": [
                  0,
                  0
                ],
                "properties": {
                  "Movie": true,
                  "_id": {
                    "offset": 6109,
                    "table": 0
                  },
                  "_label": "Movie",
                  "genres": "Action|Adventure|Thriller",
                  "label": "Movie_2993",
                  "movieId": 2993,
                  "title": "Thunderball (1965)",
                  "year": 1965
                },
                "scale_factor": 1,
                "size": [
                  55,
                  55
                ],
                "styles": {},
                "type": "#2456d4"
              },
              {
                "color": "#2456d4",
                "id": 198,
                "label": "Movie_2997",
                "position": [
                  0,
                  0
                ],
                "properties": {
                  "Movie": true,
                  "_id": {
                    "offset": 6112,
                    "table": 0
                  },
                  "_label": "Movie",
                  "genres": "Comedy|Drama|Fantasy",
                  "label": "Movie_2997",
                  "movieId": 2997,
                  "title": "Being John Malkovich (1999)",
                  "year": 1999
                },
                "scale_factor": 1,
                "size": [
                  55,
                  55
                ],
                "styles": {},
                "type": "#2456d4"
              },
              {
                "color": "#2456d4",
                "id": 199,
                "label": "Movie_3033",
                "position": [
                  0,
                  0
                ],
                "properties": {
                  "Movie": true,
                  "_id": {
                    "offset": 6139,
                    "table": 0
                  },
                  "_label": "Movie",
                  "genres": "Comedy|Sci-Fi",
                  "label": "Movie_3033",
                  "movieId": 3033,
                  "title": "Spaceballs (1987)",
                  "year": 1987
                },
                "scale_factor": 1,
                "size": [
                  55,
                  55
                ],
                "styles": {},
                "type": "#2456d4"
              },
              {
                "color": "#2456d4",
                "id": 200,
                "label": "Movie_3034",
                "position": [
                  0,
                  0
                ],
                "properties": {
                  "Movie": true,
                  "_id": {
                    "offset": 6140,
                    "table": 0
                  },
                  "_label": "Movie",
                  "genres": "Adventure|Animation|Children|Comedy|Musical",
                  "label": "Movie_3034",
                  "movieId": 3034,
                  "title": "Robin Hood (1973)",
                  "year": 1973
                },
                "scale_factor": 1,
                "size": [
                  55,
                  55
                ],
                "styles": {},
                "type": "#2456d4"
              },
              {
                "color": "#2456d4",
                "id": 201,
                "label": "Movie_3052",
                "position": [
                  0,
                  0
                ],
                "properties": {
                  "Movie": true,
                  "_id": {
                    "offset": 6155,
                    "table": 0
                  },
                  "_label": "Movie",
                  "genres": "Adventure|Comedy|Fantasy",
                  "label": "Movie_3052",
                  "movieId": 3052,
                  "title": "Dogma (1999)",
                  "year": 1999
                },
                "scale_factor": 1,
                "size": [
                  55,
                  55
                ],
                "styles": {},
                "type": "#2456d4"
              },
              {
                "color": "#2456d4",
                "id": 202,
                "label": "Movie_3053",
                "position": [
                  0,
                  0
                ],
                "properties": {
                  "Movie": true,
                  "_id": {
                    "offset": 6156,
                    "table": 0
                  },
                  "_label": "Movie",
                  "genres": "Drama|War",
                  "label": "Movie_3053",
                  "movieId": 3053,
                  "title": "Messenger: The Story of Joan of Arc, The (1999)",
                  "year": 1999
                },
                "scale_factor": 1,
                "size": [
                  55,
                  55
                ],
                "styles": {},
                "type": "#2456d4"
              },
              {
                "color": "#2456d4",
                "id": 203,
                "label": "Movie_3062",
                "position": [
                  0,
                  0
                ],
                "properties": {
                  "Movie": true,
                  "_id": {
                    "offset": 6163,
                    "table": 0
                  },
                  "_label": "Movie",
                  "genres": "Action|Drama|War",
                  "label": "Movie_3062",
                  "movieId": 3062,
                  "title": "Longest Day, The (1962)",
                  "year": 1962
                },
                "scale_factor": 1,
                "size": [
                  55,
                  55
                ],
                "styles": {},
                "type": "#2456d4"
              },
              {
                "color": "#2456d4",
                "id": 204,
                "label": "Movie_3147",
                "position": [
                  0,
                  0
                ],
                "properties": {
                  "Movie": true,
                  "_id": {
                    "offset": 19,
                    "table": 0
                  },
                  "_label": "Movie",
                  "genres": "Crime|Drama",
                  "label": "Movie_3147",
                  "movieId": 3147,
                  "title": "Green Mile, The (1999)",
                  "year": 1999
                },
                "scale_factor": 1,
                "size": [
                  55,
                  55
                ],
                "styles": {},
                "type": "#2456d4"
              },
              {
                "color": "#2456d4",
                "id": 205,
                "label": "Movie_3168",
                "position": [
                  0,
                  0
                ],
                "properties": {
                  "Movie": true,
                  "_id": {
                    "offset": 35,
                    "table": 0
                  },
                  "_label": "Movie",
                  "genres": "Adventure|Drama",
                  "label": "Movie_3168",
                  "movieId": 3168,
                  "title": "Easy Rider (1969)",
                  "year": 1969
                },
                "scale_factor": 1,
                "size": [
                  55,
                  55
                ],
                "styles": {},
                "type": "#2456d4"
              },
              {
                "color": "#2456d4",
                "id": 206,
                "label": "Movie_3176",
                "position": [
                  0,
                  0
                ],
                "properties": {
                  "Movie": true,
                  "_id": {
                    "offset": 41,
                    "table": 0
                  },
                  "_label": "Movie",
                  "genres": "Drama|Mystery|Thriller",
                  "label": "Movie_3176",
                  "movieId": 3176,
                  "title": "Talented Mr. Ripley, The (1999)",
                  "year": 1999
                },
                "scale_factor": 1,
                "size": [
                  55,
                  55
                ],
                "styles": {},
                "type": "#2456d4"
              },
              {
                "color": "#2456d4",
                "id": 207,
                "label": "Movie_3243",
                "position": [
                  0,
                  0
                ],
                "properties": {
                  "Movie": true,
                  "_id": {
                    "offset": 78,
                    "table": 0
                  },
                  "_label": "Movie",
                  "genres": "Comedy",
                  "label": "Movie_3243",
                  "movieId": 3243,
                  "title": "Encino Man (1992)",
                  "year": 1992
                },
                "scale_factor": 1,
                "size": [
                  55,
                  55
                ],
                "styles": {},
                "type": "#2456d4"
              },
              {
                "color": "#2456d4",
                "id": 208,
                "label": "Movie_3247",
                "position": [
                  0,
                  0
                ],
                "properties": {
                  "Movie": true,
                  "_id": {
                    "offset": 81,
                    "table": 0
                  },
                  "_label": "Movie",
                  "genres": "Comedy|Crime",
                  "label": "Movie_3247",
                  "movieId": 3247,
                  "title": "Sister Act (1992)",
                  "year": 1992
                },
                "scale_factor": 1,
                "size": [
                  55,
                  55
                ],
                "styles": {},
                "type": "#2456d4"
              },
              {
                "color": "#2456d4",
                "id": 209,
                "label": "Movie_3253",
                "position": [
                  0,
                  0
                ],
                "properties": {
                  "Movie": true,
                  "_id": {
                    "offset": 87,
                    "table": 0
                  },
                  "_label": "Movie",
                  "genres": "Comedy",
                  "label": "Movie_3253",
                  "movieId": 3253,
                  "title": "Wayne's World (1992)",
                  "year": 1992
                },
                "scale_factor": 1,
                "size": [
                  55,
                  55
                ],
                "styles": {},
                "type": "#2456d4"
              },
              {
                "color": "#2456d4",
                "id": 210,
                "label": "Movie_3273",
                "position": [
                  0,
                  0
                ],
                "properties": {
                  "Movie": true,
                  "_id": {
                    "offset": 107,
                    "table": 0
                  },
                  "_label": "Movie",
                  "genres": "Comedy|Horror|Mystery|Thriller",
                  "label": "Movie_3273",
                  "movieId": 3273,
                  "title": "Scream 3 (2000)",
                  "year": 2000
                },
                "scale_factor": 1,
                "size": [
                  55,
                  55
                ],
                "styles": {},
                "type": "#2456d4"
              },
              {
                "color": "#2456d4",
                "id": 211,
                "label": "Movie_3386",
                "position": [
                  0,
                  0
                ],
                "properties": {
                  "Movie": true,
                  "_id": {
                    "offset": 6214,
                    "table": 0
                  },
                  "_label": "Movie",
                  "genres": "Drama|Mystery|Thriller",
                  "label": "Movie_3386",
                  "movieId": 3386,
                  "title": "JFK (1991)",
                  "year": 1991
                },
                "scale_factor": 1,
                "size": [
                  55,
                  55
                ],
                "styles": {},
                "type": "#2456d4"
              },
              {
                "color": "#2456d4",
                "id": 212,
                "label": "Movie_3439",
                "position": [
                  0,
                  0
                ],
                "properties": {
                  "Movie": true,
                  "_id": {
                    "offset": 6259,
                    "table": 0
                  },
                  "_label": "Movie",
                  "genres": "Action|Children|Fantasy",
                  "label": "Movie_3439",
                  "movieId": 3439,
                  "title": "Teenage Mutant Ninja Turtles II: The Secret of the Ooze (1991)",
                  "year": 1991
                },
                "scale_factor": 1,
                "size": [
                  55,
                  55
                ],
                "styles": {},
                "type": "#2456d4"
              },
              {
                "color": "#2456d4",
                "id": 213,
                "label": "Movie_3440",
                "position": [
                  0,
                  0
                ],
                "properties": {
                  "Movie": true,
                  "_id": {
                    "offset": 6260,
                    "table": 0
                  },
                  "_label": "Movie",
                  "genres": "Action|Adventure|Children|Comedy|Fantasy",
                  "label": "Movie_3440",
                  "movieId": 3440,
                  "title": "Teenage Mutant Ninja Turtles III (1993)",
                  "year": 1993
                },
                "scale_factor": 1,
                "size": [
                  55,
                  55
                ],
                "styles": {},
                "type": "#2456d4"
              },
              {
                "color": "#2456d4",
                "id": 214,
                "label": "Movie_3441",
                "position": [
                  0,
                  0
                ],
                "properties": {
                  "Movie": true,
                  "_id": {
                    "offset": 6261,
                    "table": 0
                  },
                  "_label": "Movie",
                  "genres": "Action|Drama|War",
                  "label": "Movie_3441",
                  "movieId": 3441,
                  "title": "Red Dawn (1984)",
                  "year": 1984
                },
                "scale_factor": 1,
                "size": [
                  55,
                  55
                ],
                "styles": {},
                "type": "#2456d4"
              },
              {
                "color": "#2456d4",
                "id": 215,
                "label": "Movie_3448",
                "position": [
                  0,
                  0
                ],
                "properties": {
                  "Movie": true,
                  "_id": {
                    "offset": 6267,
                    "table": 0
                  },
                  "_label": "Movie",
                  "genres": "Comedy|Drama|War",
                  "label": "Movie_3448",
                  "movieId": 3448,
                  "title": "Good Morning, Vietnam (1987)",
                  "year": 1987
                },
                "scale_factor": 1,
                "size": [
                  55,
                  55
                ],
                "styles": {},
                "type": "#2456d4"
              },
              {
                "color": "#2456d4",
                "id": 216,
                "label": "Movie_3450",
                "position": [
                  0,
                  0
                ],
                "properties": {
                  "Movie": true,
                  "_id": {
                    "offset": 6269,
                    "table": 0
                  },
                  "_label": "Movie",
                  "genres": "Comedy",
                  "label": "Movie_3450",
                  "movieId": 3450,
                  "title": "Grumpy Old Men (1993)",
                  "year": 1993
                },
                "scale_factor": 1,
                "size": [
                  55,
                  55
                ],
                "styles": {},
                "type": "#2456d4"
              },
              {
                "color": "#2456d4",
                "id": 217,
                "label": "Movie_3479",
                "position": [
                  0,
                  0
                ],
                "properties": {
                  "Movie": true,
                  "_id": {
                    "offset": 6291,
                    "table": 0
                  },
                  "_label": "Movie",
                  "genres": "Adventure|Fantasy|Romance",
                  "label": "Movie_3479",
                  "movieId": 3479,
                  "title": "Ladyhawke (1985)",
                  "year": 1985
                },
                "scale_factor": 1,
                "size": [
                  55,
                  55
                ],
                "styles": {},
                "type": "#2456d4"
              },
              {
                "color": "#2456d4",
                "id": 218,
                "label": "Movie_3489",
                "position": [
                  0,
                  0
                ],
                "properties": {
                  "Movie": true,
                  "_id": {
                    "offset": 6296,
                    "table": 0
                  },
                  "_label": "Movie",
                  "genres": "Adventure|Comedy|Fantasy",
                  "label": "Movie_3489",
                  "movieId": 3489,
                  "title": "Hook (1991)",
                  "year": 1991
                },
                "scale_factor": 1,
                "size": [
                  55,
                  55
                ],
                "styles": {},
                "type": "#2456d4"
              },
              {
                "color": "#2456d4",
                "id": 219,
                "label": "Movie_3527",
                "position": [
                  0,
                  0
                ],
                "properties": {
                  "Movie": true,
                  "_id": {
                    "offset": 6324,
                    "table": 0
                  },
                  "_label": "Movie",
                  "genres": "Action|Sci-Fi|Thriller",
                  "label": "Movie_3527",
                  "movieId": 3527,
                  "title": "Predator (1987)",
                  "year": 1987
                },
                "scale_factor": 1,
                "size": [
                  55,
                  55
                ],
                "styles": {},
                "type": "#2456d4"
              },
              {
                "color": "#2456d4",
                "id": 220,
                "label": "Movie_3578",
                "position": [
                  0,
                  0
                ],
                "properties": {
                  "Movie": true,
                  "_id": {
                    "offset": 6362,
                    "table": 0
                  },
                  "_label": "Movie",
                  "genres": "Action|Adventure|Drama",
                  "label": "Movie_3578",
                  "movieId": 3578,
                  "title": "Gladiator (2000)",
                  "year": 2000
                },
                "scale_factor": 1,
                "size": [
                  55,
                  55
                ],
                "styles": {},
                "type": "#2456d4"
              },
              {
                "color": "#2456d4",
                "id": 221,
                "label": "Movie_3617",
                "position": [
                  0,
                  0
                ],
                "properties": {
                  "Movie": true,
                  "_id": {
                    "offset": 180,
                    "table": 0
                  },
                  "_label": "Movie",
                  "genres": "Comedy",
                  "label": "Movie_3617",
                  "movieId": 3617,
                  "title": "Road Trip (2000)",
                  "year": 2000
                },
                "scale_factor": 1,
                "size": [
                  55,
                  55
                ],
                "styles": {},
                "type": "#2456d4"
              },
              {
                "color": "#2456d4",
                "id": 222,
                "label": "Movie_3639",
                "position": [
                  0,
                  0
                ],
                "properties": {
                  "Movie": true,
                  "_id": {
                    "offset": 197,
                    "table": 0
                  },
                  "_label": "Movie",
                  "genres": "Action|Adventure|Thriller",
                  "label": "Movie_3639",
                  "movieId": 3639,
                  "title": "Man with the Golden Gun, The (1974)",
                  "year": 1974
                },
                "scale_factor": 1,
                "size": [
                  55,
                  55
                ],
                "styles": {},
                "type": "#2456d4"
              },
              {
                "color": "#2456d4",
                "id": 223,
                "label": "Movie_3671",
                "position": [
                  0,
                  0
                ],
                "properties": {
                  "Movie": true,
                  "_id": {
                    "offset": 217,
                    "table": 0
                  },
                  "_label": "Movie",
                  "genres": "Comedy|Western",
                  "label": "Movie_3671",
                  "movieId": 3671,
                  "title": "Blazing Saddles (1974)",
                  "year": 1974
                },
                "scale_factor": 1,
                "size": [
                  55,
                  55
                ],
                "styles": {},
                "type": "#2456d4"
              },
              {
                "color": "#2456d4",
                "id": 224,
                "label": "Movie_3702",
                "position": [
                  0,
                  0
                ],
                "properties": {
                  "Movie": true,
                  "_id": {
                    "offset": 248,
                    "table": 0
                  },
                  "_label": "Movie",
                  "genres": "Action|Adventure|Sci-Fi",
                  "label": "Movie_3702",
                  "movieId": 3702,
                  "title": "Mad Max (1979)",
                  "year": 1979
                },
                "scale_factor": 1,
                "size": [
                  55,
                  55
                ],
                "styles": {},
                "type": "#2456d4"
              },
              {
                "color": "#2456d4",
                "id": 225,
                "label": "Movie_3703",
                "position": [
                  0,
                  0
                ],
                "properties": {
                  "Movie": true,
                  "_id": {
                    "offset": 249,
                    "table": 0
                  },
                  "_label": "Movie",
                  "genres": "Action|Adventure|Sci-Fi|Thriller",
                  "label": "Movie_3703",
                  "movieId": 3703,
                  "title": "Road Warrior, The (Mad Max 2) (1981)",
                  "year": 1981
                },
                "scale_factor": 1,
                "size": [
                  55,
                  55
                ],
                "styles": {},
                "type": "#2456d4"
              },
              {
                "color": "#2456d4",
                "id": 226,
                "label": "Movie_3729",
                "position": [
                  0,
                  0
                ],
                "properties": {
                  "Movie": true,
                  "_id": {
                    "offset": 272,
                    "table": 0
                  },
                  "_label": "Movie",
                  "genres": "Action|Crime|Drama|Thriller",
                  "label": "Movie_3729",
                  "movieId": 3729,
                  "title": "Shaft (1971)",
                  "year": 1971
                },
                "scale_factor": 1,
                "size": [
                  55,
                  55
                ],
                "styles": {},
                "type": "#2456d4"
              },
              {
                "color": "#2456d4",
                "id": 227,
                "label": "Movie_3740",
                "position": [
                  0,
                  0
                ],
                "properties": {
                  "Movie": true,
                  "_id": {
                    "offset": 282,
                    "table": 0
                  },
                  "_label": "Movie",
                  "genres": "Action|Adventure|Comedy|Fantasy",
                  "label": "Movie_3740",
                  "movieId": 3740,
                  "title": "Big Trouble in Little China (1986)",
                  "year": 1986
                },
                "scale_factor": 1,
                "size": [
                  55,
                  55
                ],
                "styles": {},
                "type": "#2456d4"
              },
              {
                "color": "#2456d4",
                "id": 228,
                "label": "Movie_3744",
                "position": [
                  0,
                  0
                ],
                "properties": {
                  "Movie": true,
                  "_id": {
                    "offset": 286,
                    "table": 0
                  },
                  "_label": "Movie",
                  "genres": "Action|Crime|Thriller",
                  "label": "Movie_3744",
                  "movieId": 3744,
                  "title": "Shaft (2000)",
                  "year": 2000
                },
                "scale_factor": 1,
                "size": [
                  55,
                  55
                ],
                "styles": {},
                "type": "#2456d4"
              },
              {
                "color": "#2456d4",
                "id": 229,
                "label": "Movie_3793",
                "position": [
                  0,
                  0
                ],
                "properties": {
                  "Movie": true,
                  "_id": {
                    "offset": 6371,
                    "table": 0
                  },
                  "_label": "Movie",
                  "genres": "Action|Adventure|Sci-Fi",
                  "label": "Movie_3793",
                  "movieId": 3793,
                  "title": "X-Men (2000)",
                  "year": 2000
                },
                "scale_factor": 1,
                "size": [
                  55,
                  55
                ],
                "styles": {},
                "type": "#2456d4"
              },
              {
                "color": "#2456d4",
                "id": 230,
                "label": "Movie_3809",
                "position": [
                  0,
                  0
                ],
                "properties": {
                  "Movie": true,
                  "_id": {
                    "offset": 6382,
                    "table": 0
                  },
                  "_label": "Movie",
                  "genres": "Comedy",
                  "label": "Movie_3809",
                  "movieId": 3809,
                  "title": "What About Bob? (1991)",
                  "year": 1991
                },
                "scale_factor": 1,
                "size": [
                  55,
                  55
                ],
                "styles": {},
                "type": "#2456d4"
              },
              {
                "color": "#2456d4",
                "id": 231,
                "label": "Movie_4006",
                "position": [
                  0,
                  0
                ],
                "properties": {
                  "Movie": true,
                  "_id": {
                    "offset": 6526,
                    "table": 0
                  },
                  "_label": "Movie",
                  "genres": "Adventure|Animation|Children|Sci-Fi",
                  "label": "Movie_4006",
                  "movieId": 4006,
                  "title": "Transformers: The Movie (1986)",
                  "year": 1986
                },
                "scale_factor": 1,
                "size": [
                  55,
                  55
                ],
                "styles": {},
                "type": "#2456d4"
              },
              {
                "color": "#2456d4",
                "id": 232,
                "label": "Movie_5060",
                "position": [
                  0,
                  0
                ],
                "properties": {
                  "Movie": true,
                  "_id": {
                    "offset": 691,
                    "table": 0
                  },
                  "_label": "Movie",
                  "genres": "Comedy|Drama|War",
                  "label": "Movie_5060",
                  "movieId": 5060,
                  "title": "M*A*S*H (a.k.a. MASH) (1970)",
                  "year": 1970
                },
                "scale_factor": 1,
                "size": [
                  55,
                  55
                ],
                "styles": {},
                "type": "#2456d4"
              },
              {
                "color": "#eb4934",
                "id": 233,
                "label": "User_2",
                "position": [
                  0,
                  0
                ],
                "properties": {
                  "User": true,
                  "_id": {
                    "offset": 1,
                    "table": 1
                  },
                  "_label": "User",
                  "label": "User_2",
                  "userId": 2
                },
                "scale_factor": 1,
                "size": [
                  55,
                  55
                ],
                "styles": {},
                "type": "#eb4934"
              },
              {
                "color": "#2456d4",
                "id": 234,
                "label": "Movie_318",
                "position": [
                  0,
                  0
                ],
                "properties": {
                  "Movie": true,
                  "_id": {
                    "offset": 4130,
                    "table": 0
                  },
                  "_label": "Movie",
                  "genres": "Crime|Drama",
                  "label": "Movie_318",
                  "movieId": 318,
                  "title": "Shawshank Redemption, The (1994)",
                  "year": 1994
                },
                "scale_factor": 1,
                "size": [
                  55,
                  55
                ],
                "styles": {},
                "type": "#2456d4"
              },
              {
                "color": "#2456d4",
                "id": 235,
                "label": "Movie_1704",
                "position": [
                  0,
                  0
                ],
                "properties": {
                  "Movie": true,
                  "_id": {
                    "offset": 5137,
                    "table": 0
                  },
                  "_label": "Movie",
                  "genres": "Drama|Romance",
                  "label": "Movie_1704",
                  "movieId": 1704,
                  "title": "Good Will Hunting (1997)",
                  "year": 1997
                },
                "scale_factor": 1,
                "size": [
                  55,
                  55
                ],
                "styles": {},
                "type": "#2456d4"
              },
              {
                "color": "#2456d4",
                "id": 236,
                "label": "Movie_6874",
                "position": [
                  0,
                  0
                ],
                "properties": {
                  "Movie": true,
                  "_id": {
                    "offset": 1184,
                    "table": 0
                  },
                  "_label": "Movie",
                  "genres": "Action|Crime|Thriller",
                  "label": "Movie_6874",
                  "movieId": 6874,
                  "title": "Kill Bill: Vol. 1 (2003)",
                  "year": 2003
                },
                "scale_factor": 1,
                "size": [
                  55,
                  55
                ],
                "styles": {},
                "type": "#2456d4"
              },
              {
                "color": "#2456d4",
                "id": 237,
                "label": "Movie_8798",
                "position": [
                  0,
                  0
                ],
                "properties": {
                  "Movie": true,
                  "_id": {
                    "offset": 7594,
                    "table": 0
                  },
                  "_label": "Movie",
                  "genres": "Action|Crime|Drama|Thriller",
                  "label": "Movie_8798",
                  "movieId": 8798,
                  "title": "Collateral (2004)",
                  "year": 2004
                },
                "scale_factor": 1,
                "size": [
                  55,
                  55
                ],
                "styles": {},
                "type": "#2456d4"
              },
              {
                "color": "#2456d4",
                "id": 238,
                "label": "Movie_46970",
                "position": [
                  0,
                  0
                ],
                "properties": {
                  "Movie": true,
                  "_id": {
                    "offset": 8135,
                    "table": 0
                  },
                  "_label": "Movie",
                  "genres": "Action|Comedy",
                  "label": "Movie_46970",
                  "movieId": 46970,
                  "title": "Talladega Nights: The Ballad of Ricky Bobby (2006)",
                  "year": 2006
                },
                "scale_factor": 1,
                "size": [
                  55,
                  55
                ],
                "styles": {},
                "type": "#2456d4"
              },
              {
                "color": "#2456d4",
                "id": 239,
                "label": "Movie_48516",
                "position": [
                  0,
                  0
                ],
                "properties": {
                  "Movie": true,
                  "_id": {
                    "offset": 2029,
                    "table": 0
                  },
                  "_label": "Movie",
                  "genres": "Crime|Drama|Thriller",
                  "label": "Movie_48516",
                  "movieId": 48516,
                  "title": "Departed, The (2006)",
                  "year": 2006
                },
                "scale_factor": 1,
                "size": [
                  55,
                  55
                ],
                "styles": {},
                "type": "#2456d4"
              },
              {
                "color": "#2456d4",
                "id": 240,
                "label": "Movie_58559",
                "position": [
                  0,
                  0
                ],
                "properties": {
                  "Movie": true,
                  "_id": {
                    "offset": 2281,
                    "table": 0
                  },
                  "_label": "Movie",
                  "genres": "Action|Crime|Drama|IMAX",
                  "label": "Movie_58559",
                  "movieId": 58559,
                  "title": "Dark Knight, The (2008)",
                  "year": 2008
                },
                "scale_factor": 1,
                "size": [
                  55,
                  55
                ],
                "styles": {},
                "type": "#2456d4"
              },
              {
                "color": "#2456d4",
                "id": 241,
                "label": "Movie_60756",
                "position": [
                  0,
                  0
                ],
                "properties": {
                  "Movie": true,
                  "_id": {
                    "offset": 2372,
                    "table": 0
                  },
                  "_label": "Movie",
                  "genres": "Comedy",
                  "label": "Movie_60756",
                  "movieId": 60756,
                  "title": "Step Brothers (2008)",
                  "year": 2008
                },
                "scale_factor": 1,
                "size": [
                  55,
                  55
                ],
                "styles": {},
                "type": "#2456d4"
              },
              {
                "color": "#2456d4",
                "id": 242,
                "label": "Movie_68157",
                "position": [
                  0,
                  0
                ],
                "properties": {
                  "Movie": true,
                  "_id": {
                    "offset": 8458,
                    "table": 0
                  },
                  "_label": "Movie",
                  "genres": "Action|Drama|War",
                  "label": "Movie_68157",
                  "movieId": 68157,
                  "title": "Inglourious Basterds (2009)",
                  "year": 2009
                },
                "scale_factor": 1,
                "size": [
                  55,
                  55
                ],
                "styles": {},
                "type": "#2456d4"
              },
              {
                "color": "#2456d4",
                "id": 243,
                "label": "Movie_71535",
                "position": [
                  0,
                  0
                ],
                "properties": {
                  "Movie": true,
                  "_id": {
                    "offset": 2441,
                    "table": 0
                  },
                  "_label": "Movie",
                  "genres": "Action|Comedy|Horror",
                  "label": "Movie_71535",
                  "movieId": 71535,
                  "title": "Zombieland (2009)",
                  "year": 2009
                },
                "scale_factor": 1,
                "size": [
                  55,
                  55
                ],
                "styles": {},
                "type": "#2456d4"
              },
              {
                "color": "#2456d4",
                "id": 244,
                "label": "Movie_74458",
                "position": [
                  0,
                  0
                ],
                "properties": {
                  "Movie": true,
                  "_id": {
                    "offset": 8573,
                    "table": 0
                  },
                  "_label": "Movie",
                  "genres": "Drama|Mystery|Thriller",
                  "label": "Movie_74458",
                  "movieId": 74458,
                  "title": "Shutter Island (2010)",
                  "year": 2010
                },
                "scale_factor": 1,
                "size": [
                  55,
                  55
                ],
                "styles": {},
                "type": "#2456d4"
              },
              {
                "color": "#2456d4",
                "id": 245,
                "label": "Movie_77455",
                "position": [
                  0,
                  0
                ],
                "properties": {
                  "Movie": true,
                  "_id": {
                    "offset": 8638,
                    "table": 0
                  },
                  "_label": "Movie",
                  "genres": "Comedy|Documentary",
                  "label": "Movie_77455",
                  "movieId": 77455,
                  "title": "Exit Through the Gift Shop (2010)",
                  "year": 2010
                },
                "scale_factor": 1,
                "size": [
                  55,
                  55
                ],
                "styles": {},
                "type": "#2456d4"
              },
              {
                "color": "#2456d4",
                "id": 246,
                "label": "Movie_79132",
                "position": [
                  0,
                  0
                ],
                "properties": {
                  "Movie": true,
                  "_id": {
                    "offset": 8687,
                    "table": 0
                  },
                  "_label": "Movie",
                  "genres": "Action|Crime|Drama|Mystery|Sci-Fi|Thriller|IMAX",
                  "label": "Movie_79132",
                  "movieId": 79132,
                  "title": "Inception (2010)",
                  "year": 2010
                },
                "scale_factor": 1,
                "size": [
                  55,
                  55
                ],
                "styles": {},
                "type": "#2456d4"
              },
              {
                "color": "#2456d4",
                "id": 247,
                "label": "Movie_80489",
                "position": [
                  0,
                  0
                ],
                "properties": {
                  "Movie": true,
                  "_id": {
                    "offset": 2560,
                    "table": 0
                  },
                  "_label": "Movie",
                  "genres": "Crime|Drama|Thriller",
                  "label": "Movie_80489",
                  "movieId": 80489,
                  "title": "Town, The (2010)",
                  "year": 2010
                },
                "scale_factor": 1,
                "size": [
                  55,
                  55
                ],
                "styles": {},
                "type": "#2456d4"
              },
              {
                "color": "#2456d4",
                "id": 248,
                "label": "Movie_80906",
                "position": [
                  0,
                  0
                ],
                "properties": {
                  "Movie": true,
                  "_id": {
                    "offset": 2581,
                    "table": 0
                  },
                  "_label": "Movie",
                  "genres": "Documentary",
                  "label": "Movie_80906",
                  "movieId": 80906,
                  "title": "Inside Job (2010)",
                  "year": 2010
                },
                "scale_factor": 1,
                "size": [
                  55,
                  55
                ],
                "styles": {},
                "type": "#2456d4"
              },
              {
                "color": "#2456d4",
                "id": 249,
                "label": "Movie_86345",
                "position": [
                  0,
                  0
                ],
                "properties": {
                  "Movie": true,
                  "_id": {
                    "offset": 8760,
                    "table": 0
                  },
                  "_label": "Movie",
                  "genres": "Comedy",
                  "label": "Movie_86345",
                  "movieId": 86345,
                  "title": "Louis C.K.: Hilarious (2010)",
                  "year": 2010
                },
                "scale_factor": 1,
                "size": [
                  55,
                  55
                ],
                "styles": {},
                "type": "#2456d4"
              }
            ],
            "_overview": {
              "enabled": null,
              "overview_set": false
            },
            "_selected_graph": [
              [],
              []
            ],
            "_sidebar": {
              "enabled": false,
              "start_with": ""
            },
            "_view_count": null,
            "_view_module": "yfiles-jupyter-graphs",
            "_view_module_version": "^1.6.1",
            "_view_name": "GraphView",
            "layout": "IPY_MODEL_c0bef25a2d414726912f87b902401df2"
          }
        }
      }
    }
  },
  "nbformat": 4,
  "nbformat_minor": 0
}
